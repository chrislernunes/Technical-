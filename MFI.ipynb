{
 "cells": [
  {
   "cell_type": "markdown",
   "metadata": {},
   "source": [
    "# Money Flow Index (MFI)"
   ]
  },
  {
   "cell_type": "markdown",
   "metadata": {},
   "source": [
    "Money Flow Index (MFI) is a technical oscillator that uses price and volume for identifying overbought or oversold conditions in an asset. It can also be used to spot divergences which warn of a trend change in price. The oscillator moves between 0 and 100.\n",
    "\n",
    "https://www.investopedia.com/terms/m/mfi.asp"
   ]
  },
  {
   "cell_type": "code",
   "execution_count": 1,
   "metadata": {
    "collapsed": false,
    "inputHidden": false,
    "jupyter": {
     "outputs_hidden": false
    },
    "outputHidden": false
   },
   "outputs": [],
   "source": [
    "import numpy as np\n",
    "import pandas as pd\n",
    "import matplotlib.pyplot as plt\n",
    "\n",
    "import warnings\n",
    "warnings.filterwarnings(\"ignore\")\n",
    "\n",
    "# fix_yahoo_finance is used to fetch data \n",
    "import yfinance as yf\n",
    "yf.pdr_override()"
   ]
  },
  {
   "cell_type": "code",
   "execution_count": 2,
   "metadata": {
    "collapsed": false,
    "inputHidden": false,
    "jupyter": {
     "outputs_hidden": false
    },
    "outputHidden": false
   },
   "outputs": [
    {
     "name": "stdout",
     "output_type": "stream",
     "text": [
      "[*********************100%***********************]  1 of 1 completed\n"
     ]
    },
    {
     "data": {
      "text/html": [
       "<div>\n",
       "<style scoped>\n",
       "    .dataframe tbody tr th:only-of-type {\n",
       "        vertical-align: middle;\n",
       "    }\n",
       "\n",
       "    .dataframe tbody tr th {\n",
       "        vertical-align: top;\n",
       "    }\n",
       "\n",
       "    .dataframe thead th {\n",
       "        text-align: right;\n",
       "    }\n",
       "</style>\n",
       "<table border=\"1\" class=\"dataframe\">\n",
       "  <thead>\n",
       "    <tr style=\"text-align: right;\">\n",
       "      <th></th>\n",
       "      <th>Open</th>\n",
       "      <th>High</th>\n",
       "      <th>Low</th>\n",
       "      <th>Close</th>\n",
       "      <th>Adj Close</th>\n",
       "      <th>Volume</th>\n",
       "    </tr>\n",
       "    <tr>\n",
       "      <th>Date</th>\n",
       "      <th></th>\n",
       "      <th></th>\n",
       "      <th></th>\n",
       "      <th></th>\n",
       "      <th></th>\n",
       "      <th></th>\n",
       "    </tr>\n",
       "  </thead>\n",
       "  <tbody>\n",
       "    <tr>\n",
       "      <th>2020-01-01 00:00:00+05:30</th>\n",
       "      <td>539.900024</td>\n",
       "      <td>542.500000</td>\n",
       "      <td>535.700012</td>\n",
       "      <td>536.750000</td>\n",
       "      <td>531.990540</td>\n",
       "      <td>7642793</td>\n",
       "    </tr>\n",
       "    <tr>\n",
       "      <th>2020-01-02 00:00:00+05:30</th>\n",
       "      <td>536.000000</td>\n",
       "      <td>541.900024</td>\n",
       "      <td>535.849976</td>\n",
       "      <td>540.599976</td>\n",
       "      <td>535.806335</td>\n",
       "      <td>10264223</td>\n",
       "    </tr>\n",
       "    <tr>\n",
       "      <th>2020-01-03 00:00:00+05:30</th>\n",
       "      <td>538.000000</td>\n",
       "      <td>540.799988</td>\n",
       "      <td>536.250000</td>\n",
       "      <td>538.849976</td>\n",
       "      <td>534.071838</td>\n",
       "      <td>9594690</td>\n",
       "    </tr>\n",
       "    <tr>\n",
       "      <th>2020-01-06 00:00:00+05:30</th>\n",
       "      <td>537.250000</td>\n",
       "      <td>537.250000</td>\n",
       "      <td>523.799988</td>\n",
       "      <td>525.700012</td>\n",
       "      <td>521.038513</td>\n",
       "      <td>12534334</td>\n",
       "    </tr>\n",
       "    <tr>\n",
       "      <th>2020-01-07 00:00:00+05:30</th>\n",
       "      <td>531.299988</td>\n",
       "      <td>535.599976</td>\n",
       "      <td>521.650024</td>\n",
       "      <td>522.900024</td>\n",
       "      <td>518.263306</td>\n",
       "      <td>16101835</td>\n",
       "    </tr>\n",
       "  </tbody>\n",
       "</table>\n",
       "</div>"
      ],
      "text/plain": [
       "                                 Open        High         Low       Close  \\\n",
       "Date                                                                        \n",
       "2020-01-01 00:00:00+05:30  539.900024  542.500000  535.700012  536.750000   \n",
       "2020-01-02 00:00:00+05:30  536.000000  541.900024  535.849976  540.599976   \n",
       "2020-01-03 00:00:00+05:30  538.000000  540.799988  536.250000  538.849976   \n",
       "2020-01-06 00:00:00+05:30  537.250000  537.250000  523.799988  525.700012   \n",
       "2020-01-07 00:00:00+05:30  531.299988  535.599976  521.650024  522.900024   \n",
       "\n",
       "                            Adj Close    Volume  \n",
       "Date                                             \n",
       "2020-01-01 00:00:00+05:30  531.990540   7642793  \n",
       "2020-01-02 00:00:00+05:30  535.806335  10264223  \n",
       "2020-01-03 00:00:00+05:30  534.071838   9594690  \n",
       "2020-01-06 00:00:00+05:30  521.038513  12534334  \n",
       "2020-01-07 00:00:00+05:30  518.263306  16101835  "
      ]
     },
     "execution_count": 2,
     "metadata": {},
     "output_type": "execute_result"
    }
   ],
   "source": [
    "# input\n",
    "symbol = 'icicibank.ns'\n",
    "start = '2020-01-01'\n",
    "end = '2023-01-01'\n",
    "\n",
    "# Read data \n",
    "df = yf.download(symbol,start,end)\n",
    "\n",
    "# View Columns\n",
    "df.head()"
   ]
  },
  {
   "cell_type": "code",
   "execution_count": 3,
   "metadata": {
    "collapsed": false,
    "inputHidden": false,
    "jupyter": {
     "outputs_hidden": false
    },
    "outputHidden": false
   },
   "outputs": [],
   "source": [
    "import talib as ta"
   ]
  },
  {
   "cell_type": "code",
   "execution_count": 4,
   "metadata": {
    "collapsed": false,
    "inputHidden": false,
    "jupyter": {
     "outputs_hidden": false
    },
    "outputHidden": false
   },
   "outputs": [],
   "source": [
    "df['MFI'] = ta.MFI(df['High'], df['Low'],df['Adj Close'], df['Volume'], timeperiod=14)"
   ]
  },
  {
   "cell_type": "code",
   "execution_count": 5,
   "metadata": {
    "collapsed": false,
    "inputHidden": false,
    "jupyter": {
     "outputs_hidden": false
    },
    "outputHidden": false
   },
   "outputs": [
    {
     "data": {
      "text/html": [
       "<div>\n",
       "<style scoped>\n",
       "    .dataframe tbody tr th:only-of-type {\n",
       "        vertical-align: middle;\n",
       "    }\n",
       "\n",
       "    .dataframe tbody tr th {\n",
       "        vertical-align: top;\n",
       "    }\n",
       "\n",
       "    .dataframe thead th {\n",
       "        text-align: right;\n",
       "    }\n",
       "</style>\n",
       "<table border=\"1\" class=\"dataframe\">\n",
       "  <thead>\n",
       "    <tr style=\"text-align: right;\">\n",
       "      <th></th>\n",
       "      <th>Open</th>\n",
       "      <th>High</th>\n",
       "      <th>Low</th>\n",
       "      <th>Close</th>\n",
       "      <th>Adj Close</th>\n",
       "      <th>Volume</th>\n",
       "      <th>MFI</th>\n",
       "    </tr>\n",
       "    <tr>\n",
       "      <th>Date</th>\n",
       "      <th></th>\n",
       "      <th></th>\n",
       "      <th></th>\n",
       "      <th></th>\n",
       "      <th></th>\n",
       "      <th></th>\n",
       "      <th></th>\n",
       "    </tr>\n",
       "  </thead>\n",
       "  <tbody>\n",
       "    <tr>\n",
       "      <th>2022-12-26 00:00:00+05:30</th>\n",
       "      <td>881.099976</td>\n",
       "      <td>897.000000</td>\n",
       "      <td>875.250000</td>\n",
       "      <td>893.200012</td>\n",
       "      <td>893.200012</td>\n",
       "      <td>6943159</td>\n",
       "      <td>43.961834</td>\n",
       "    </tr>\n",
       "    <tr>\n",
       "      <th>2022-12-27 00:00:00+05:30</th>\n",
       "      <td>897.700012</td>\n",
       "      <td>902.750000</td>\n",
       "      <td>888.200012</td>\n",
       "      <td>900.650024</td>\n",
       "      <td>900.650024</td>\n",
       "      <td>4994381</td>\n",
       "      <td>39.087298</td>\n",
       "    </tr>\n",
       "    <tr>\n",
       "      <th>2022-12-28 00:00:00+05:30</th>\n",
       "      <td>896.000000</td>\n",
       "      <td>903.950012</td>\n",
       "      <td>895.799988</td>\n",
       "      <td>898.950012</td>\n",
       "      <td>898.950012</td>\n",
       "      <td>8980300</td>\n",
       "      <td>38.367227</td>\n",
       "    </tr>\n",
       "    <tr>\n",
       "      <th>2022-12-29 00:00:00+05:30</th>\n",
       "      <td>897.900024</td>\n",
       "      <td>923.349976</td>\n",
       "      <td>889.349976</td>\n",
       "      <td>908.049988</td>\n",
       "      <td>908.049988</td>\n",
       "      <td>11994220</td>\n",
       "      <td>39.416984</td>\n",
       "    </tr>\n",
       "    <tr>\n",
       "      <th>2022-12-30 00:00:00+05:30</th>\n",
       "      <td>908.500000</td>\n",
       "      <td>908.500000</td>\n",
       "      <td>888.549988</td>\n",
       "      <td>890.849976</td>\n",
       "      <td>890.849976</td>\n",
       "      <td>9688527</td>\n",
       "      <td>39.152258</td>\n",
       "    </tr>\n",
       "  </tbody>\n",
       "</table>\n",
       "</div>"
      ],
      "text/plain": [
       "                                 Open        High         Low       Close  \\\n",
       "Date                                                                        \n",
       "2022-12-26 00:00:00+05:30  881.099976  897.000000  875.250000  893.200012   \n",
       "2022-12-27 00:00:00+05:30  897.700012  902.750000  888.200012  900.650024   \n",
       "2022-12-28 00:00:00+05:30  896.000000  903.950012  895.799988  898.950012   \n",
       "2022-12-29 00:00:00+05:30  897.900024  923.349976  889.349976  908.049988   \n",
       "2022-12-30 00:00:00+05:30  908.500000  908.500000  888.549988  890.849976   \n",
       "\n",
       "                            Adj Close    Volume        MFI  \n",
       "Date                                                        \n",
       "2022-12-26 00:00:00+05:30  893.200012   6943159  43.961834  \n",
       "2022-12-27 00:00:00+05:30  900.650024   4994381  39.087298  \n",
       "2022-12-28 00:00:00+05:30  898.950012   8980300  38.367227  \n",
       "2022-12-29 00:00:00+05:30  908.049988  11994220  39.416984  \n",
       "2022-12-30 00:00:00+05:30  890.849976   9688527  39.152258  "
      ]
     },
     "execution_count": 5,
     "metadata": {},
     "output_type": "execute_result"
    }
   ],
   "source": [
    "df.tail()"
   ]
  },
  {
   "cell_type": "code",
   "execution_count": 6,
   "metadata": {
    "collapsed": false,
    "inputHidden": false,
    "jupyter": {
     "outputs_hidden": false
    },
    "outputHidden": false
   },
   "outputs": [],
   "source": [
    "df['Positive'] = df['MFI'] > 0"
   ]
  },
  {
   "cell_type": "code",
   "execution_count": 7,
   "metadata": {
    "collapsed": false,
    "inputHidden": false,
    "jupyter": {
     "outputs_hidden": false
    },
    "outputHidden": false
   },
   "outputs": [
    {
     "data": {
      "text/plain": [
       "Text(0.5, 0, 'Date')"
      ]
     },
     "execution_count": 7,
     "metadata": {},
     "output_type": "execute_result"
    },
    {
     "data": {
      "image/png": "[encoded data removed]",
      "text/plain": [
       "<Figure size 1008x720 with 2 Axes>"
      ]
     },
     "metadata": {
      "needs_background": "light"
     },
     "output_type": "display_data"
    }
   ],
   "source": [
    "df['MFI'] = ta.MFI(df['High'], df['Low'],df['Adj Close'], df['Volume'], timeperiod=14)# Line Chart\n",
    "fig = plt.figure(figsize=(14,10))\n",
    "ax1 = plt.subplot(2, 1, 1)\n",
    "ax1.plot(df.index, df['Adj Close'])\n",
    "ax1.axhline(y=df['Adj Close'].mean(),color='r')\n",
    "ax1.axhline(y=df['Adj Close'].max(),color='b')\n",
    "ax1.axhline(y=df['Adj Close'].min(),color='b')\n",
    "ax1.text(s='Max Price', x=df['Adj Close'].index[0], y=df['Adj Close'].max(), fontsize=14)\n",
    "ax1.text(s='Min Price', x=df['Adj Close'].index[0], y=df['Adj Close'].min(), fontsize=14)\n",
    "ax1.set_ylabel('Price')\n",
    "ax1.grid()\n",
    "\n",
    "ax2 = plt.subplot(2, 1, 2)\n",
    "# ax2.bar(df.index, df['MFI'], color=df.Positive.map({True: 'g', False: 'r'}))\n",
    "ax2.bar(df.index, df['MFI'])\n",
    "ax2.grid()\n",
    "ax2.set_ylabel('Money Flow Index')\n",
    "ax2.set_xlabel('Date')"
   ]
  },
  {
   "cell_type": "markdown",
   "metadata": {},
   "source": [
    "## Candlestick with MFI"
   ]
  },
  {
   "cell_type": "code",
   "execution_count": 8,
   "metadata": {
    "collapsed": false,
    "inputHidden": false,
    "jupyter": {
     "outputs_hidden": false
    },
    "outputHidden": false
   },
   "outputs": [
    {
     "data": {
      "text/html": [
       "<div>\n",
       "<style scoped>\n",
       "    .dataframe tbody tr th:only-of-type {\n",
       "        vertical-align: middle;\n",
       "    }\n",
       "\n",
       "    .dataframe tbody tr th {\n",
       "        vertical-align: top;\n",
       "    }\n",
       "\n",
       "    .dataframe thead th {\n",
       "        text-align: right;\n",
       "    }\n",
       "</style>\n",
       "<table border=\"1\" class=\"dataframe\">\n",
       "  <thead>\n",
       "    <tr style=\"text-align: right;\">\n",
       "      <th></th>\n",
       "      <th>Date</th>\n",
       "      <th>Open</th>\n",
       "      <th>High</th>\n",
       "      <th>Low</th>\n",
       "      <th>Close</th>\n",
       "      <th>Adj Close</th>\n",
       "      <th>Volume</th>\n",
       "      <th>MFI</th>\n",
       "      <th>Positive</th>\n",
       "      <th>VolumePositive</th>\n",
       "    </tr>\n",
       "  </thead>\n",
       "  <tbody>\n",
       "    <tr>\n",
       "      <th>0</th>\n",
       "      <td>18281.770833</td>\n",
       "      <td>532.950012</td>\n",
       "      <td>540.250000</td>\n",
       "      <td>530.200012</td>\n",
       "      <td>531.049988</td>\n",
       "      <td>526.341064</td>\n",
       "      <td>13477994</td>\n",
       "      <td>37.730056</td>\n",
       "      <td>True</td>\n",
       "      <td>False</td>\n",
       "    </tr>\n",
       "    <tr>\n",
       "      <th>1</th>\n",
       "      <td>18282.770833</td>\n",
       "      <td>531.500000</td>\n",
       "      <td>534.950012</td>\n",
       "      <td>520.750000</td>\n",
       "      <td>522.849976</td>\n",
       "      <td>518.213745</td>\n",
       "      <td>17527408</td>\n",
       "      <td>31.224779</td>\n",
       "      <td>True</td>\n",
       "      <td>False</td>\n",
       "    </tr>\n",
       "    <tr>\n",
       "      <th>2</th>\n",
       "      <td>18283.770833</td>\n",
       "      <td>521.400024</td>\n",
       "      <td>530.250000</td>\n",
       "      <td>517.049988</td>\n",
       "      <td>527.700012</td>\n",
       "      <td>523.020752</td>\n",
       "      <td>17061293</td>\n",
       "      <td>30.151968</td>\n",
       "      <td>True</td>\n",
       "      <td>True</td>\n",
       "    </tr>\n",
       "    <tr>\n",
       "      <th>3</th>\n",
       "      <td>18284.770833</td>\n",
       "      <td>529.250000</td>\n",
       "      <td>537.400024</td>\n",
       "      <td>527.000000</td>\n",
       "      <td>533.849976</td>\n",
       "      <td>529.116211</td>\n",
       "      <td>17851868</td>\n",
       "      <td>37.788683</td>\n",
       "      <td>True</td>\n",
       "      <td>False</td>\n",
       "    </tr>\n",
       "    <tr>\n",
       "      <th>4</th>\n",
       "      <td>18287.770833</td>\n",
       "      <td>538.500000</td>\n",
       "      <td>545.000000</td>\n",
       "      <td>531.500000</td>\n",
       "      <td>537.250000</td>\n",
       "      <td>532.486084</td>\n",
       "      <td>38149166</td>\n",
       "      <td>50.545168</td>\n",
       "      <td>True</td>\n",
       "      <td>False</td>\n",
       "    </tr>\n",
       "  </tbody>\n",
       "</table>\n",
       "</div>"
      ],
      "text/plain": [
       "           Date        Open        High         Low       Close   Adj Close  \\\n",
       "0  18281.770833  532.950012  540.250000  530.200012  531.049988  526.341064   \n",
       "1  18282.770833  531.500000  534.950012  520.750000  522.849976  518.213745   \n",
       "2  18283.770833  521.400024  530.250000  517.049988  527.700012  523.020752   \n",
       "3  18284.770833  529.250000  537.400024  527.000000  533.849976  529.116211   \n",
       "4  18287.770833  538.500000  545.000000  531.500000  537.250000  532.486084   \n",
       "\n",
       "     Volume        MFI  Positive  VolumePositive  \n",
       "0  13477994  37.730056      True           False  \n",
       "1  17527408  31.224779      True           False  \n",
       "2  17061293  30.151968      True            True  \n",
       "3  17851868  37.788683      True           False  \n",
       "4  38149166  50.545168      True           False  "
      ]
     },
     "execution_count": 8,
     "metadata": {},
     "output_type": "execute_result"
    }
   ],
   "source": [
    "from matplotlib import dates as mdates\n",
    "import datetime as dt\n",
    "\n",
    "dfc = df.copy()\n",
    "dfc['MFI'] = ta.MFI(dfc['High'], dfc['Low'],dfc['Adj Close'], dfc['Volume'], timeperiod=14)\n",
    "dfc['VolumePositive'] = dfc['Open'] < dfc['Adj Close']\n",
    "dfc = dfc.dropna()\n",
    "dfc = dfc.reset_index()\n",
    "dfc['Date'] = pd.to_datetime(dfc['Date'])\n",
    "dfc['Date'] = dfc['Date'].apply(mdates.date2num)\n",
    "dfc.head()"
   ]
  },
  {
   "cell_type": "code",
   "execution_count": 10,
   "metadata": {
    "collapsed": false,
    "inputHidden": false,
    "jupyter": {
     "outputs_hidden": false
    },
    "outputHidden": false
   },
   "outputs": [
    {
     "data": {
      "text/plain": [
       "Text(0.5, 0, 'Date')"
      ]
     },
     "execution_count": 10,
     "metadata": {},
     "output_type": "execute_result"
    },
    {
     "data": {
      "image/png": "[encoded data removed]",
      "text/plain": [
       "<Figure size 1008x720 with 3 Axes>"
      ]
     },
     "metadata": {
      "needs_background": "light"
     },
     "output_type": "display_data"
    }
   ],
   "source": [
    "from mpl_finance import candlestick_ohlc\n",
    "\n",
    "fig = plt.figure(figsize=(14,10))\n",
    "ax1 = plt.subplot(2, 1, 1)\n",
    "candlestick_ohlc(ax1,dfc.values, width=0.5, colorup='g', colordown='r', alpha=1.0)\n",
    "ax1.xaxis_date()\n",
    "ax1.xaxis.set_major_formatter(mdates.DateFormatter('%d-%m-%Y'))\n",
    "ax1.grid(True, which='both')\n",
    "ax1.minorticks_on()\n",
    "ax1v = ax1.twinx()\n",
    "colors = dfc.VolumePositive.map({True: 'g', False: 'r'})\n",
    "ax1v.bar(dfc.Date, dfc['Volume'], color=colors, alpha=0.4)\n",
    "ax1v.axes.yaxis.set_ticklabels([])\n",
    "ax1v.set_ylim(0, 3*df.Volume.max())\n",
    "ax1.set_title('Stock '+ symbol +' Closing Price')\n",
    "ax1.set_ylabel('Price')\n",
    "\n",
    "ax2 = plt.subplot(2, 1, 2)\n",
    "ax2.bar(df.index, df['MFI'])\n",
    "ax2.grid()\n",
    "ax2.set_ylabel('Money Flow Index')\n",
    "ax2.set_xlabel('Date')"
   ]
  },
  {
   "cell_type": "code",
   "execution_count": null,
   "metadata": {},
   "outputs": [],
   "source": []
  }
 ],
 "metadata": {
  "kernel_info": {
   "name": "python3"
  },
  "kernelspec": {
   "display_name": "Python 3 (ipykernel)",
   "language": "python",
   "name": "python3"
  },
  "language_info": {
   "codemirror_mode": {
    "name": "ipython",
    "version": 3
   },
   "file_extension": ".py",
   "mimetype": "text/x-python",
   "name": "python",
   "nbconvert_exporter": "python",
   "pygments_lexer": "ipython3",
   "version": "3.9.7"
  },
  "nteract": {
   "version": "0.12.2"
  }
 },
 "nbformat": 4,
 "nbformat_minor": 4
}
