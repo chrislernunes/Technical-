{
 "cells": [
  {
   "cell_type": "markdown",
   "metadata": {},
   "source": [
    "# Covariance"
   ]
  },
  {
   "cell_type": "markdown",
   "metadata": {},
   "source": [
    "https://www.investopedia.com/articles/financial-theory/11/calculating-covariance.asp"
   ]
  },
  {
   "cell_type": "code",
   "execution_count": 1,
   "metadata": {
    "collapsed": false,
    "inputHidden": false,
    "jupyter": {
     "outputs_hidden": false
    },
    "outputHidden": false
   },
   "outputs": [],
   "source": [
    "import numpy as np\n",
    "import pandas as pd\n",
    "import matplotlib.pyplot as plt\n",
    "\n",
    "import warnings\n",
    "warnings.filterwarnings(\"ignore\")\n",
    "\n",
    "# fix_yahoo_finance is used to fetch data \n",
    "import yfinance as yf\n",
    "yf.pdr_override()"
   ]
  },
  {
   "cell_type": "code",
   "execution_count": 2,
   "metadata": {
    "collapsed": false,
    "inputHidden": false,
    "jupyter": {
     "outputs_hidden": false
    },
    "outputHidden": false
   },
   "outputs": [
    {
     "name": "stdout",
     "output_type": "stream",
     "text": [
      "[*********************100%***********************]  1 of 1 completed\n",
      "[*********************100%***********************]  1 of 1 completed\n"
     ]
    },
    {
     "data": {
      "text/html": [
       "<div>\n",
       "<style scoped>\n",
       "    .dataframe tbody tr th:only-of-type {\n",
       "        vertical-align: middle;\n",
       "    }\n",
       "\n",
       "    .dataframe tbody tr th {\n",
       "        vertical-align: top;\n",
       "    }\n",
       "\n",
       "    .dataframe thead th {\n",
       "        text-align: right;\n",
       "    }\n",
       "</style>\n",
       "<table border=\"1\" class=\"dataframe\">\n",
       "  <thead>\n",
       "    <tr style=\"text-align: right;\">\n",
       "      <th></th>\n",
       "      <th>Open</th>\n",
       "      <th>High</th>\n",
       "      <th>Low</th>\n",
       "      <th>Close</th>\n",
       "      <th>Adj Close</th>\n",
       "      <th>Volume</th>\n",
       "    </tr>\n",
       "    <tr>\n",
       "      <th>Date</th>\n",
       "      <th></th>\n",
       "      <th></th>\n",
       "      <th></th>\n",
       "      <th></th>\n",
       "      <th></th>\n",
       "      <th></th>\n",
       "    </tr>\n",
       "  </thead>\n",
       "  <tbody>\n",
       "    <tr>\n",
       "      <th>2020-01-01 00:00:00+05:30</th>\n",
       "      <td>12202.150391</td>\n",
       "      <td>12222.200195</td>\n",
       "      <td>12165.299805</td>\n",
       "      <td>12182.500000</td>\n",
       "      <td>12182.500000</td>\n",
       "      <td>304100</td>\n",
       "    </tr>\n",
       "    <tr>\n",
       "      <th>2020-01-02 00:00:00+05:30</th>\n",
       "      <td>12198.549805</td>\n",
       "      <td>12289.900391</td>\n",
       "      <td>12195.250000</td>\n",
       "      <td>12282.200195</td>\n",
       "      <td>12282.200195</td>\n",
       "      <td>407700</td>\n",
       "    </tr>\n",
       "    <tr>\n",
       "      <th>2020-01-03 00:00:00+05:30</th>\n",
       "      <td>12261.099609</td>\n",
       "      <td>12265.599609</td>\n",
       "      <td>12191.349609</td>\n",
       "      <td>12226.650391</td>\n",
       "      <td>12226.650391</td>\n",
       "      <td>428800</td>\n",
       "    </tr>\n",
       "    <tr>\n",
       "      <th>2020-01-06 00:00:00+05:30</th>\n",
       "      <td>12170.599609</td>\n",
       "      <td>12179.099609</td>\n",
       "      <td>11974.200195</td>\n",
       "      <td>11993.049805</td>\n",
       "      <td>11993.049805</td>\n",
       "      <td>396500</td>\n",
       "    </tr>\n",
       "    <tr>\n",
       "      <th>2020-01-07 00:00:00+05:30</th>\n",
       "      <td>12079.099609</td>\n",
       "      <td>12152.150391</td>\n",
       "      <td>12005.349609</td>\n",
       "      <td>12052.950195</td>\n",
       "      <td>12052.950195</td>\n",
       "      <td>447800</td>\n",
       "    </tr>\n",
       "  </tbody>\n",
       "</table>\n",
       "</div>"
      ],
      "text/plain": [
       "                                   Open          High           Low  \\\n",
       "Date                                                                  \n",
       "2020-01-01 00:00:00+05:30  12202.150391  12222.200195  12165.299805   \n",
       "2020-01-02 00:00:00+05:30  12198.549805  12289.900391  12195.250000   \n",
       "2020-01-03 00:00:00+05:30  12261.099609  12265.599609  12191.349609   \n",
       "2020-01-06 00:00:00+05:30  12170.599609  12179.099609  11974.200195   \n",
       "2020-01-07 00:00:00+05:30  12079.099609  12152.150391  12005.349609   \n",
       "\n",
       "                                  Close     Adj Close  Volume  \n",
       "Date                                                           \n",
       "2020-01-01 00:00:00+05:30  12182.500000  12182.500000  304100  \n",
       "2020-01-02 00:00:00+05:30  12282.200195  12282.200195  407700  \n",
       "2020-01-03 00:00:00+05:30  12226.650391  12226.650391  428800  \n",
       "2020-01-06 00:00:00+05:30  11993.049805  11993.049805  396500  \n",
       "2020-01-07 00:00:00+05:30  12052.950195  12052.950195  447800  "
      ]
     },
     "execution_count": 2,
     "metadata": {},
     "output_type": "execute_result"
    }
   ],
   "source": [
    "# input\n",
    "symbol1 = '^NSEI'\n",
    "symbol2 = 'TCS.NS'\n",
    "start = '2020-01-01'\n",
    "end = '2023-01-01'\n",
    "\n",
    "# Read data \n",
    "df1 = yf.download(symbol1,start,end)\n",
    "df2 = yf.download(symbol2,start,end)\n",
    "\n",
    "# View Columns\n",
    "df1.head()"
   ]
  },
  {
   "cell_type": "code",
   "execution_count": 3,
   "metadata": {
    "collapsed": false,
    "inputHidden": false,
    "jupyter": {
     "outputs_hidden": false
    },
    "outputHidden": false
   },
   "outputs": [
    {
     "data": {
      "text/html": [
       "<div>\n",
       "<style scoped>\n",
       "    .dataframe tbody tr th:only-of-type {\n",
       "        vertical-align: middle;\n",
       "    }\n",
       "\n",
       "    .dataframe tbody tr th {\n",
       "        vertical-align: top;\n",
       "    }\n",
       "\n",
       "    .dataframe thead th {\n",
       "        text-align: right;\n",
       "    }\n",
       "</style>\n",
       "<table border=\"1\" class=\"dataframe\">\n",
       "  <thead>\n",
       "    <tr style=\"text-align: right;\">\n",
       "      <th></th>\n",
       "      <th>Open</th>\n",
       "      <th>High</th>\n",
       "      <th>Low</th>\n",
       "      <th>Close</th>\n",
       "      <th>Adj Close</th>\n",
       "      <th>Volume</th>\n",
       "    </tr>\n",
       "    <tr>\n",
       "      <th>Date</th>\n",
       "      <th></th>\n",
       "      <th></th>\n",
       "      <th></th>\n",
       "      <th></th>\n",
       "      <th></th>\n",
       "      <th></th>\n",
       "    </tr>\n",
       "  </thead>\n",
       "  <tbody>\n",
       "    <tr>\n",
       "      <th>2020-01-01 00:00:00+05:30</th>\n",
       "      <td>2168.000000</td>\n",
       "      <td>2183.899902</td>\n",
       "      <td>2154.000000</td>\n",
       "      <td>2167.600098</td>\n",
       "      <td>2034.032349</td>\n",
       "      <td>1354908</td>\n",
       "    </tr>\n",
       "    <tr>\n",
       "      <th>2020-01-02 00:00:00+05:30</th>\n",
       "      <td>2179.949951</td>\n",
       "      <td>2179.949951</td>\n",
       "      <td>2149.199951</td>\n",
       "      <td>2157.649902</td>\n",
       "      <td>2024.695801</td>\n",
       "      <td>2380752</td>\n",
       "    </tr>\n",
       "    <tr>\n",
       "      <th>2020-01-03 00:00:00+05:30</th>\n",
       "      <td>2164.000000</td>\n",
       "      <td>2223.000000</td>\n",
       "      <td>2164.000000</td>\n",
       "      <td>2200.649902</td>\n",
       "      <td>2065.046143</td>\n",
       "      <td>4655761</td>\n",
       "    </tr>\n",
       "    <tr>\n",
       "      <th>2020-01-06 00:00:00+05:30</th>\n",
       "      <td>2205.000000</td>\n",
       "      <td>2225.949951</td>\n",
       "      <td>2187.899902</td>\n",
       "      <td>2200.449951</td>\n",
       "      <td>2064.857910</td>\n",
       "      <td>3023209</td>\n",
       "    </tr>\n",
       "    <tr>\n",
       "      <th>2020-01-07 00:00:00+05:30</th>\n",
       "      <td>2200.500000</td>\n",
       "      <td>2214.649902</td>\n",
       "      <td>2183.800049</td>\n",
       "      <td>2205.850098</td>\n",
       "      <td>2069.925537</td>\n",
       "      <td>2429317</td>\n",
       "    </tr>\n",
       "  </tbody>\n",
       "</table>\n",
       "</div>"
      ],
      "text/plain": [
       "                                  Open         High          Low        Close  \\\n",
       "Date                                                                            \n",
       "2020-01-01 00:00:00+05:30  2168.000000  2183.899902  2154.000000  2167.600098   \n",
       "2020-01-02 00:00:00+05:30  2179.949951  2179.949951  2149.199951  2157.649902   \n",
       "2020-01-03 00:00:00+05:30  2164.000000  2223.000000  2164.000000  2200.649902   \n",
       "2020-01-06 00:00:00+05:30  2205.000000  2225.949951  2187.899902  2200.449951   \n",
       "2020-01-07 00:00:00+05:30  2200.500000  2214.649902  2183.800049  2205.850098   \n",
       "\n",
       "                             Adj Close   Volume  \n",
       "Date                                             \n",
       "2020-01-01 00:00:00+05:30  2034.032349  1354908  \n",
       "2020-01-02 00:00:00+05:30  2024.695801  2380752  \n",
       "2020-01-03 00:00:00+05:30  2065.046143  4655761  \n",
       "2020-01-06 00:00:00+05:30  2064.857910  3023209  \n",
       "2020-01-07 00:00:00+05:30  2069.925537  2429317  "
      ]
     },
     "execution_count": 3,
     "metadata": {},
     "output_type": "execute_result"
    }
   ],
   "source": [
    "df2.head()"
   ]
  },
  {
   "cell_type": "code",
   "execution_count": 4,
   "metadata": {
    "collapsed": false,
    "inputHidden": false,
    "jupyter": {
     "outputs_hidden": false
    },
    "outputHidden": false
   },
   "outputs": [],
   "source": [
    "c = df1['Adj Close'].cov(df2['Adj Close'])"
   ]
  },
  {
   "cell_type": "code",
   "execution_count": 5,
   "metadata": {
    "collapsed": false,
    "inputHidden": false,
    "jupyter": {
     "outputs_hidden": false
    },
    "outputHidden": false
   },
   "outputs": [
    {
     "data": {
      "text/plain": [
       "1624427.483125986"
      ]
     },
     "execution_count": 5,
     "metadata": {},
     "output_type": "execute_result"
    }
   ],
   "source": [
    "c"
   ]
  },
  {
   "cell_type": "code",
   "execution_count": 6,
   "metadata": {
    "collapsed": false,
    "inputHidden": false,
    "jupyter": {
     "outputs_hidden": false
    },
    "outputHidden": false
   },
   "outputs": [],
   "source": [
    "df = pd.concat([df1['Adj Close'], df2['Adj Close']],axis=1)"
   ]
  },
  {
   "cell_type": "code",
   "execution_count": 7,
   "metadata": {
    "collapsed": false,
    "inputHidden": false,
    "jupyter": {
     "outputs_hidden": false
    },
    "outputHidden": false
   },
   "outputs": [
    {
     "data": {
      "text/html": [
       "<div>\n",
       "<style scoped>\n",
       "    .dataframe tbody tr th:only-of-type {\n",
       "        vertical-align: middle;\n",
       "    }\n",
       "\n",
       "    .dataframe tbody tr th {\n",
       "        vertical-align: top;\n",
       "    }\n",
       "\n",
       "    .dataframe thead th {\n",
       "        text-align: right;\n",
       "    }\n",
       "</style>\n",
       "<table border=\"1\" class=\"dataframe\">\n",
       "  <thead>\n",
       "    <tr style=\"text-align: right;\">\n",
       "      <th></th>\n",
       "      <th>Adj Close</th>\n",
       "      <th>Adj Close</th>\n",
       "    </tr>\n",
       "    <tr>\n",
       "      <th>Date</th>\n",
       "      <th></th>\n",
       "      <th></th>\n",
       "    </tr>\n",
       "  </thead>\n",
       "  <tbody>\n",
       "    <tr>\n",
       "      <th>2020-01-01 00:00:00+05:30</th>\n",
       "      <td>12182.500000</td>\n",
       "      <td>2034.032349</td>\n",
       "    </tr>\n",
       "    <tr>\n",
       "      <th>2020-01-02 00:00:00+05:30</th>\n",
       "      <td>12282.200195</td>\n",
       "      <td>2024.695801</td>\n",
       "    </tr>\n",
       "    <tr>\n",
       "      <th>2020-01-03 00:00:00+05:30</th>\n",
       "      <td>12226.650391</td>\n",
       "      <td>2065.046143</td>\n",
       "    </tr>\n",
       "    <tr>\n",
       "      <th>2020-01-06 00:00:00+05:30</th>\n",
       "      <td>11993.049805</td>\n",
       "      <td>2064.857910</td>\n",
       "    </tr>\n",
       "    <tr>\n",
       "      <th>2020-01-07 00:00:00+05:30</th>\n",
       "      <td>12052.950195</td>\n",
       "      <td>2069.925537</td>\n",
       "    </tr>\n",
       "  </tbody>\n",
       "</table>\n",
       "</div>"
      ],
      "text/plain": [
       "                              Adj Close    Adj Close\n",
       "Date                                                \n",
       "2020-01-01 00:00:00+05:30  12182.500000  2034.032349\n",
       "2020-01-02 00:00:00+05:30  12282.200195  2024.695801\n",
       "2020-01-03 00:00:00+05:30  12226.650391  2065.046143\n",
       "2020-01-06 00:00:00+05:30  11993.049805  2064.857910\n",
       "2020-01-07 00:00:00+05:30  12052.950195  2069.925537"
      ]
     },
     "execution_count": 7,
     "metadata": {},
     "output_type": "execute_result"
    }
   ],
   "source": [
    "df.head()"
   ]
  },
  {
   "cell_type": "code",
   "execution_count": 8,
   "metadata": {
    "collapsed": false,
    "inputHidden": false,
    "jupyter": {
     "outputs_hidden": false
    },
    "outputHidden": false
   },
   "outputs": [],
   "source": [
    "# Rename columns\n",
    "df.columns = [symbol1,symbol2]"
   ]
  },
  {
   "cell_type": "code",
   "execution_count": 9,
   "metadata": {
    "collapsed": false,
    "inputHidden": false,
    "jupyter": {
     "outputs_hidden": false
    },
    "outputHidden": false
   },
   "outputs": [
    {
     "data": {
      "text/html": [
       "<div>\n",
       "<style scoped>\n",
       "    .dataframe tbody tr th:only-of-type {\n",
       "        vertical-align: middle;\n",
       "    }\n",
       "\n",
       "    .dataframe tbody tr th {\n",
       "        vertical-align: top;\n",
       "    }\n",
       "\n",
       "    .dataframe thead th {\n",
       "        text-align: right;\n",
       "    }\n",
       "</style>\n",
       "<table border=\"1\" class=\"dataframe\">\n",
       "  <thead>\n",
       "    <tr style=\"text-align: right;\">\n",
       "      <th></th>\n",
       "      <th>^NSEI</th>\n",
       "      <th>TCS.NS</th>\n",
       "    </tr>\n",
       "    <tr>\n",
       "      <th>Date</th>\n",
       "      <th></th>\n",
       "      <th></th>\n",
       "    </tr>\n",
       "  </thead>\n",
       "  <tbody>\n",
       "    <tr>\n",
       "      <th>2020-01-01 00:00:00+05:30</th>\n",
       "      <td>12182.500000</td>\n",
       "      <td>2034.032349</td>\n",
       "    </tr>\n",
       "    <tr>\n",
       "      <th>2020-01-02 00:00:00+05:30</th>\n",
       "      <td>12282.200195</td>\n",
       "      <td>2024.695801</td>\n",
       "    </tr>\n",
       "    <tr>\n",
       "      <th>2020-01-03 00:00:00+05:30</th>\n",
       "      <td>12226.650391</td>\n",
       "      <td>2065.046143</td>\n",
       "    </tr>\n",
       "    <tr>\n",
       "      <th>2020-01-06 00:00:00+05:30</th>\n",
       "      <td>11993.049805</td>\n",
       "      <td>2064.857910</td>\n",
       "    </tr>\n",
       "    <tr>\n",
       "      <th>2020-01-07 00:00:00+05:30</th>\n",
       "      <td>12052.950195</td>\n",
       "      <td>2069.925537</td>\n",
       "    </tr>\n",
       "  </tbody>\n",
       "</table>\n",
       "</div>"
      ],
      "text/plain": [
       "                                  ^NSEI       TCS.NS\n",
       "Date                                                \n",
       "2020-01-01 00:00:00+05:30  12182.500000  2034.032349\n",
       "2020-01-02 00:00:00+05:30  12282.200195  2024.695801\n",
       "2020-01-03 00:00:00+05:30  12226.650391  2065.046143\n",
       "2020-01-06 00:00:00+05:30  11993.049805  2064.857910\n",
       "2020-01-07 00:00:00+05:30  12052.950195  2069.925537"
      ]
     },
     "execution_count": 9,
     "metadata": {},
     "output_type": "execute_result"
    }
   ],
   "source": [
    "df.head()"
   ]
  },
  {
   "cell_type": "code",
   "execution_count": 10,
   "metadata": {
    "collapsed": false,
    "inputHidden": false,
    "jupyter": {
     "outputs_hidden": false
    },
    "outputHidden": false
   },
   "outputs": [],
   "source": [
    "n = 14\n",
    "df['Cov'] = df['^NSEI'].rolling(n).cov(df['TCS.NS'])"
   ]
  },
  {
   "cell_type": "code",
   "execution_count": 11,
   "metadata": {
    "collapsed": false,
    "inputHidden": false,
    "jupyter": {
     "outputs_hidden": false
    },
    "outputHidden": false
   },
   "outputs": [
    {
     "data": {
      "text/html": [
       "<div>\n",
       "<style scoped>\n",
       "    .dataframe tbody tr th:only-of-type {\n",
       "        vertical-align: middle;\n",
       "    }\n",
       "\n",
       "    .dataframe tbody tr th {\n",
       "        vertical-align: top;\n",
       "    }\n",
       "\n",
       "    .dataframe thead th {\n",
       "        text-align: right;\n",
       "    }\n",
       "</style>\n",
       "<table border=\"1\" class=\"dataframe\">\n",
       "  <thead>\n",
       "    <tr style=\"text-align: right;\">\n",
       "      <th></th>\n",
       "      <th>^NSEI</th>\n",
       "      <th>TCS.NS</th>\n",
       "      <th>Cov</th>\n",
       "    </tr>\n",
       "    <tr>\n",
       "      <th>Date</th>\n",
       "      <th></th>\n",
       "      <th></th>\n",
       "      <th></th>\n",
       "    </tr>\n",
       "  </thead>\n",
       "  <tbody>\n",
       "    <tr>\n",
       "      <th>2020-01-01 00:00:00+05:30</th>\n",
       "      <td>12182.500000</td>\n",
       "      <td>2034.032349</td>\n",
       "      <td>NaN</td>\n",
       "    </tr>\n",
       "    <tr>\n",
       "      <th>2020-01-02 00:00:00+05:30</th>\n",
       "      <td>12282.200195</td>\n",
       "      <td>2024.695801</td>\n",
       "      <td>NaN</td>\n",
       "    </tr>\n",
       "    <tr>\n",
       "      <th>2020-01-03 00:00:00+05:30</th>\n",
       "      <td>12226.650391</td>\n",
       "      <td>2065.046143</td>\n",
       "      <td>NaN</td>\n",
       "    </tr>\n",
       "    <tr>\n",
       "      <th>2020-01-06 00:00:00+05:30</th>\n",
       "      <td>11993.049805</td>\n",
       "      <td>2064.857910</td>\n",
       "      <td>NaN</td>\n",
       "    </tr>\n",
       "    <tr>\n",
       "      <th>2020-01-07 00:00:00+05:30</th>\n",
       "      <td>12052.950195</td>\n",
       "      <td>2069.925537</td>\n",
       "      <td>NaN</td>\n",
       "    </tr>\n",
       "    <tr>\n",
       "      <th>2020-01-08 00:00:00+05:30</th>\n",
       "      <td>12025.349609</td>\n",
       "      <td>2116.281006</td>\n",
       "      <td>NaN</td>\n",
       "    </tr>\n",
       "    <tr>\n",
       "      <th>2020-01-09 00:00:00+05:30</th>\n",
       "      <td>12215.900391</td>\n",
       "      <td>2077.901611</td>\n",
       "      <td>NaN</td>\n",
       "    </tr>\n",
       "    <tr>\n",
       "      <th>2020-01-10 00:00:00+05:30</th>\n",
       "      <td>12256.799805</td>\n",
       "      <td>2077.150879</td>\n",
       "      <td>NaN</td>\n",
       "    </tr>\n",
       "    <tr>\n",
       "      <th>2020-01-13 00:00:00+05:30</th>\n",
       "      <td>12329.549805</td>\n",
       "      <td>2055.380859</td>\n",
       "      <td>NaN</td>\n",
       "    </tr>\n",
       "    <tr>\n",
       "      <th>2020-01-14 00:00:00+05:30</th>\n",
       "      <td>12362.299805</td>\n",
       "      <td>2070.910645</td>\n",
       "      <td>NaN</td>\n",
       "    </tr>\n",
       "    <tr>\n",
       "      <th>2020-01-15 00:00:00+05:30</th>\n",
       "      <td>12343.299805</td>\n",
       "      <td>2089.678223</td>\n",
       "      <td>NaN</td>\n",
       "    </tr>\n",
       "    <tr>\n",
       "      <th>2020-01-16 00:00:00+05:30</th>\n",
       "      <td>12355.500000</td>\n",
       "      <td>2100.845215</td>\n",
       "      <td>NaN</td>\n",
       "    </tr>\n",
       "    <tr>\n",
       "      <th>2020-01-17 00:00:00+05:30</th>\n",
       "      <td>12352.349609</td>\n",
       "      <td>2082.359131</td>\n",
       "      <td>NaN</td>\n",
       "    </tr>\n",
       "    <tr>\n",
       "      <th>2020-01-20 00:00:00+05:30</th>\n",
       "      <td>12224.549805</td>\n",
       "      <td>2036.613037</td>\n",
       "      <td>-181.308090</td>\n",
       "    </tr>\n",
       "    <tr>\n",
       "      <th>2020-01-21 00:00:00+05:30</th>\n",
       "      <td>12169.849609</td>\n",
       "      <td>2037.269775</td>\n",
       "      <td>-161.754278</td>\n",
       "    </tr>\n",
       "    <tr>\n",
       "      <th>2020-01-22 00:00:00+05:30</th>\n",
       "      <td>12106.900391</td>\n",
       "      <td>2070.910645</td>\n",
       "      <td>52.916370</td>\n",
       "    </tr>\n",
       "    <tr>\n",
       "      <th>2020-01-23 00:00:00+05:30</th>\n",
       "      <td>12180.349609</td>\n",
       "      <td>2060.612061</td>\n",
       "      <td>90.309675</td>\n",
       "    </tr>\n",
       "    <tr>\n",
       "      <th>2020-01-24 00:00:00+05:30</th>\n",
       "      <td>12248.250000</td>\n",
       "      <td>2053.510986</td>\n",
       "      <td>-69.362510</td>\n",
       "    </tr>\n",
       "    <tr>\n",
       "      <th>2020-01-27 00:00:00+05:30</th>\n",
       "      <td>12119.000000</td>\n",
       "      <td>2040.203003</td>\n",
       "      <td>188.444982</td>\n",
       "    </tr>\n",
       "    <tr>\n",
       "      <th>2020-01-28 00:00:00+05:30</th>\n",
       "      <td>12055.799805</td>\n",
       "      <td>2053.840332</td>\n",
       "      <td>1169.736241</td>\n",
       "    </tr>\n",
       "  </tbody>\n",
       "</table>\n",
       "</div>"
      ],
      "text/plain": [
       "                                  ^NSEI       TCS.NS          Cov\n",
       "Date                                                             \n",
       "2020-01-01 00:00:00+05:30  12182.500000  2034.032349          NaN\n",
       "2020-01-02 00:00:00+05:30  12282.200195  2024.695801          NaN\n",
       "2020-01-03 00:00:00+05:30  12226.650391  2065.046143          NaN\n",
       "2020-01-06 00:00:00+05:30  11993.049805  2064.857910          NaN\n",
       "2020-01-07 00:00:00+05:30  12052.950195  2069.925537          NaN\n",
       "2020-01-08 00:00:00+05:30  12025.349609  2116.281006          NaN\n",
       "2020-01-09 00:00:00+05:30  12215.900391  2077.901611          NaN\n",
       "2020-01-10 00:00:00+05:30  12256.799805  2077.150879          NaN\n",
       "2020-01-13 00:00:00+05:30  12329.549805  2055.380859          NaN\n",
       "2020-01-14 00:00:00+05:30  12362.299805  2070.910645          NaN\n",
       "2020-01-15 00:00:00+05:30  12343.299805  2089.678223          NaN\n",
       "2020-01-16 00:00:00+05:30  12355.500000  2100.845215          NaN\n",
       "2020-01-17 00:00:00+05:30  12352.349609  2082.359131          NaN\n",
       "2020-01-20 00:00:00+05:30  12224.549805  2036.613037  -181.308090\n",
       "2020-01-21 00:00:00+05:30  12169.849609  2037.269775  -161.754278\n",
       "2020-01-22 00:00:00+05:30  12106.900391  2070.910645    52.916370\n",
       "2020-01-23 00:00:00+05:30  12180.349609  2060.612061    90.309675\n",
       "2020-01-24 00:00:00+05:30  12248.250000  2053.510986   -69.362510\n",
       "2020-01-27 00:00:00+05:30  12119.000000  2040.203003   188.444982\n",
       "2020-01-28 00:00:00+05:30  12055.799805  2053.840332  1169.736241"
      ]
     },
     "execution_count": 11,
     "metadata": {},
     "output_type": "execute_result"
    }
   ],
   "source": [
    "df.head(20)"
   ]
  },
  {
   "cell_type": "code",
   "execution_count": 12,
   "metadata": {
    "collapsed": false,
    "inputHidden": false,
    "jupyter": {
     "outputs_hidden": false
    },
    "outputHidden": false
   },
   "outputs": [
    {
     "name": "stderr",
     "output_type": "stream",
     "text": [
      "No artists with labels found to put in legend.  Note that artists whose label start with an underscore are ignored when legend() is called with no argument.\n"
     ]
    },
    {
     "data": {
      "text/plain": [
       "Text(0.5, 0, 'Date')"
      ]
     },
     "execution_count": 12,
     "metadata": {},
     "output_type": "execute_result"
    },
    {
     "data": {
      "image/png": "[encoded data removed]",
      "text/plain": [
       "<Figure size 1008x720 with 2 Axes>"
      ]
     },
     "metadata": {
      "needs_background": "light"
     },
     "output_type": "display_data"
    }
   ],
   "source": [
    "fig = plt.figure(figsize=(14,10))\n",
    "ax1 = plt.subplot(2, 1, 1)\n",
    "ax1.plot(df1['Adj Close'])\n",
    "ax1.set_title('Stock '+ symbol1 +' Closing Price')\n",
    "ax1.set_ylabel('Price')\n",
    "ax1.legend(loc='best')\n",
    "\n",
    "ax2 = plt.subplot(2, 1, 2)\n",
    "ax2.plot(df['Cov'], label='Covariance', color='black')\n",
    "ax2.grid()\n",
    "ax2.legend(loc='best')\n",
    "ax2.set_ylabel('Covariance')\n",
    "ax2.set_xlabel('Date')"
   ]
  },
  {
   "cell_type": "markdown",
   "metadata": {},
   "source": [
    "## Candlestick with Covariance"
   ]
  },
  {
   "cell_type": "code",
   "execution_count": 13,
   "metadata": {
    "collapsed": false,
    "inputHidden": false,
    "jupyter": {
     "outputs_hidden": false
    },
    "outputHidden": false
   },
   "outputs": [
    {
     "data": {
      "text/html": [
       "<div>\n",
       "<style scoped>\n",
       "    .dataframe tbody tr th:only-of-type {\n",
       "        vertical-align: middle;\n",
       "    }\n",
       "\n",
       "    .dataframe tbody tr th {\n",
       "        vertical-align: top;\n",
       "    }\n",
       "\n",
       "    .dataframe thead th {\n",
       "        text-align: right;\n",
       "    }\n",
       "</style>\n",
       "<table border=\"1\" class=\"dataframe\">\n",
       "  <thead>\n",
       "    <tr style=\"text-align: right;\">\n",
       "      <th></th>\n",
       "      <th>Date</th>\n",
       "      <th>Open</th>\n",
       "      <th>High</th>\n",
       "      <th>Low</th>\n",
       "      <th>Close</th>\n",
       "      <th>Adj Close</th>\n",
       "      <th>Volume</th>\n",
       "      <th>VolumePositive</th>\n",
       "    </tr>\n",
       "  </thead>\n",
       "  <tbody>\n",
       "    <tr>\n",
       "      <th>0</th>\n",
       "      <td>18261.770833</td>\n",
       "      <td>12202.150391</td>\n",
       "      <td>12222.200195</td>\n",
       "      <td>12165.299805</td>\n",
       "      <td>12182.500000</td>\n",
       "      <td>12182.500000</td>\n",
       "      <td>304100</td>\n",
       "      <td>False</td>\n",
       "    </tr>\n",
       "    <tr>\n",
       "      <th>1</th>\n",
       "      <td>18262.770833</td>\n",
       "      <td>12198.549805</td>\n",
       "      <td>12289.900391</td>\n",
       "      <td>12195.250000</td>\n",
       "      <td>12282.200195</td>\n",
       "      <td>12282.200195</td>\n",
       "      <td>407700</td>\n",
       "      <td>True</td>\n",
       "    </tr>\n",
       "    <tr>\n",
       "      <th>2</th>\n",
       "      <td>18263.770833</td>\n",
       "      <td>12261.099609</td>\n",
       "      <td>12265.599609</td>\n",
       "      <td>12191.349609</td>\n",
       "      <td>12226.650391</td>\n",
       "      <td>12226.650391</td>\n",
       "      <td>428800</td>\n",
       "      <td>False</td>\n",
       "    </tr>\n",
       "    <tr>\n",
       "      <th>3</th>\n",
       "      <td>18266.770833</td>\n",
       "      <td>12170.599609</td>\n",
       "      <td>12179.099609</td>\n",
       "      <td>11974.200195</td>\n",
       "      <td>11993.049805</td>\n",
       "      <td>11993.049805</td>\n",
       "      <td>396500</td>\n",
       "      <td>False</td>\n",
       "    </tr>\n",
       "    <tr>\n",
       "      <th>4</th>\n",
       "      <td>18267.770833</td>\n",
       "      <td>12079.099609</td>\n",
       "      <td>12152.150391</td>\n",
       "      <td>12005.349609</td>\n",
       "      <td>12052.950195</td>\n",
       "      <td>12052.950195</td>\n",
       "      <td>447800</td>\n",
       "      <td>False</td>\n",
       "    </tr>\n",
       "  </tbody>\n",
       "</table>\n",
       "</div>"
      ],
      "text/plain": [
       "           Date          Open          High           Low         Close  \\\n",
       "0  18261.770833  12202.150391  12222.200195  12165.299805  12182.500000   \n",
       "1  18262.770833  12198.549805  12289.900391  12195.250000  12282.200195   \n",
       "2  18263.770833  12261.099609  12265.599609  12191.349609  12226.650391   \n",
       "3  18266.770833  12170.599609  12179.099609  11974.200195  11993.049805   \n",
       "4  18267.770833  12079.099609  12152.150391  12005.349609  12052.950195   \n",
       "\n",
       "      Adj Close  Volume  VolumePositive  \n",
       "0  12182.500000  304100           False  \n",
       "1  12282.200195  407700            True  \n",
       "2  12226.650391  428800           False  \n",
       "3  11993.049805  396500           False  \n",
       "4  12052.950195  447800           False  "
      ]
     },
     "execution_count": 13,
     "metadata": {},
     "output_type": "execute_result"
    }
   ],
   "source": [
    "from matplotlib import dates as mdates\n",
    "import datetime as dt\n",
    "\n",
    "dfc = df1.copy()\n",
    "dfc['VolumePositive'] = dfc['Open'] < dfc['Adj Close']\n",
    "#dfc = dfc.dropna()\n",
    "dfc = dfc.reset_index()\n",
    "dfc['Date'] = pd.to_datetime(dfc['Date'])\n",
    "dfc['Date'] = dfc['Date'].apply(mdates.date2num)\n",
    "dfc.head()"
   ]
  },
  {
   "cell_type": "code",
   "execution_count": 15,
   "metadata": {
    "collapsed": false,
    "inputHidden": false,
    "jupyter": {
     "outputs_hidden": false
    },
    "outputHidden": false
   },
   "outputs": [
    {
     "data": {
      "text/plain": [
       "Text(0.5, 0, 'Date')"
      ]
     },
     "execution_count": 15,
     "metadata": {},
     "output_type": "execute_result"
    },
    {
     "data": {
      "image/png": "[encoded data removed]",
      "text/plain": [
       "<Figure size 1008x720 with 3 Axes>"
      ]
     },
     "metadata": {
      "needs_background": "light"
     },
     "output_type": "display_data"
    }
   ],
   "source": [
    "from mpl_finance import candlestick_ohlc\n",
    "\n",
    "fig = plt.figure(figsize=(14,10))\n",
    "ax1 = plt.subplot(2, 1, 1)\n",
    "candlestick_ohlc(ax1,dfc.values, width=0.5, colorup='g', colordown='r', alpha=1.0)\n",
    "ax1.xaxis_date()\n",
    "ax1.xaxis.set_major_formatter(mdates.DateFormatter('%d-%m-%Y'))\n",
    "ax1.grid(True, which='both')\n",
    "ax1.minorticks_on()\n",
    "ax1v = ax1.twinx()\n",
    "colors = dfc.VolumePositive.map({True: 'g', False: 'r'})\n",
    "ax1v.bar(dfc.Date, dfc['Volume'], color=colors, alpha=0.4)\n",
    "ax1v.axes.yaxis.set_ticklabels([])\n",
    "ax1v.set_ylim(0, 3*df1.Volume.max())\n",
    "ax1.set_title('Stock '+ symbol1 +' Closing Price')\n",
    "ax1.set_ylabel('Price')\n",
    "\n",
    "ax2 = plt.subplot(2, 1, 2)\n",
    "ax2.plot(df['Cov'], label='Covariance', color='black')\n",
    "ax2.grid()\n",
    "ax2.legend(loc='best')\n",
    "ax2.set_ylabel('Covariance')\n",
    "ax2.set_xlabel('Date')"
   ]
  },
  {
   "cell_type": "code",
   "execution_count": null,
   "metadata": {},
   "outputs": [],
   "source": []
  }
 ],
 "metadata": {
  "kernel_info": {
   "name": "python3"
  },
  "kernelspec": {
   "display_name": "Python 3 (ipykernel)",
   "language": "python",
   "name": "python3"
  },
  "language_info": {
   "codemirror_mode": {
    "name": "ipython",
    "version": 3
   },
   "file_extension": ".py",
   "mimetype": "text/x-python",
   "name": "python",
   "nbconvert_exporter": "python",
   "pygments_lexer": "ipython3",
   "version": "3.9.7"
  },
  "nteract": {
   "version": "0.14.2"
  }
 },
 "nbformat": 4,
 "nbformat_minor": 4
}
