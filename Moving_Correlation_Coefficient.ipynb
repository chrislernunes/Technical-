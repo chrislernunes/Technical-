{
 "cells": [
  {
   "cell_type": "markdown",
   "metadata": {},
   "source": [
    "# Moving Correlation Coefficient"
   ]
  },
  {
   "cell_type": "markdown",
   "metadata": {},
   "source": [
    "https://www.fmlabs.com/reference/default.htm"
   ]
  },
  {
   "cell_type": "code",
   "execution_count": 1,
   "metadata": {
    "collapsed": false,
    "inputHidden": false,
    "jupyter": {
     "outputs_hidden": false
    },
    "outputHidden": false
   },
   "outputs": [],
   "source": [
    "import numpy as np\n",
    "import pandas as pd\n",
    "import matplotlib.pyplot as plt\n",
    "\n",
    "import warnings\n",
    "warnings.filterwarnings(\"ignore\")\n",
    "\n",
    "# fix_yahoo_finance is used to fetch data \n",
    "import yfinance as yf\n",
    "yf.pdr_override()"
   ]
  },
  {
   "cell_type": "code",
   "execution_count": 2,
   "metadata": {
    "collapsed": false,
    "inputHidden": false,
    "jupyter": {
     "outputs_hidden": false
    },
    "outputHidden": false
   },
   "outputs": [
    {
     "name": "stdout",
     "output_type": "stream",
     "text": [
      "[*********************100%***********************]  1 of 1 completed\n",
      "[*********************100%***********************]  1 of 1 completed\n"
     ]
    },
    {
     "data": {
      "text/html": [
       "<div>\n",
       "<style scoped>\n",
       "    .dataframe tbody tr th:only-of-type {\n",
       "        vertical-align: middle;\n",
       "    }\n",
       "\n",
       "    .dataframe tbody tr th {\n",
       "        vertical-align: top;\n",
       "    }\n",
       "\n",
       "    .dataframe thead th {\n",
       "        text-align: right;\n",
       "    }\n",
       "</style>\n",
       "<table border=\"1\" class=\"dataframe\">\n",
       "  <thead>\n",
       "    <tr style=\"text-align: right;\">\n",
       "      <th></th>\n",
       "      <th>Open</th>\n",
       "      <th>High</th>\n",
       "      <th>Low</th>\n",
       "      <th>Close</th>\n",
       "      <th>Adj Close</th>\n",
       "      <th>Volume</th>\n",
       "    </tr>\n",
       "    <tr>\n",
       "      <th>Date</th>\n",
       "      <th></th>\n",
       "      <th></th>\n",
       "      <th></th>\n",
       "      <th></th>\n",
       "      <th></th>\n",
       "      <th></th>\n",
       "    </tr>\n",
       "  </thead>\n",
       "  <tbody>\n",
       "    <tr>\n",
       "      <th>2020-01-01 00:00:00+05:30</th>\n",
       "      <td>12202.150391</td>\n",
       "      <td>12222.200195</td>\n",
       "      <td>12165.299805</td>\n",
       "      <td>12182.500000</td>\n",
       "      <td>12182.500000</td>\n",
       "      <td>304100</td>\n",
       "    </tr>\n",
       "    <tr>\n",
       "      <th>2020-01-02 00:00:00+05:30</th>\n",
       "      <td>12198.549805</td>\n",
       "      <td>12289.900391</td>\n",
       "      <td>12195.250000</td>\n",
       "      <td>12282.200195</td>\n",
       "      <td>12282.200195</td>\n",
       "      <td>407700</td>\n",
       "    </tr>\n",
       "    <tr>\n",
       "      <th>2020-01-03 00:00:00+05:30</th>\n",
       "      <td>12261.099609</td>\n",
       "      <td>12265.599609</td>\n",
       "      <td>12191.349609</td>\n",
       "      <td>12226.650391</td>\n",
       "      <td>12226.650391</td>\n",
       "      <td>428800</td>\n",
       "    </tr>\n",
       "    <tr>\n",
       "      <th>2020-01-06 00:00:00+05:30</th>\n",
       "      <td>12170.599609</td>\n",
       "      <td>12179.099609</td>\n",
       "      <td>11974.200195</td>\n",
       "      <td>11993.049805</td>\n",
       "      <td>11993.049805</td>\n",
       "      <td>396500</td>\n",
       "    </tr>\n",
       "    <tr>\n",
       "      <th>2020-01-07 00:00:00+05:30</th>\n",
       "      <td>12079.099609</td>\n",
       "      <td>12152.150391</td>\n",
       "      <td>12005.349609</td>\n",
       "      <td>12052.950195</td>\n",
       "      <td>12052.950195</td>\n",
       "      <td>447800</td>\n",
       "    </tr>\n",
       "  </tbody>\n",
       "</table>\n",
       "</div>"
      ],
      "text/plain": [
       "                                   Open          High           Low  \\\n",
       "Date                                                                  \n",
       "2020-01-01 00:00:00+05:30  12202.150391  12222.200195  12165.299805   \n",
       "2020-01-02 00:00:00+05:30  12198.549805  12289.900391  12195.250000   \n",
       "2020-01-03 00:00:00+05:30  12261.099609  12265.599609  12191.349609   \n",
       "2020-01-06 00:00:00+05:30  12170.599609  12179.099609  11974.200195   \n",
       "2020-01-07 00:00:00+05:30  12079.099609  12152.150391  12005.349609   \n",
       "\n",
       "                                  Close     Adj Close  Volume  \n",
       "Date                                                           \n",
       "2020-01-01 00:00:00+05:30  12182.500000  12182.500000  304100  \n",
       "2020-01-02 00:00:00+05:30  12282.200195  12282.200195  407700  \n",
       "2020-01-03 00:00:00+05:30  12226.650391  12226.650391  428800  \n",
       "2020-01-06 00:00:00+05:30  11993.049805  11993.049805  396500  \n",
       "2020-01-07 00:00:00+05:30  12052.950195  12052.950195  447800  "
      ]
     },
     "execution_count": 2,
     "metadata": {},
     "output_type": "execute_result"
    }
   ],
   "source": [
    "# input\n",
    "symbol1 = '^nsei'\n",
    "symbol2 = '^nsebank'\n",
    "start = '2020-01-01'\n",
    "end = '2023-01-01'\n",
    "\n",
    "# Read data \n",
    "df1 = yf.download(symbol1,start,end)\n",
    "df2 = yf.download(symbol2,start,end)\n",
    "\n",
    "# View Columns\n",
    "df1.head()"
   ]
  },
  {
   "cell_type": "code",
   "execution_count": 3,
   "metadata": {
    "collapsed": false,
    "inputHidden": false,
    "jupyter": {
     "outputs_hidden": false
    },
    "outputHidden": false
   },
   "outputs": [
    {
     "data": {
      "text/html": [
       "<div>\n",
       "<style scoped>\n",
       "    .dataframe tbody tr th:only-of-type {\n",
       "        vertical-align: middle;\n",
       "    }\n",
       "\n",
       "    .dataframe tbody tr th {\n",
       "        vertical-align: top;\n",
       "    }\n",
       "\n",
       "    .dataframe thead th {\n",
       "        text-align: right;\n",
       "    }\n",
       "</style>\n",
       "<table border=\"1\" class=\"dataframe\">\n",
       "  <thead>\n",
       "    <tr style=\"text-align: right;\">\n",
       "      <th></th>\n",
       "      <th>Open</th>\n",
       "      <th>High</th>\n",
       "      <th>Low</th>\n",
       "      <th>Close</th>\n",
       "      <th>Adj Close</th>\n",
       "      <th>Volume</th>\n",
       "    </tr>\n",
       "    <tr>\n",
       "      <th>Date</th>\n",
       "      <th></th>\n",
       "      <th></th>\n",
       "      <th></th>\n",
       "      <th></th>\n",
       "      <th></th>\n",
       "      <th></th>\n",
       "    </tr>\n",
       "  </thead>\n",
       "  <tbody>\n",
       "    <tr>\n",
       "      <th>2020-01-02 00:00:00+05:30</th>\n",
       "      <td>32133.150391</td>\n",
       "      <td>32465.449219</td>\n",
       "      <td>32121.400391</td>\n",
       "      <td>32443.849609</td>\n",
       "      <td>32443.472656</td>\n",
       "      <td>253600</td>\n",
       "    </tr>\n",
       "    <tr>\n",
       "      <th>2020-01-03 00:00:00+05:30</th>\n",
       "      <td>32326.949219</td>\n",
       "      <td>32329.800781</td>\n",
       "      <td>31960.400391</td>\n",
       "      <td>32069.250000</td>\n",
       "      <td>32068.876953</td>\n",
       "      <td>217600</td>\n",
       "    </tr>\n",
       "    <tr>\n",
       "      <th>2020-01-06 00:00:00+05:30</th>\n",
       "      <td>31910.449219</td>\n",
       "      <td>31914.449219</td>\n",
       "      <td>31170.550781</td>\n",
       "      <td>31237.150391</td>\n",
       "      <td>31236.787109</td>\n",
       "      <td>256200</td>\n",
       "    </tr>\n",
       "    <tr>\n",
       "      <th>2020-01-07 00:00:00+05:30</th>\n",
       "      <td>31598.050781</td>\n",
       "      <td>31851.449219</td>\n",
       "      <td>31200.900391</td>\n",
       "      <td>31399.400391</td>\n",
       "      <td>31399.035156</td>\n",
       "      <td>294400</td>\n",
       "    </tr>\n",
       "    <tr>\n",
       "      <th>2020-01-08 00:00:00+05:30</th>\n",
       "      <td>30995.500000</td>\n",
       "      <td>31451.849609</td>\n",
       "      <td>30899.550781</td>\n",
       "      <td>31373.650391</td>\n",
       "      <td>31373.285156</td>\n",
       "      <td>304500</td>\n",
       "    </tr>\n",
       "  </tbody>\n",
       "</table>\n",
       "</div>"
      ],
      "text/plain": [
       "                                   Open          High           Low  \\\n",
       "Date                                                                  \n",
       "2020-01-02 00:00:00+05:30  32133.150391  32465.449219  32121.400391   \n",
       "2020-01-03 00:00:00+05:30  32326.949219  32329.800781  31960.400391   \n",
       "2020-01-06 00:00:00+05:30  31910.449219  31914.449219  31170.550781   \n",
       "2020-01-07 00:00:00+05:30  31598.050781  31851.449219  31200.900391   \n",
       "2020-01-08 00:00:00+05:30  30995.500000  31451.849609  30899.550781   \n",
       "\n",
       "                                  Close     Adj Close  Volume  \n",
       "Date                                                           \n",
       "2020-01-02 00:00:00+05:30  32443.849609  32443.472656  253600  \n",
       "2020-01-03 00:00:00+05:30  32069.250000  32068.876953  217600  \n",
       "2020-01-06 00:00:00+05:30  31237.150391  31236.787109  256200  \n",
       "2020-01-07 00:00:00+05:30  31399.400391  31399.035156  294400  \n",
       "2020-01-08 00:00:00+05:30  31373.650391  31373.285156  304500  "
      ]
     },
     "execution_count": 3,
     "metadata": {},
     "output_type": "execute_result"
    }
   ],
   "source": [
    "df2.head()"
   ]
  },
  {
   "cell_type": "code",
   "execution_count": 4,
   "metadata": {
    "collapsed": false,
    "inputHidden": false,
    "jupyter": {
     "outputs_hidden": false
    },
    "outputHidden": false
   },
   "outputs": [],
   "source": [
    "cc = df1['Adj Close'].corr(df2['Adj Close'])"
   ]
  },
  {
   "cell_type": "code",
   "execution_count": 5,
   "metadata": {
    "collapsed": false,
    "inputHidden": false,
    "jupyter": {
     "outputs_hidden": false
    },
    "outputHidden": false
   },
   "outputs": [
    {
     "data": {
      "text/plain": [
       "0.960178223656317"
      ]
     },
     "execution_count": 5,
     "metadata": {},
     "output_type": "execute_result"
    }
   ],
   "source": [
    "cc"
   ]
  },
  {
   "cell_type": "code",
   "execution_count": 6,
   "metadata": {
    "collapsed": false,
    "inputHidden": false,
    "jupyter": {
     "outputs_hidden": false
    },
    "outputHidden": false
   },
   "outputs": [],
   "source": [
    "df = pd.concat([df1['Adj Close'], df2['Adj Close']],axis=1)"
   ]
  },
  {
   "cell_type": "code",
   "execution_count": 7,
   "metadata": {
    "collapsed": false,
    "inputHidden": false,
    "jupyter": {
     "outputs_hidden": false
    },
    "outputHidden": false
   },
   "outputs": [
    {
     "data": {
      "text/html": [
       "<div>\n",
       "<style scoped>\n",
       "    .dataframe tbody tr th:only-of-type {\n",
       "        vertical-align: middle;\n",
       "    }\n",
       "\n",
       "    .dataframe tbody tr th {\n",
       "        vertical-align: top;\n",
       "    }\n",
       "\n",
       "    .dataframe thead th {\n",
       "        text-align: right;\n",
       "    }\n",
       "</style>\n",
       "<table border=\"1\" class=\"dataframe\">\n",
       "  <thead>\n",
       "    <tr style=\"text-align: right;\">\n",
       "      <th></th>\n",
       "      <th>Adj Close</th>\n",
       "      <th>Adj Close</th>\n",
       "    </tr>\n",
       "    <tr>\n",
       "      <th>Date</th>\n",
       "      <th></th>\n",
       "      <th></th>\n",
       "    </tr>\n",
       "  </thead>\n",
       "  <tbody>\n",
       "    <tr>\n",
       "      <th>2020-01-01 00:00:00+05:30</th>\n",
       "      <td>12182.500000</td>\n",
       "      <td>NaN</td>\n",
       "    </tr>\n",
       "    <tr>\n",
       "      <th>2020-01-02 00:00:00+05:30</th>\n",
       "      <td>12282.200195</td>\n",
       "      <td>32443.472656</td>\n",
       "    </tr>\n",
       "    <tr>\n",
       "      <th>2020-01-03 00:00:00+05:30</th>\n",
       "      <td>12226.650391</td>\n",
       "      <td>32068.876953</td>\n",
       "    </tr>\n",
       "    <tr>\n",
       "      <th>2020-01-06 00:00:00+05:30</th>\n",
       "      <td>11993.049805</td>\n",
       "      <td>31236.787109</td>\n",
       "    </tr>\n",
       "    <tr>\n",
       "      <th>2020-01-07 00:00:00+05:30</th>\n",
       "      <td>12052.950195</td>\n",
       "      <td>31399.035156</td>\n",
       "    </tr>\n",
       "  </tbody>\n",
       "</table>\n",
       "</div>"
      ],
      "text/plain": [
       "                              Adj Close     Adj Close\n",
       "Date                                                 \n",
       "2020-01-01 00:00:00+05:30  12182.500000           NaN\n",
       "2020-01-02 00:00:00+05:30  12282.200195  32443.472656\n",
       "2020-01-03 00:00:00+05:30  12226.650391  32068.876953\n",
       "2020-01-06 00:00:00+05:30  11993.049805  31236.787109\n",
       "2020-01-07 00:00:00+05:30  12052.950195  31399.035156"
      ]
     },
     "execution_count": 7,
     "metadata": {},
     "output_type": "execute_result"
    }
   ],
   "source": [
    "df.head()"
   ]
  },
  {
   "cell_type": "code",
   "execution_count": 8,
   "metadata": {
    "collapsed": false,
    "inputHidden": false,
    "jupyter": {
     "outputs_hidden": false
    },
    "outputHidden": false
   },
   "outputs": [],
   "source": [
    "# Rename columns\n",
    "df.columns = [symbol1,symbol2]"
   ]
  },
  {
   "cell_type": "code",
   "execution_count": 9,
   "metadata": {
    "collapsed": false,
    "inputHidden": false,
    "jupyter": {
     "outputs_hidden": false
    },
    "outputHidden": false
   },
   "outputs": [
    {
     "data": {
      "text/html": [
       "<div>\n",
       "<style scoped>\n",
       "    .dataframe tbody tr th:only-of-type {\n",
       "        vertical-align: middle;\n",
       "    }\n",
       "\n",
       "    .dataframe tbody tr th {\n",
       "        vertical-align: top;\n",
       "    }\n",
       "\n",
       "    .dataframe thead th {\n",
       "        text-align: right;\n",
       "    }\n",
       "</style>\n",
       "<table border=\"1\" class=\"dataframe\">\n",
       "  <thead>\n",
       "    <tr style=\"text-align: right;\">\n",
       "      <th></th>\n",
       "      <th>^nsei</th>\n",
       "      <th>^nsebank</th>\n",
       "    </tr>\n",
       "    <tr>\n",
       "      <th>Date</th>\n",
       "      <th></th>\n",
       "      <th></th>\n",
       "    </tr>\n",
       "  </thead>\n",
       "  <tbody>\n",
       "    <tr>\n",
       "      <th>2020-01-01 00:00:00+05:30</th>\n",
       "      <td>12182.500000</td>\n",
       "      <td>NaN</td>\n",
       "    </tr>\n",
       "    <tr>\n",
       "      <th>2020-01-02 00:00:00+05:30</th>\n",
       "      <td>12282.200195</td>\n",
       "      <td>32443.472656</td>\n",
       "    </tr>\n",
       "    <tr>\n",
       "      <th>2020-01-03 00:00:00+05:30</th>\n",
       "      <td>12226.650391</td>\n",
       "      <td>32068.876953</td>\n",
       "    </tr>\n",
       "    <tr>\n",
       "      <th>2020-01-06 00:00:00+05:30</th>\n",
       "      <td>11993.049805</td>\n",
       "      <td>31236.787109</td>\n",
       "    </tr>\n",
       "    <tr>\n",
       "      <th>2020-01-07 00:00:00+05:30</th>\n",
       "      <td>12052.950195</td>\n",
       "      <td>31399.035156</td>\n",
       "    </tr>\n",
       "  </tbody>\n",
       "</table>\n",
       "</div>"
      ],
      "text/plain": [
       "                                  ^nsei      ^nsebank\n",
       "Date                                                 \n",
       "2020-01-01 00:00:00+05:30  12182.500000           NaN\n",
       "2020-01-02 00:00:00+05:30  12282.200195  32443.472656\n",
       "2020-01-03 00:00:00+05:30  12226.650391  32068.876953\n",
       "2020-01-06 00:00:00+05:30  11993.049805  31236.787109\n",
       "2020-01-07 00:00:00+05:30  12052.950195  31399.035156"
      ]
     },
     "execution_count": 9,
     "metadata": {},
     "output_type": "execute_result"
    }
   ],
   "source": [
    "df.head()"
   ]
  },
  {
   "cell_type": "code",
   "execution_count": 11,
   "metadata": {
    "collapsed": false,
    "inputHidden": false,
    "jupyter": {
     "outputs_hidden": false
    },
    "outputHidden": false
   },
   "outputs": [],
   "source": [
    "n = 14\n",
    "df['M_Cor'] = df['^nsei'].rolling(n).corr(df['^nsebank']).rolling(n).mean()"
   ]
  },
  {
   "cell_type": "code",
   "execution_count": 12,
   "metadata": {
    "collapsed": false,
    "inputHidden": false,
    "jupyter": {
     "outputs_hidden": false
    },
    "outputHidden": false
   },
   "outputs": [
    {
     "data": {
      "text/html": [
       "<div>\n",
       "<style scoped>\n",
       "    .dataframe tbody tr th:only-of-type {\n",
       "        vertical-align: middle;\n",
       "    }\n",
       "\n",
       "    .dataframe tbody tr th {\n",
       "        vertical-align: top;\n",
       "    }\n",
       "\n",
       "    .dataframe thead th {\n",
       "        text-align: right;\n",
       "    }\n",
       "</style>\n",
       "<table border=\"1\" class=\"dataframe\">\n",
       "  <thead>\n",
       "    <tr style=\"text-align: right;\">\n",
       "      <th></th>\n",
       "      <th>^nsei</th>\n",
       "      <th>^nsebank</th>\n",
       "      <th>M_Cor</th>\n",
       "    </tr>\n",
       "    <tr>\n",
       "      <th>Date</th>\n",
       "      <th></th>\n",
       "      <th></th>\n",
       "      <th></th>\n",
       "    </tr>\n",
       "  </thead>\n",
       "  <tbody>\n",
       "    <tr>\n",
       "      <th>2020-01-01 00:00:00+05:30</th>\n",
       "      <td>12182.500000</td>\n",
       "      <td>NaN</td>\n",
       "      <td>NaN</td>\n",
       "    </tr>\n",
       "    <tr>\n",
       "      <th>2020-01-02 00:00:00+05:30</th>\n",
       "      <td>12282.200195</td>\n",
       "      <td>32443.472656</td>\n",
       "      <td>NaN</td>\n",
       "    </tr>\n",
       "    <tr>\n",
       "      <th>2020-01-03 00:00:00+05:30</th>\n",
       "      <td>12226.650391</td>\n",
       "      <td>32068.876953</td>\n",
       "      <td>NaN</td>\n",
       "    </tr>\n",
       "    <tr>\n",
       "      <th>2020-01-06 00:00:00+05:30</th>\n",
       "      <td>11993.049805</td>\n",
       "      <td>31236.787109</td>\n",
       "      <td>NaN</td>\n",
       "    </tr>\n",
       "    <tr>\n",
       "      <th>2020-01-07 00:00:00+05:30</th>\n",
       "      <td>12052.950195</td>\n",
       "      <td>31399.035156</td>\n",
       "      <td>NaN</td>\n",
       "    </tr>\n",
       "    <tr>\n",
       "      <th>2020-01-08 00:00:00+05:30</th>\n",
       "      <td>12025.349609</td>\n",
       "      <td>31373.285156</td>\n",
       "      <td>NaN</td>\n",
       "    </tr>\n",
       "    <tr>\n",
       "      <th>2020-01-09 00:00:00+05:30</th>\n",
       "      <td>12215.900391</td>\n",
       "      <td>32092.027344</td>\n",
       "      <td>NaN</td>\n",
       "    </tr>\n",
       "    <tr>\n",
       "      <th>2020-01-10 00:00:00+05:30</th>\n",
       "      <td>12256.799805</td>\n",
       "      <td>32097.027344</td>\n",
       "      <td>NaN</td>\n",
       "    </tr>\n",
       "    <tr>\n",
       "      <th>2020-01-13 00:00:00+05:30</th>\n",
       "      <td>12329.549805</td>\n",
       "      <td>32177.277344</td>\n",
       "      <td>NaN</td>\n",
       "    </tr>\n",
       "    <tr>\n",
       "      <th>2020-01-14 00:00:00+05:30</th>\n",
       "      <td>12362.299805</td>\n",
       "      <td>32071.277344</td>\n",
       "      <td>NaN</td>\n",
       "    </tr>\n",
       "    <tr>\n",
       "      <th>2020-01-15 00:00:00+05:30</th>\n",
       "      <td>12343.299805</td>\n",
       "      <td>31824.531250</td>\n",
       "      <td>NaN</td>\n",
       "    </tr>\n",
       "    <tr>\n",
       "      <th>2020-01-16 00:00:00+05:30</th>\n",
       "      <td>12355.500000</td>\n",
       "      <td>31853.529297</td>\n",
       "      <td>NaN</td>\n",
       "    </tr>\n",
       "    <tr>\n",
       "      <th>2020-01-17 00:00:00+05:30</th>\n",
       "      <td>12352.349609</td>\n",
       "      <td>31590.283203</td>\n",
       "      <td>NaN</td>\n",
       "    </tr>\n",
       "    <tr>\n",
       "      <th>2020-01-20 00:00:00+05:30</th>\n",
       "      <td>12224.549805</td>\n",
       "      <td>31080.289062</td>\n",
       "      <td>NaN</td>\n",
       "    </tr>\n",
       "    <tr>\n",
       "      <th>2020-01-21 00:00:00+05:30</th>\n",
       "      <td>12169.849609</td>\n",
       "      <td>30947.191406</td>\n",
       "      <td>NaN</td>\n",
       "    </tr>\n",
       "    <tr>\n",
       "      <th>2020-01-22 00:00:00+05:30</th>\n",
       "      <td>12106.900391</td>\n",
       "      <td>30701.091797</td>\n",
       "      <td>NaN</td>\n",
       "    </tr>\n",
       "    <tr>\n",
       "      <th>2020-01-23 00:00:00+05:30</th>\n",
       "      <td>12180.349609</td>\n",
       "      <td>31003.689453</td>\n",
       "      <td>NaN</td>\n",
       "    </tr>\n",
       "    <tr>\n",
       "      <th>2020-01-24 00:00:00+05:30</th>\n",
       "      <td>12248.250000</td>\n",
       "      <td>31241.386719</td>\n",
       "      <td>NaN</td>\n",
       "    </tr>\n",
       "    <tr>\n",
       "      <th>2020-01-27 00:00:00+05:30</th>\n",
       "      <td>12119.000000</td>\n",
       "      <td>30837.041016</td>\n",
       "      <td>NaN</td>\n",
       "    </tr>\n",
       "    <tr>\n",
       "      <th>2020-01-28 00:00:00+05:30</th>\n",
       "      <td>12055.799805</td>\n",
       "      <td>30761.042969</td>\n",
       "      <td>NaN</td>\n",
       "    </tr>\n",
       "    <tr>\n",
       "      <th>2020-01-29 00:00:00+05:30</th>\n",
       "      <td>12129.500000</td>\n",
       "      <td>30876.640625</td>\n",
       "      <td>NaN</td>\n",
       "    </tr>\n",
       "    <tr>\n",
       "      <th>2020-01-30 00:00:00+05:30</th>\n",
       "      <td>12035.799805</td>\n",
       "      <td>30647.044922</td>\n",
       "      <td>NaN</td>\n",
       "    </tr>\n",
       "    <tr>\n",
       "      <th>2020-01-31 00:00:00+05:30</th>\n",
       "      <td>11962.099609</td>\n",
       "      <td>30833.242188</td>\n",
       "      <td>NaN</td>\n",
       "    </tr>\n",
       "    <tr>\n",
       "      <th>2020-02-03 00:00:00+05:30</th>\n",
       "      <td>11707.900391</td>\n",
       "      <td>30022.900391</td>\n",
       "      <td>NaN</td>\n",
       "    </tr>\n",
       "    <tr>\n",
       "      <th>2020-02-04 00:00:00+05:30</th>\n",
       "      <td>11979.650391</td>\n",
       "      <td>30686.341797</td>\n",
       "      <td>NaN</td>\n",
       "    </tr>\n",
       "    <tr>\n",
       "      <th>2020-02-05 00:00:00+05:30</th>\n",
       "      <td>12089.150391</td>\n",
       "      <td>31001.589844</td>\n",
       "      <td>NaN</td>\n",
       "    </tr>\n",
       "    <tr>\n",
       "      <th>2020-02-06 00:00:00+05:30</th>\n",
       "      <td>12137.950195</td>\n",
       "      <td>31303.687500</td>\n",
       "      <td>NaN</td>\n",
       "    </tr>\n",
       "    <tr>\n",
       "      <th>2020-02-07 00:00:00+05:30</th>\n",
       "      <td>12098.349609</td>\n",
       "      <td>31201.585938</td>\n",
       "      <td>0.799163</td>\n",
       "    </tr>\n",
       "    <tr>\n",
       "      <th>2020-02-10 00:00:00+05:30</th>\n",
       "      <td>12031.500000</td>\n",
       "      <td>31057.789062</td>\n",
       "      <td>0.817340</td>\n",
       "    </tr>\n",
       "    <tr>\n",
       "      <th>2020-02-11 00:00:00+05:30</th>\n",
       "      <td>12107.900391</td>\n",
       "      <td>31300.236328</td>\n",
       "      <td>0.833825</td>\n",
       "    </tr>\n",
       "  </tbody>\n",
       "</table>\n",
       "</div>"
      ],
      "text/plain": [
       "                                  ^nsei      ^nsebank     M_Cor\n",
       "Date                                                           \n",
       "2020-01-01 00:00:00+05:30  12182.500000           NaN       NaN\n",
       "2020-01-02 00:00:00+05:30  12282.200195  32443.472656       NaN\n",
       "2020-01-03 00:00:00+05:30  12226.650391  32068.876953       NaN\n",
       "2020-01-06 00:00:00+05:30  11993.049805  31236.787109       NaN\n",
       "2020-01-07 00:00:00+05:30  12052.950195  31399.035156       NaN\n",
       "2020-01-08 00:00:00+05:30  12025.349609  31373.285156       NaN\n",
       "2020-01-09 00:00:00+05:30  12215.900391  32092.027344       NaN\n",
       "2020-01-10 00:00:00+05:30  12256.799805  32097.027344       NaN\n",
       "2020-01-13 00:00:00+05:30  12329.549805  32177.277344       NaN\n",
       "2020-01-14 00:00:00+05:30  12362.299805  32071.277344       NaN\n",
       "2020-01-15 00:00:00+05:30  12343.299805  31824.531250       NaN\n",
       "2020-01-16 00:00:00+05:30  12355.500000  31853.529297       NaN\n",
       "2020-01-17 00:00:00+05:30  12352.349609  31590.283203       NaN\n",
       "2020-01-20 00:00:00+05:30  12224.549805  31080.289062       NaN\n",
       "2020-01-21 00:00:00+05:30  12169.849609  30947.191406       NaN\n",
       "2020-01-22 00:00:00+05:30  12106.900391  30701.091797       NaN\n",
       "2020-01-23 00:00:00+05:30  12180.349609  31003.689453       NaN\n",
       "2020-01-24 00:00:00+05:30  12248.250000  31241.386719       NaN\n",
       "2020-01-27 00:00:00+05:30  12119.000000  30837.041016       NaN\n",
       "2020-01-28 00:00:00+05:30  12055.799805  30761.042969       NaN\n",
       "2020-01-29 00:00:00+05:30  12129.500000  30876.640625       NaN\n",
       "2020-01-30 00:00:00+05:30  12035.799805  30647.044922       NaN\n",
       "2020-01-31 00:00:00+05:30  11962.099609  30833.242188       NaN\n",
       "2020-02-03 00:00:00+05:30  11707.900391  30022.900391       NaN\n",
       "2020-02-04 00:00:00+05:30  11979.650391  30686.341797       NaN\n",
       "2020-02-05 00:00:00+05:30  12089.150391  31001.589844       NaN\n",
       "2020-02-06 00:00:00+05:30  12137.950195  31303.687500       NaN\n",
       "2020-02-07 00:00:00+05:30  12098.349609  31201.585938  0.799163\n",
       "2020-02-10 00:00:00+05:30  12031.500000  31057.789062  0.817340\n",
       "2020-02-11 00:00:00+05:30  12107.900391  31300.236328  0.833825"
      ]
     },
     "execution_count": 12,
     "metadata": {},
     "output_type": "execute_result"
    }
   ],
   "source": [
    "df.head(30)"
   ]
  },
  {
   "cell_type": "code",
   "execution_count": 13,
   "metadata": {
    "collapsed": false,
    "inputHidden": false,
    "jupyter": {
     "outputs_hidden": false
    },
    "outputHidden": false
   },
   "outputs": [
    {
     "name": "stderr",
     "output_type": "stream",
     "text": [
      "No artists with labels found to put in legend.  Note that artists whose label start with an underscore are ignored when legend() is called with no argument.\n"
     ]
    },
    {
     "data": {
      "text/plain": [
       "Text(0.5, 0, 'Date')"
      ]
     },
     "execution_count": 13,
     "metadata": {},
     "output_type": "execute_result"
    },
    {
     "data": {
      "image/png": "[encoded data removed]",
      "text/plain": [
       "<Figure size 1008x720 with 2 Axes>"
      ]
     },
     "metadata": {
      "needs_background": "light"
     },
     "output_type": "display_data"
    }
   ],
   "source": [
    "fig = plt.figure(figsize=(14,10))\n",
    "ax1 = plt.subplot(2, 1, 1)\n",
    "ax1.plot(df1['Adj Close'])\n",
    "ax1.set_title('Stock '+ symbol1 +' Closing Price')\n",
    "ax1.set_ylabel('Price')\n",
    "ax1.legend(loc='best')\n",
    "\n",
    "ax2 = plt.subplot(2, 1, 2)\n",
    "ax2.plot(df['M_Cor'], label='Moving Correlation Coefficient', color='black')\n",
    "ax2.grid()\n",
    "ax2.legend(loc='best')\n",
    "ax2.set_ylabel('Moving Correlation Coefficient')\n",
    "ax2.set_xlabel('Date')"
   ]
  },
  {
   "cell_type": "markdown",
   "metadata": {},
   "source": [
    "## Candlestick with Moving Correlation Coefficient"
   ]
  },
  {
   "cell_type": "code",
   "execution_count": 14,
   "metadata": {
    "collapsed": false,
    "inputHidden": false,
    "jupyter": {
     "outputs_hidden": false
    },
    "outputHidden": false
   },
   "outputs": [
    {
     "data": {
      "text/html": [
       "<div>\n",
       "<style scoped>\n",
       "    .dataframe tbody tr th:only-of-type {\n",
       "        vertical-align: middle;\n",
       "    }\n",
       "\n",
       "    .dataframe tbody tr th {\n",
       "        vertical-align: top;\n",
       "    }\n",
       "\n",
       "    .dataframe thead th {\n",
       "        text-align: right;\n",
       "    }\n",
       "</style>\n",
       "<table border=\"1\" class=\"dataframe\">\n",
       "  <thead>\n",
       "    <tr style=\"text-align: right;\">\n",
       "      <th></th>\n",
       "      <th>Date</th>\n",
       "      <th>Open</th>\n",
       "      <th>High</th>\n",
       "      <th>Low</th>\n",
       "      <th>Close</th>\n",
       "      <th>Adj Close</th>\n",
       "      <th>Volume</th>\n",
       "      <th>VolumePositive</th>\n",
       "    </tr>\n",
       "  </thead>\n",
       "  <tbody>\n",
       "    <tr>\n",
       "      <th>0</th>\n",
       "      <td>18261.770833</td>\n",
       "      <td>12202.150391</td>\n",
       "      <td>12222.200195</td>\n",
       "      <td>12165.299805</td>\n",
       "      <td>12182.500000</td>\n",
       "      <td>12182.500000</td>\n",
       "      <td>304100</td>\n",
       "      <td>False</td>\n",
       "    </tr>\n",
       "    <tr>\n",
       "      <th>1</th>\n",
       "      <td>18262.770833</td>\n",
       "      <td>12198.549805</td>\n",
       "      <td>12289.900391</td>\n",
       "      <td>12195.250000</td>\n",
       "      <td>12282.200195</td>\n",
       "      <td>12282.200195</td>\n",
       "      <td>407700</td>\n",
       "      <td>True</td>\n",
       "    </tr>\n",
       "    <tr>\n",
       "      <th>2</th>\n",
       "      <td>18263.770833</td>\n",
       "      <td>12261.099609</td>\n",
       "      <td>12265.599609</td>\n",
       "      <td>12191.349609</td>\n",
       "      <td>12226.650391</td>\n",
       "      <td>12226.650391</td>\n",
       "      <td>428800</td>\n",
       "      <td>False</td>\n",
       "    </tr>\n",
       "    <tr>\n",
       "      <th>3</th>\n",
       "      <td>18266.770833</td>\n",
       "      <td>12170.599609</td>\n",
       "      <td>12179.099609</td>\n",
       "      <td>11974.200195</td>\n",
       "      <td>11993.049805</td>\n",
       "      <td>11993.049805</td>\n",
       "      <td>396500</td>\n",
       "      <td>False</td>\n",
       "    </tr>\n",
       "    <tr>\n",
       "      <th>4</th>\n",
       "      <td>18267.770833</td>\n",
       "      <td>12079.099609</td>\n",
       "      <td>12152.150391</td>\n",
       "      <td>12005.349609</td>\n",
       "      <td>12052.950195</td>\n",
       "      <td>12052.950195</td>\n",
       "      <td>447800</td>\n",
       "      <td>False</td>\n",
       "    </tr>\n",
       "  </tbody>\n",
       "</table>\n",
       "</div>"
      ],
      "text/plain": [
       "           Date          Open          High           Low         Close  \\\n",
       "0  18261.770833  12202.150391  12222.200195  12165.299805  12182.500000   \n",
       "1  18262.770833  12198.549805  12289.900391  12195.250000  12282.200195   \n",
       "2  18263.770833  12261.099609  12265.599609  12191.349609  12226.650391   \n",
       "3  18266.770833  12170.599609  12179.099609  11974.200195  11993.049805   \n",
       "4  18267.770833  12079.099609  12152.150391  12005.349609  12052.950195   \n",
       "\n",
       "      Adj Close  Volume  VolumePositive  \n",
       "0  12182.500000  304100           False  \n",
       "1  12282.200195  407700            True  \n",
       "2  12226.650391  428800           False  \n",
       "3  11993.049805  396500           False  \n",
       "4  12052.950195  447800           False  "
      ]
     },
     "execution_count": 14,
     "metadata": {},
     "output_type": "execute_result"
    }
   ],
   "source": [
    "from matplotlib import dates as mdates\n",
    "import datetime as dt\n",
    "\n",
    "dfc = df1.copy()\n",
    "dfc['VolumePositive'] = dfc['Open'] < dfc['Adj Close']\n",
    "#dfc = dfc.dropna()\n",
    "dfc = dfc.reset_index()\n",
    "dfc['Date'] = pd.to_datetime(dfc['Date'])\n",
    "dfc['Date'] = dfc['Date'].apply(mdates.date2num)\n",
    "dfc.head()"
   ]
  },
  {
   "cell_type": "code",
   "execution_count": 16,
   "metadata": {
    "collapsed": false,
    "inputHidden": false,
    "jupyter": {
     "outputs_hidden": false
    },
    "outputHidden": false
   },
   "outputs": [
    {
     "data": {
      "text/plain": [
       "Text(0.5, 0, 'Date')"
      ]
     },
     "execution_count": 16,
     "metadata": {},
     "output_type": "execute_result"
    },
    {
     "data": {
      "image/png": "[encoded data removed]",
      "text/plain": [
       "<Figure size 1008x720 with 3 Axes>"
      ]
     },
     "metadata": {
      "needs_background": "light"
     },
     "output_type": "display_data"
    }
   ],
   "source": [
    "from mpl_finance import candlestick_ohlc\n",
    "\n",
    "fig = plt.figure(figsize=(14,10))\n",
    "ax1 = plt.subplot(2, 1, 1)\n",
    "candlestick_ohlc(ax1,dfc.values, width=0.5, colorup='g', colordown='r', alpha=1.0)\n",
    "ax1.xaxis_date()\n",
    "ax1.xaxis.set_major_formatter(mdates.DateFormatter('%d-%m-%Y'))\n",
    "ax1.grid(True, which='both')\n",
    "ax1.minorticks_on()\n",
    "ax1v = ax1.twinx()\n",
    "colors = dfc.VolumePositive.map({True: 'g', False: 'r'})\n",
    "ax1v.bar(dfc.Date, dfc['Volume'], color=colors, alpha=0.4)\n",
    "ax1v.axes.yaxis.set_ticklabels([])\n",
    "ax1v.set_ylim(0, 3*df1.Volume.max())\n",
    "ax1.set_title('Stock '+ symbol1 +' Closing Price')\n",
    "ax1.set_ylabel('Price')\n",
    "\n",
    "ax2 = plt.subplot(2, 1, 2)\n",
    "ax2.plot(df['M_Cor'], label='Moving Correlation Coefficient', color='black')\n",
    "ax2.grid()\n",
    "ax2.legend(loc='best')\n",
    "ax2.set_ylabel('Moving Correlation Coefficient')\n",
    "ax2.set_xlabel('Date')"
   ]
  },
  {
   "cell_type": "code",
   "execution_count": null,
   "metadata": {},
   "outputs": [],
   "source": []
  }
 ],
 "metadata": {
  "kernel_info": {
   "name": "python3"
  },
  "kernelspec": {
   "display_name": "Python 3 (ipykernel)",
   "language": "python",
   "name": "python3"
  },
  "language_info": {
   "codemirror_mode": {
    "name": "ipython",
    "version": 3
   },
   "file_extension": ".py",
   "mimetype": "text/x-python",
   "name": "python",
   "nbconvert_exporter": "python",
   "pygments_lexer": "ipython3",
   "version": "3.9.7"
  },
  "nteract": {
   "version": "0.14.2"
  }
 },
 "nbformat": 4,
 "nbformat_minor": 4
}
