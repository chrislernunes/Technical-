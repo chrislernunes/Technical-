{
 "cells": [
  {
   "cell_type": "markdown",
   "metadata": {},
   "source": [
    "# Market Breadth: 52-Week Highs/Lows\n",
    "## New Highs New Lows"
   ]
  },
  {
   "cell_type": "markdown",
   "metadata": {},
   "source": [
    "https://www.investopedia.com/university/marketbreadth/marketbreadth2.asp\n",
    "\n",
    "https://www.marketinout.com/technical_analysis.php?t=New_Highs-New_Lows&id=70\n",
    "\n",
    "https://stockcharts.com/school/doku.php?id=chart_school:market_indicators:high_low_index"
   ]
  },
  {
   "cell_type": "code",
   "execution_count": 1,
   "metadata": {
    "collapsed": false,
    "inputHidden": false,
    "jupyter": {
     "outputs_hidden": false
    },
    "outputHidden": false
   },
   "outputs": [],
   "source": [
    "import numpy as np\n",
    "import pandas as pd\n",
    "import matplotlib.pyplot as plt\n",
    "\n",
    "import warnings\n",
    "warnings.filterwarnings(\"ignore\")\n",
    "\n",
    "# fix_yahoo_finance is used to fetch data \n",
    "import yfinance as yf\n",
    "yf.pdr_override()"
   ]
  },
  {
   "cell_type": "code",
   "execution_count": 2,
   "metadata": {
    "collapsed": false,
    "inputHidden": false,
    "jupyter": {
     "outputs_hidden": false
    },
    "outputHidden": false
   },
   "outputs": [
    {
     "name": "stdout",
     "output_type": "stream",
     "text": [
      "[*********************100%***********************]  1 of 1 completed\n"
     ]
    },
    {
     "data": {
      "text/html": [
       "<div>\n",
       "<style scoped>\n",
       "    .dataframe tbody tr th:only-of-type {\n",
       "        vertical-align: middle;\n",
       "    }\n",
       "\n",
       "    .dataframe tbody tr th {\n",
       "        vertical-align: top;\n",
       "    }\n",
       "\n",
       "    .dataframe thead th {\n",
       "        text-align: right;\n",
       "    }\n",
       "</style>\n",
       "<table border=\"1\" class=\"dataframe\">\n",
       "  <thead>\n",
       "    <tr style=\"text-align: right;\">\n",
       "      <th></th>\n",
       "      <th>Open</th>\n",
       "      <th>High</th>\n",
       "      <th>Low</th>\n",
       "      <th>Close</th>\n",
       "      <th>Adj Close</th>\n",
       "      <th>Volume</th>\n",
       "    </tr>\n",
       "    <tr>\n",
       "      <th>Date</th>\n",
       "      <th></th>\n",
       "      <th></th>\n",
       "      <th></th>\n",
       "      <th></th>\n",
       "      <th></th>\n",
       "      <th></th>\n",
       "    </tr>\n",
       "  </thead>\n",
       "  <tbody>\n",
       "    <tr>\n",
       "      <th>2020-01-02 00:00:00-05:00</th>\n",
       "      <td>3244.669922</td>\n",
       "      <td>3258.139893</td>\n",
       "      <td>3235.530029</td>\n",
       "      <td>3257.850098</td>\n",
       "      <td>3257.850098</td>\n",
       "      <td>3459930000</td>\n",
       "    </tr>\n",
       "    <tr>\n",
       "      <th>2020-01-03 00:00:00-05:00</th>\n",
       "      <td>3226.360107</td>\n",
       "      <td>3246.149902</td>\n",
       "      <td>3222.340088</td>\n",
       "      <td>3234.850098</td>\n",
       "      <td>3234.850098</td>\n",
       "      <td>3484700000</td>\n",
       "    </tr>\n",
       "    <tr>\n",
       "      <th>2020-01-06 00:00:00-05:00</th>\n",
       "      <td>3217.550049</td>\n",
       "      <td>3246.840088</td>\n",
       "      <td>3214.639893</td>\n",
       "      <td>3246.280029</td>\n",
       "      <td>3246.280029</td>\n",
       "      <td>3702460000</td>\n",
       "    </tr>\n",
       "    <tr>\n",
       "      <th>2020-01-07 00:00:00-05:00</th>\n",
       "      <td>3241.860107</td>\n",
       "      <td>3244.909912</td>\n",
       "      <td>3232.429932</td>\n",
       "      <td>3237.179932</td>\n",
       "      <td>3237.179932</td>\n",
       "      <td>3435910000</td>\n",
       "    </tr>\n",
       "    <tr>\n",
       "      <th>2020-01-08 00:00:00-05:00</th>\n",
       "      <td>3238.590088</td>\n",
       "      <td>3267.070068</td>\n",
       "      <td>3236.669922</td>\n",
       "      <td>3253.050049</td>\n",
       "      <td>3253.050049</td>\n",
       "      <td>3726840000</td>\n",
       "    </tr>\n",
       "  </tbody>\n",
       "</table>\n",
       "</div>"
      ],
      "text/plain": [
       "                                  Open         High          Low        Close  \\\n",
       "Date                                                                            \n",
       "2020-01-02 00:00:00-05:00  3244.669922  3258.139893  3235.530029  3257.850098   \n",
       "2020-01-03 00:00:00-05:00  3226.360107  3246.149902  3222.340088  3234.850098   \n",
       "2020-01-06 00:00:00-05:00  3217.550049  3246.840088  3214.639893  3246.280029   \n",
       "2020-01-07 00:00:00-05:00  3241.860107  3244.909912  3232.429932  3237.179932   \n",
       "2020-01-08 00:00:00-05:00  3238.590088  3267.070068  3236.669922  3253.050049   \n",
       "\n",
       "                             Adj Close      Volume  \n",
       "Date                                                \n",
       "2020-01-02 00:00:00-05:00  3257.850098  3459930000  \n",
       "2020-01-03 00:00:00-05:00  3234.850098  3484700000  \n",
       "2020-01-06 00:00:00-05:00  3246.280029  3702460000  \n",
       "2020-01-07 00:00:00-05:00  3237.179932  3435910000  \n",
       "2020-01-08 00:00:00-05:00  3253.050049  3726840000  "
      ]
     },
     "execution_count": 2,
     "metadata": {},
     "output_type": "execute_result"
    }
   ],
   "source": [
    "# input\n",
    "symbol = '^gspc'\n",
    "start = '2020-01-01'\n",
    "end = '2023-01-01'\n",
    "\n",
    "# Read data \n",
    "df = yf.download(symbol,start,end)\n",
    "\n",
    "# View Columns\n",
    "df.head()"
   ]
  },
  {
   "cell_type": "code",
   "execution_count": 3,
   "metadata": {
    "collapsed": false,
    "inputHidden": false,
    "jupyter": {
     "outputs_hidden": false
    },
    "outputHidden": false
   },
   "outputs": [
    {
     "data": {
      "text/html": [
       "<div>\n",
       "<style scoped>\n",
       "    .dataframe tbody tr th:only-of-type {\n",
       "        vertical-align: middle;\n",
       "    }\n",
       "\n",
       "    .dataframe tbody tr th {\n",
       "        vertical-align: top;\n",
       "    }\n",
       "\n",
       "    .dataframe thead th {\n",
       "        text-align: right;\n",
       "    }\n",
       "</style>\n",
       "<table border=\"1\" class=\"dataframe\">\n",
       "  <thead>\n",
       "    <tr style=\"text-align: right;\">\n",
       "      <th></th>\n",
       "      <th>Open</th>\n",
       "      <th>High</th>\n",
       "      <th>Low</th>\n",
       "      <th>Close</th>\n",
       "      <th>Adj Close</th>\n",
       "      <th>Volume</th>\n",
       "    </tr>\n",
       "    <tr>\n",
       "      <th>Date</th>\n",
       "      <th></th>\n",
       "      <th></th>\n",
       "      <th></th>\n",
       "      <th></th>\n",
       "      <th></th>\n",
       "      <th></th>\n",
       "    </tr>\n",
       "  </thead>\n",
       "  <tbody>\n",
       "    <tr>\n",
       "      <th>2022-12-23 00:00:00-05:00</th>\n",
       "      <td>3815.110107</td>\n",
       "      <td>3845.800049</td>\n",
       "      <td>3797.010010</td>\n",
       "      <td>3844.820068</td>\n",
       "      <td>3844.820068</td>\n",
       "      <td>2819280000</td>\n",
       "    </tr>\n",
       "    <tr>\n",
       "      <th>2022-12-27 00:00:00-05:00</th>\n",
       "      <td>3843.340088</td>\n",
       "      <td>3846.649902</td>\n",
       "      <td>3813.219971</td>\n",
       "      <td>3829.250000</td>\n",
       "      <td>3829.250000</td>\n",
       "      <td>3030300000</td>\n",
       "    </tr>\n",
       "    <tr>\n",
       "      <th>2022-12-28 00:00:00-05:00</th>\n",
       "      <td>3829.560059</td>\n",
       "      <td>3848.320068</td>\n",
       "      <td>3780.780029</td>\n",
       "      <td>3783.219971</td>\n",
       "      <td>3783.219971</td>\n",
       "      <td>3083520000</td>\n",
       "    </tr>\n",
       "    <tr>\n",
       "      <th>2022-12-29 00:00:00-05:00</th>\n",
       "      <td>3805.449951</td>\n",
       "      <td>3858.189941</td>\n",
       "      <td>3805.449951</td>\n",
       "      <td>3849.280029</td>\n",
       "      <td>3849.280029</td>\n",
       "      <td>3003680000</td>\n",
       "    </tr>\n",
       "    <tr>\n",
       "      <th>2022-12-30 00:00:00-05:00</th>\n",
       "      <td>3829.060059</td>\n",
       "      <td>3839.850098</td>\n",
       "      <td>3800.340088</td>\n",
       "      <td>3839.500000</td>\n",
       "      <td>3839.500000</td>\n",
       "      <td>2979870000</td>\n",
       "    </tr>\n",
       "  </tbody>\n",
       "</table>\n",
       "</div>"
      ],
      "text/plain": [
       "                                  Open         High          Low        Close  \\\n",
       "Date                                                                            \n",
       "2022-12-23 00:00:00-05:00  3815.110107  3845.800049  3797.010010  3844.820068   \n",
       "2022-12-27 00:00:00-05:00  3843.340088  3846.649902  3813.219971  3829.250000   \n",
       "2022-12-28 00:00:00-05:00  3829.560059  3848.320068  3780.780029  3783.219971   \n",
       "2022-12-29 00:00:00-05:00  3805.449951  3858.189941  3805.449951  3849.280029   \n",
       "2022-12-30 00:00:00-05:00  3829.060059  3839.850098  3800.340088  3839.500000   \n",
       "\n",
       "                             Adj Close      Volume  \n",
       "Date                                                \n",
       "2022-12-23 00:00:00-05:00  3844.820068  2819280000  \n",
       "2022-12-27 00:00:00-05:00  3829.250000  3030300000  \n",
       "2022-12-28 00:00:00-05:00  3783.219971  3083520000  \n",
       "2022-12-29 00:00:00-05:00  3849.280029  3003680000  \n",
       "2022-12-30 00:00:00-05:00  3839.500000  2979870000  "
      ]
     },
     "execution_count": 3,
     "metadata": {},
     "output_type": "execute_result"
    }
   ],
   "source": [
    "df.tail()"
   ]
  },
  {
   "cell_type": "code",
   "execution_count": 4,
   "metadata": {
    "collapsed": false,
    "inputHidden": false,
    "jupyter": {
     "outputs_hidden": false
    },
    "outputHidden": false
   },
   "outputs": [],
   "source": [
    "new_high = df['Adj Close'].rolling(52).max() # 52-week lows\n",
    "new_low = df['Adj Close'].rolling(52).min() # 52-week highs"
   ]
  },
  {
   "cell_type": "code",
   "execution_count": 5,
   "metadata": {
    "collapsed": false,
    "inputHidden": false,
    "jupyter": {
     "outputs_hidden": false
    },
    "outputHidden": false
   },
   "outputs": [
    {
     "name": "stdout",
     "output_type": "stream",
     "text": [
      "Yesterday's Value: 3849.280029296875\n",
      "Current Value: 3839.5\n"
     ]
    }
   ],
   "source": [
    "print(\"Yesterday's Value:\", df['Adj Close'][-2]) # Yesterday's Value\n",
    "print(\"Current Value:\", df['Adj Close'][-1]) # Current's Value"
   ]
  },
  {
   "cell_type": "code",
   "execution_count": 6,
   "metadata": {
    "collapsed": false,
    "inputHidden": false,
    "jupyter": {
     "outputs_hidden": false
    },
    "outputHidden": false
   },
   "outputs": [],
   "source": [
    "new_high = new_high.dropna()\n",
    "new_low = new_low.dropna()\n",
    "#Record_High_Percent = (new_high /(new_high + new_low)) * 100\n",
    "#nhnl = new_high - new_low"
   ]
  },
  {
   "cell_type": "code",
   "execution_count": 7,
   "metadata": {
    "collapsed": false,
    "inputHidden": false,
    "jupyter": {
     "outputs_hidden": false
    },
    "outputHidden": false
   },
   "outputs": [],
   "source": [
    "# 1. Cumulative New High/Low Line\n",
    "# Today's Value = Yesterday's Value + (Today's New Highs - Today's New Lows) \n",
    "df['CNHL'] = df['Adj Close'][1] + (new_high - new_low)"
   ]
  },
  {
   "cell_type": "code",
   "execution_count": 8,
   "metadata": {
    "collapsed": false,
    "inputHidden": false,
    "jupyter": {
     "outputs_hidden": false
    },
    "outputHidden": false
   },
   "outputs": [],
   "source": [
    "# 2. New-High Minus New-Low Oscillator \n",
    "# Oscillator = Today\\'s New Highs – Today\\'s New Lows\n",
    "df['Oscillator'] = new_high - new_low"
   ]
  },
  {
   "cell_type": "code",
   "execution_count": 9,
   "metadata": {
    "collapsed": false,
    "inputHidden": false,
    "jupyter": {
     "outputs_hidden": false
    },
    "outputHidden": false
   },
   "outputs": [],
   "source": [
    "# 3. New High/Low Ratio\n",
    "# Ratio = Today\\'s New Highs / Today\\'s New Lows \n",
    "df['Ratio'] = new_high / new_low"
   ]
  },
  {
   "cell_type": "code",
   "execution_count": 10,
   "metadata": {
    "collapsed": false,
    "inputHidden": false,
    "jupyter": {
     "outputs_hidden": false
    },
    "outputHidden": false
   },
   "outputs": [],
   "source": [
    "# 4. Percentage of New-High to New High + New Low \n",
    "# % New Highs = Today\\'s New Highs / (Today\\'s New Highs + Today\\'s New Lows) \n",
    "# % New Lows = Today\\'s New Lows / (Today\\'s New Highs + Today\\'s New Lows) \n",
    "df['NH'] = new_high/ (new_high + new_low)\n",
    "df['NL'] = new_high/ (new_high + new_low)"
   ]
  },
  {
   "cell_type": "code",
   "execution_count": 11,
   "metadata": {
    "collapsed": false,
    "inputHidden": false,
    "jupyter": {
     "outputs_hidden": false
    },
    "outputHidden": false
   },
   "outputs": [],
   "source": [
    "# 5. Percentage of New Highs to Total Market \n",
    "# % New Highs = Today\\'s New Highs / Total # of Listed Stocks in Given Market \n",
    "# % New Lows = Today\\'s New Lows / Total # of Listed Stocks in Given Market \n",
    "df['NHTM'] = new_high / 5 # Number of stocks\n",
    "df['NLTM'] = new_low / 5 # Number of stocks"
   ]
  },
  {
   "cell_type": "code",
   "execution_count": 12,
   "metadata": {
    "collapsed": false,
    "inputHidden": false,
    "jupyter": {
     "outputs_hidden": false
    },
    "outputHidden": false
   },
   "outputs": [
    {
     "data": {
      "text/html": [
       "<div>\n",
       "<style scoped>\n",
       "    .dataframe tbody tr th:only-of-type {\n",
       "        vertical-align: middle;\n",
       "    }\n",
       "\n",
       "    .dataframe tbody tr th {\n",
       "        vertical-align: top;\n",
       "    }\n",
       "\n",
       "    .dataframe thead th {\n",
       "        text-align: right;\n",
       "    }\n",
       "</style>\n",
       "<table border=\"1\" class=\"dataframe\">\n",
       "  <thead>\n",
       "    <tr style=\"text-align: right;\">\n",
       "      <th></th>\n",
       "      <th>Open</th>\n",
       "      <th>High</th>\n",
       "      <th>Low</th>\n",
       "      <th>Close</th>\n",
       "      <th>Adj Close</th>\n",
       "      <th>Volume</th>\n",
       "      <th>CNHL</th>\n",
       "      <th>Oscillator</th>\n",
       "      <th>Ratio</th>\n",
       "      <th>NH</th>\n",
       "      <th>NL</th>\n",
       "      <th>NHTM</th>\n",
       "      <th>NLTM</th>\n",
       "    </tr>\n",
       "    <tr>\n",
       "      <th>Date</th>\n",
       "      <th></th>\n",
       "      <th></th>\n",
       "      <th></th>\n",
       "      <th></th>\n",
       "      <th></th>\n",
       "      <th></th>\n",
       "      <th></th>\n",
       "      <th></th>\n",
       "      <th></th>\n",
       "      <th></th>\n",
       "      <th></th>\n",
       "      <th></th>\n",
       "      <th></th>\n",
       "    </tr>\n",
       "  </thead>\n",
       "  <tbody>\n",
       "    <tr>\n",
       "      <th>2020-03-17 00:00:00-04:00</th>\n",
       "      <td>2425.659912</td>\n",
       "      <td>2553.929932</td>\n",
       "      <td>2367.040039</td>\n",
       "      <td>2529.189941</td>\n",
       "      <td>2529.189941</td>\n",
       "      <td>8370250000</td>\n",
       "      <td>4234.870117</td>\n",
       "      <td>1000.02002</td>\n",
       "      <td>1.419097</td>\n",
       "      <td>0.586623</td>\n",
       "      <td>0.586623</td>\n",
       "      <td>677.22998</td>\n",
       "      <td>477.225977</td>\n",
       "    </tr>\n",
       "    <tr>\n",
       "      <th>2020-03-18 00:00:00-04:00</th>\n",
       "      <td>2436.500000</td>\n",
       "      <td>2453.570068</td>\n",
       "      <td>2280.520020</td>\n",
       "      <td>2398.100098</td>\n",
       "      <td>2398.100098</td>\n",
       "      <td>8799300000</td>\n",
       "      <td>4234.870117</td>\n",
       "      <td>1000.02002</td>\n",
       "      <td>1.419097</td>\n",
       "      <td>0.586623</td>\n",
       "      <td>0.586623</td>\n",
       "      <td>677.22998</td>\n",
       "      <td>477.225977</td>\n",
       "    </tr>\n",
       "    <tr>\n",
       "      <th>2020-03-19 00:00:00-04:00</th>\n",
       "      <td>2393.479980</td>\n",
       "      <td>2466.969971</td>\n",
       "      <td>2319.780029</td>\n",
       "      <td>2409.389893</td>\n",
       "      <td>2409.389893</td>\n",
       "      <td>7956100000</td>\n",
       "      <td>4234.870117</td>\n",
       "      <td>1000.02002</td>\n",
       "      <td>1.419097</td>\n",
       "      <td>0.586623</td>\n",
       "      <td>0.586623</td>\n",
       "      <td>677.22998</td>\n",
       "      <td>477.225977</td>\n",
       "    </tr>\n",
       "    <tr>\n",
       "      <th>2020-03-20 00:00:00-04:00</th>\n",
       "      <td>2431.939941</td>\n",
       "      <td>2453.010010</td>\n",
       "      <td>2295.560059</td>\n",
       "      <td>2304.919922</td>\n",
       "      <td>2304.919922</td>\n",
       "      <td>9053950000</td>\n",
       "      <td>4316.080078</td>\n",
       "      <td>1081.22998</td>\n",
       "      <td>1.469097</td>\n",
       "      <td>0.594994</td>\n",
       "      <td>0.594994</td>\n",
       "      <td>677.22998</td>\n",
       "      <td>460.983984</td>\n",
       "    </tr>\n",
       "    <tr>\n",
       "      <th>2020-03-23 00:00:00-04:00</th>\n",
       "      <td>2290.709961</td>\n",
       "      <td>2300.729980</td>\n",
       "      <td>2191.860107</td>\n",
       "      <td>2237.399902</td>\n",
       "      <td>2237.399902</td>\n",
       "      <td>7411380000</td>\n",
       "      <td>4383.600098</td>\n",
       "      <td>1148.75000</td>\n",
       "      <td>1.513431</td>\n",
       "      <td>0.602137</td>\n",
       "      <td>0.602137</td>\n",
       "      <td>677.22998</td>\n",
       "      <td>447.479980</td>\n",
       "    </tr>\n",
       "    <tr>\n",
       "      <th>2020-03-24 00:00:00-04:00</th>\n",
       "      <td>2344.439941</td>\n",
       "      <td>2449.709961</td>\n",
       "      <td>2344.439941</td>\n",
       "      <td>2447.330078</td>\n",
       "      <td>2447.330078</td>\n",
       "      <td>7563150000</td>\n",
       "      <td>4383.600098</td>\n",
       "      <td>1148.75000</td>\n",
       "      <td>1.513431</td>\n",
       "      <td>0.602137</td>\n",
       "      <td>0.602137</td>\n",
       "      <td>677.22998</td>\n",
       "      <td>447.479980</td>\n",
       "    </tr>\n",
       "    <tr>\n",
       "      <th>2020-03-25 00:00:00-04:00</th>\n",
       "      <td>2457.770020</td>\n",
       "      <td>2571.419922</td>\n",
       "      <td>2407.530029</td>\n",
       "      <td>2475.560059</td>\n",
       "      <td>2475.560059</td>\n",
       "      <td>8300010000</td>\n",
       "      <td>4383.600098</td>\n",
       "      <td>1148.75000</td>\n",
       "      <td>1.513431</td>\n",
       "      <td>0.602137</td>\n",
       "      <td>0.602137</td>\n",
       "      <td>677.22998</td>\n",
       "      <td>447.479980</td>\n",
       "    </tr>\n",
       "    <tr>\n",
       "      <th>2020-03-26 00:00:00-04:00</th>\n",
       "      <td>2501.290039</td>\n",
       "      <td>2637.010010</td>\n",
       "      <td>2500.719971</td>\n",
       "      <td>2630.070068</td>\n",
       "      <td>2630.070068</td>\n",
       "      <td>7766990000</td>\n",
       "      <td>4383.600098</td>\n",
       "      <td>1148.75000</td>\n",
       "      <td>1.513431</td>\n",
       "      <td>0.602137</td>\n",
       "      <td>0.602137</td>\n",
       "      <td>677.22998</td>\n",
       "      <td>447.479980</td>\n",
       "    </tr>\n",
       "    <tr>\n",
       "      <th>2020-03-27 00:00:00-04:00</th>\n",
       "      <td>2555.870117</td>\n",
       "      <td>2615.909912</td>\n",
       "      <td>2520.020020</td>\n",
       "      <td>2541.469971</td>\n",
       "      <td>2541.469971</td>\n",
       "      <td>6201670000</td>\n",
       "      <td>4383.600098</td>\n",
       "      <td>1148.75000</td>\n",
       "      <td>1.513431</td>\n",
       "      <td>0.602137</td>\n",
       "      <td>0.602137</td>\n",
       "      <td>677.22998</td>\n",
       "      <td>447.479980</td>\n",
       "    </tr>\n",
       "    <tr>\n",
       "      <th>2020-03-30 00:00:00-04:00</th>\n",
       "      <td>2558.979980</td>\n",
       "      <td>2631.800049</td>\n",
       "      <td>2545.280029</td>\n",
       "      <td>2626.649902</td>\n",
       "      <td>2626.649902</td>\n",
       "      <td>5751120000</td>\n",
       "      <td>4383.600098</td>\n",
       "      <td>1148.75000</td>\n",
       "      <td>1.513431</td>\n",
       "      <td>0.602137</td>\n",
       "      <td>0.602137</td>\n",
       "      <td>677.22998</td>\n",
       "      <td>447.479980</td>\n",
       "    </tr>\n",
       "  </tbody>\n",
       "</table>\n",
       "</div>"
      ],
      "text/plain": [
       "                                  Open         High          Low        Close  \\\n",
       "Date                                                                            \n",
       "2020-03-17 00:00:00-04:00  2425.659912  2553.929932  2367.040039  2529.189941   \n",
       "2020-03-18 00:00:00-04:00  2436.500000  2453.570068  2280.520020  2398.100098   \n",
       "2020-03-19 00:00:00-04:00  2393.479980  2466.969971  2319.780029  2409.389893   \n",
       "2020-03-20 00:00:00-04:00  2431.939941  2453.010010  2295.560059  2304.919922   \n",
       "2020-03-23 00:00:00-04:00  2290.709961  2300.729980  2191.860107  2237.399902   \n",
       "2020-03-24 00:00:00-04:00  2344.439941  2449.709961  2344.439941  2447.330078   \n",
       "2020-03-25 00:00:00-04:00  2457.770020  2571.419922  2407.530029  2475.560059   \n",
       "2020-03-26 00:00:00-04:00  2501.290039  2637.010010  2500.719971  2630.070068   \n",
       "2020-03-27 00:00:00-04:00  2555.870117  2615.909912  2520.020020  2541.469971   \n",
       "2020-03-30 00:00:00-04:00  2558.979980  2631.800049  2545.280029  2626.649902   \n",
       "\n",
       "                             Adj Close      Volume         CNHL  Oscillator  \\\n",
       "Date                                                                          \n",
       "2020-03-17 00:00:00-04:00  2529.189941  8370250000  4234.870117  1000.02002   \n",
       "2020-03-18 00:00:00-04:00  2398.100098  8799300000  4234.870117  1000.02002   \n",
       "2020-03-19 00:00:00-04:00  2409.389893  7956100000  4234.870117  1000.02002   \n",
       "2020-03-20 00:00:00-04:00  2304.919922  9053950000  4316.080078  1081.22998   \n",
       "2020-03-23 00:00:00-04:00  2237.399902  7411380000  4383.600098  1148.75000   \n",
       "2020-03-24 00:00:00-04:00  2447.330078  7563150000  4383.600098  1148.75000   \n",
       "2020-03-25 00:00:00-04:00  2475.560059  8300010000  4383.600098  1148.75000   \n",
       "2020-03-26 00:00:00-04:00  2630.070068  7766990000  4383.600098  1148.75000   \n",
       "2020-03-27 00:00:00-04:00  2541.469971  6201670000  4383.600098  1148.75000   \n",
       "2020-03-30 00:00:00-04:00  2626.649902  5751120000  4383.600098  1148.75000   \n",
       "\n",
       "                              Ratio        NH        NL       NHTM        NLTM  \n",
       "Date                                                                            \n",
       "2020-03-17 00:00:00-04:00  1.419097  0.586623  0.586623  677.22998  477.225977  \n",
       "2020-03-18 00:00:00-04:00  1.419097  0.586623  0.586623  677.22998  477.225977  \n",
       "2020-03-19 00:00:00-04:00  1.419097  0.586623  0.586623  677.22998  477.225977  \n",
       "2020-03-20 00:00:00-04:00  1.469097  0.594994  0.594994  677.22998  460.983984  \n",
       "2020-03-23 00:00:00-04:00  1.513431  0.602137  0.602137  677.22998  447.479980  \n",
       "2020-03-24 00:00:00-04:00  1.513431  0.602137  0.602137  677.22998  447.479980  \n",
       "2020-03-25 00:00:00-04:00  1.513431  0.602137  0.602137  677.22998  447.479980  \n",
       "2020-03-26 00:00:00-04:00  1.513431  0.602137  0.602137  677.22998  447.479980  \n",
       "2020-03-27 00:00:00-04:00  1.513431  0.602137  0.602137  677.22998  447.479980  \n",
       "2020-03-30 00:00:00-04:00  1.513431  0.602137  0.602137  677.22998  447.479980  "
      ]
     },
     "execution_count": 12,
     "metadata": {},
     "output_type": "execute_result"
    }
   ],
   "source": [
    "df = df.dropna()\n",
    "df.head(10)"
   ]
  },
  {
   "cell_type": "code",
   "execution_count": 13,
   "metadata": {
    "collapsed": false,
    "inputHidden": false,
    "jupyter": {
     "outputs_hidden": false
    },
    "outputHidden": false
   },
   "outputs": [
    {
     "data": {
      "image/png": "[encoded data removed]",
      "text/plain": [
       "<Figure size 1008x1008 with 3 Axes>"
      ]
     },
     "metadata": {
      "needs_background": "light"
     },
     "output_type": "display_data"
    }
   ],
   "source": [
    "fig = plt.figure(figsize=(14,14))\n",
    "ax1 = plt.subplot(3, 1, 1)\n",
    "ax1.plot(df['Adj Close'])\n",
    "ax1.set_title('Stock '+ symbol +' Closing Price')\n",
    "ax1.set_ylabel('Price')\n",
    "\n",
    "ax2 = plt.subplot(3, 1, 2)\n",
    "ax2.plot(df['CNHL'], label='Cumulative New High/Low Line')\n",
    "#ax2.axhline(y=0, color='red')\n",
    "ax2.set_ylabel('Cumulative New High/Low Line')\n",
    "ax2.grid()\n",
    "\n",
    "ax3 = plt.subplot(3, 1, 3)\n",
    "ax3.plot(df['Oscillator'], label='Oscillator')\n",
    "#ax3.axhline(y=50, color='red')\n",
    "ax3.set_ylabel('Oscillator')\n",
    "ax3.set_xlabel('Date')\n",
    "ax3.grid()"
   ]
  }
 ],
 "metadata": {
  "kernel_info": {
   "name": "python3"
  },
  "kernelspec": {
   "display_name": "Python 3 (ipykernel)",
   "language": "python",
   "name": "python3"
  },
  "language_info": {
   "codemirror_mode": {
    "name": "ipython",
    "version": 3
   },
   "file_extension": ".py",
   "mimetype": "text/x-python",
   "name": "python",
   "nbconvert_exporter": "python",
   "pygments_lexer": "ipython3",
   "version": "3.9.7"
  },
  "nteract": {
   "version": "0.12.2"
  }
 },
 "nbformat": 4,
 "nbformat_minor": 4
}
