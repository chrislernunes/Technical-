{
 "cells": [
  {
   "cell_type": "markdown",
   "metadata": {},
   "source": [
    "# Martin Pring's Special K"
   ]
  },
  {
   "cell_type": "markdown",
   "metadata": {},
   "source": [
    "https://stockcharts.com/school/doku.php?id=chart_school:technical_indicators:pring_s_special_k"
   ]
  },
  {
   "cell_type": "code",
   "execution_count": 1,
   "metadata": {
    "collapsed": false,
    "inputHidden": false,
    "jupyter": {
     "outputs_hidden": false
    },
    "outputHidden": false
   },
   "outputs": [],
   "source": [
    "import numpy as np\n",
    "import pandas as pd\n",
    "import matplotlib.pyplot as plt\n",
    "\n",
    "import warnings\n",
    "warnings.filterwarnings(\"ignore\")\n",
    "\n",
    "# fix_yahoo_finance is used to fetch data \n",
    "import yfinance as yf\n",
    "yf.pdr_override()"
   ]
  },
  {
   "cell_type": "code",
   "execution_count": 15,
   "metadata": {
    "collapsed": false,
    "inputHidden": false,
    "jupyter": {
     "outputs_hidden": false
    },
    "outputHidden": false
   },
   "outputs": [
    {
     "name": "stdout",
     "output_type": "stream",
     "text": [
      "[*********************100%***********************]  1 of 1 completed\n"
     ]
    },
    {
     "data": {
      "text/html": [
       "<div>\n",
       "<style scoped>\n",
       "    .dataframe tbody tr th:only-of-type {\n",
       "        vertical-align: middle;\n",
       "    }\n",
       "\n",
       "    .dataframe tbody tr th {\n",
       "        vertical-align: top;\n",
       "    }\n",
       "\n",
       "    .dataframe thead th {\n",
       "        text-align: right;\n",
       "    }\n",
       "</style>\n",
       "<table border=\"1\" class=\"dataframe\">\n",
       "  <thead>\n",
       "    <tr style=\"text-align: right;\">\n",
       "      <th></th>\n",
       "      <th>Open</th>\n",
       "      <th>High</th>\n",
       "      <th>Low</th>\n",
       "      <th>Close</th>\n",
       "      <th>Adj Close</th>\n",
       "      <th>Volume</th>\n",
       "    </tr>\n",
       "    <tr>\n",
       "      <th>Date</th>\n",
       "      <th></th>\n",
       "      <th></th>\n",
       "      <th></th>\n",
       "      <th></th>\n",
       "      <th></th>\n",
       "      <th></th>\n",
       "    </tr>\n",
       "  </thead>\n",
       "  <tbody>\n",
       "    <tr>\n",
       "      <th>2020-01-02 00:00:00-05:00</th>\n",
       "      <td>3244.669922</td>\n",
       "      <td>3258.139893</td>\n",
       "      <td>3235.530029</td>\n",
       "      <td>3257.850098</td>\n",
       "      <td>3257.850098</td>\n",
       "      <td>3459930000</td>\n",
       "    </tr>\n",
       "    <tr>\n",
       "      <th>2020-01-03 00:00:00-05:00</th>\n",
       "      <td>3226.360107</td>\n",
       "      <td>3246.149902</td>\n",
       "      <td>3222.340088</td>\n",
       "      <td>3234.850098</td>\n",
       "      <td>3234.850098</td>\n",
       "      <td>3484700000</td>\n",
       "    </tr>\n",
       "    <tr>\n",
       "      <th>2020-01-06 00:00:00-05:00</th>\n",
       "      <td>3217.550049</td>\n",
       "      <td>3246.840088</td>\n",
       "      <td>3214.639893</td>\n",
       "      <td>3246.280029</td>\n",
       "      <td>3246.280029</td>\n",
       "      <td>3702460000</td>\n",
       "    </tr>\n",
       "    <tr>\n",
       "      <th>2020-01-07 00:00:00-05:00</th>\n",
       "      <td>3241.860107</td>\n",
       "      <td>3244.909912</td>\n",
       "      <td>3232.429932</td>\n",
       "      <td>3237.179932</td>\n",
       "      <td>3237.179932</td>\n",
       "      <td>3435910000</td>\n",
       "    </tr>\n",
       "    <tr>\n",
       "      <th>2020-01-08 00:00:00-05:00</th>\n",
       "      <td>3238.590088</td>\n",
       "      <td>3267.070068</td>\n",
       "      <td>3236.669922</td>\n",
       "      <td>3253.050049</td>\n",
       "      <td>3253.050049</td>\n",
       "      <td>3726840000</td>\n",
       "    </tr>\n",
       "  </tbody>\n",
       "</table>\n",
       "</div>"
      ],
      "text/plain": [
       "                                  Open         High          Low        Close  \\\n",
       "Date                                                                            \n",
       "2020-01-02 00:00:00-05:00  3244.669922  3258.139893  3235.530029  3257.850098   \n",
       "2020-01-03 00:00:00-05:00  3226.360107  3246.149902  3222.340088  3234.850098   \n",
       "2020-01-06 00:00:00-05:00  3217.550049  3246.840088  3214.639893  3246.280029   \n",
       "2020-01-07 00:00:00-05:00  3241.860107  3244.909912  3232.429932  3237.179932   \n",
       "2020-01-08 00:00:00-05:00  3238.590088  3267.070068  3236.669922  3253.050049   \n",
       "\n",
       "                             Adj Close      Volume  \n",
       "Date                                                \n",
       "2020-01-02 00:00:00-05:00  3257.850098  3459930000  \n",
       "2020-01-03 00:00:00-05:00  3234.850098  3484700000  \n",
       "2020-01-06 00:00:00-05:00  3246.280029  3702460000  \n",
       "2020-01-07 00:00:00-05:00  3237.179932  3435910000  \n",
       "2020-01-08 00:00:00-05:00  3253.050049  3726840000  "
      ]
     },
     "execution_count": 15,
     "metadata": {},
     "output_type": "execute_result"
    }
   ],
   "source": [
    "# input\n",
    "symbol = '^gspc'\n",
    "start = '2020-01-01'\n",
    "end = '2023-01-01'\n",
    "\n",
    "# Read data \n",
    "df = yf.download(symbol,start,end)\n",
    "\n",
    "# View Columns\n",
    "df.head()"
   ]
  },
  {
   "cell_type": "code",
   "execution_count": 16,
   "metadata": {
    "collapsed": false,
    "inputHidden": false,
    "jupyter": {
     "outputs_hidden": false
    },
    "outputHidden": false
   },
   "outputs": [],
   "source": [
    "import talib as ta"
   ]
  },
  {
   "cell_type": "code",
   "execution_count": 17,
   "metadata": {
    "collapsed": false,
    "inputHidden": false,
    "jupyter": {
     "outputs_hidden": false
    },
    "outputHidden": false
   },
   "outputs": [],
   "source": [
    "df['200MA'] = df['Adj Close'].rolling(200).mean()"
   ]
  },
  {
   "cell_type": "code",
   "execution_count": 18,
   "metadata": {
    "collapsed": false,
    "inputHidden": false,
    "jupyter": {
     "outputs_hidden": false
    },
    "outputHidden": false
   },
   "outputs": [],
   "source": [
    "df['SMA10'] = ta.SMA(df['Adj Close'], timeperiod=10)\n",
    "df['SMA15'] = ta.SMA(df['Adj Close'], timeperiod=15)\n",
    "df['SMA50'] = ta.SMA(df['Adj Close'], timeperiod=50)\n",
    "df['SMA65'] = ta.SMA(df['Adj Close'], timeperiod=65)\n",
    "df['SMA75'] = ta.SMA(df['Adj Close'], timeperiod=75)\n",
    "df['SMA100'] = ta.SMA(df['Adj Close'], timeperiod=100)\n",
    "df['SMA130'] = ta.SMA(df['Adj Close'], timeperiod=130)\n",
    "df['SMA195'] = ta.SMA(df['Adj Close'], timeperiod=195)\n",
    "\n",
    "df['ROC10'] = ta.ROC(df['SMA10'], timeperiod=10)\n",
    "df['ROC15'] = ta.ROC(df['SMA10'], timeperiod=15)\n",
    "df['ROC20'] = ta.ROC(df['SMA10'], timeperiod=20)\n",
    "df['ROC30'] = ta.ROC(df['SMA15'], timeperiod=30)\n",
    "df['ROC40'] = ta.ROC(df['SMA50'] , timeperiod=40)\n",
    "df['ROC65'] = ta.ROC(df['SMA65'], timeperiod=65)\n",
    "df['ROC75'] = ta.ROC(df['SMA75'], timeperiod=75)\n",
    "df['ROC100'] = ta.ROC(df['SMA100'], timeperiod=100)\n",
    "df['ROC195'] = ta.ROC(df['SMA130'], timeperiod=100)\n",
    "df['ROC265'] = ta.ROC(df['SMA130'], timeperiod=265)\n",
    "df['ROC390'] = ta.ROC(df['SMA130'], timeperiod=390)\n",
    "df['ROC530'] = ta.ROC(df['SMA195'], timeperiod=530)"
   ]
  },
  {
   "cell_type": "code",
   "execution_count": 19,
   "metadata": {
    "collapsed": false,
    "inputHidden": false,
    "jupyter": {
     "outputs_hidden": false
    },
    "outputHidden": false
   },
   "outputs": [],
   "source": [
    "df['Special_K'] = (df['ROC10'] * 1) + (df['ROC15'] * 2) + (df['ROC20'] * 3) + (df['ROC30']) * 4 + (df['ROC40'] * 1) + (df['ROC65'] * 2) + (df['ROC75'] * 3) + (df['ROC100'] * 4) + (df['ROC195'] * 1) + (df['ROC265'] * 2) + (df['ROC390'] * 3) + (df['ROC530'] * 4)"
   ]
  },
  {
   "cell_type": "code",
   "execution_count": 20,
   "metadata": {
    "collapsed": false,
    "inputHidden": false,
    "jupyter": {
     "outputs_hidden": false
    },
    "outputHidden": false
   },
   "outputs": [],
   "source": [
    "df['200MAk'] = df['Special_K'].rolling(5).mean()"
   ]
  },
  {
   "cell_type": "code",
   "execution_count": 21,
   "metadata": {
    "collapsed": false,
    "inputHidden": false,
    "jupyter": {
     "outputs_hidden": false
    },
    "outputHidden": false
   },
   "outputs": [
    {
     "data": {
      "text/html": [
       "<div>\n",
       "<style scoped>\n",
       "    .dataframe tbody tr th:only-of-type {\n",
       "        vertical-align: middle;\n",
       "    }\n",
       "\n",
       "    .dataframe tbody tr th {\n",
       "        vertical-align: top;\n",
       "    }\n",
       "\n",
       "    .dataframe thead th {\n",
       "        text-align: right;\n",
       "    }\n",
       "</style>\n",
       "<table border=\"1\" class=\"dataframe\">\n",
       "  <thead>\n",
       "    <tr style=\"text-align: right;\">\n",
       "      <th></th>\n",
       "      <th>Open</th>\n",
       "      <th>High</th>\n",
       "      <th>Low</th>\n",
       "      <th>Close</th>\n",
       "      <th>Adj Close</th>\n",
       "      <th>Volume</th>\n",
       "      <th>200MA</th>\n",
       "      <th>SMA10</th>\n",
       "      <th>SMA15</th>\n",
       "      <th>SMA50</th>\n",
       "      <th>...</th>\n",
       "      <th>ROC40</th>\n",
       "      <th>ROC65</th>\n",
       "      <th>ROC75</th>\n",
       "      <th>ROC100</th>\n",
       "      <th>ROC195</th>\n",
       "      <th>ROC265</th>\n",
       "      <th>ROC390</th>\n",
       "      <th>ROC530</th>\n",
       "      <th>Special_K</th>\n",
       "      <th>200MAk</th>\n",
       "    </tr>\n",
       "    <tr>\n",
       "      <th>Date</th>\n",
       "      <th></th>\n",
       "      <th></th>\n",
       "      <th></th>\n",
       "      <th></th>\n",
       "      <th></th>\n",
       "      <th></th>\n",
       "      <th></th>\n",
       "      <th></th>\n",
       "      <th></th>\n",
       "      <th></th>\n",
       "      <th></th>\n",
       "      <th></th>\n",
       "      <th></th>\n",
       "      <th></th>\n",
       "      <th></th>\n",
       "      <th></th>\n",
       "      <th></th>\n",
       "      <th></th>\n",
       "      <th></th>\n",
       "      <th></th>\n",
       "      <th></th>\n",
       "    </tr>\n",
       "  </thead>\n",
       "  <tbody>\n",
       "    <tr>\n",
       "      <th>2022-12-23 00:00:00-05:00</th>\n",
       "      <td>3815.110107</td>\n",
       "      <td>3845.800049</td>\n",
       "      <td>3797.010010</td>\n",
       "      <td>3844.820068</td>\n",
       "      <td>3844.820068</td>\n",
       "      <td>2819280000</td>\n",
       "      <td>4016.858315</td>\n",
       "      <td>3893.857007</td>\n",
       "      <td>3914.031999</td>\n",
       "      <td>3885.761816</td>\n",
       "      <td>...</td>\n",
       "      <td>0.937676</td>\n",
       "      <td>-3.960492</td>\n",
       "      <td>-3.782119</td>\n",
       "      <td>-4.938555</td>\n",
       "      <td>-6.400278</td>\n",
       "      <td>-11.912113</td>\n",
       "      <td>-0.849772</td>\n",
       "      <td>27.844243</td>\n",
       "      <td>35.607262</td>\n",
       "      <td>48.894200</td>\n",
       "    </tr>\n",
       "    <tr>\n",
       "      <th>2022-12-27 00:00:00-05:00</th>\n",
       "      <td>3843.340088</td>\n",
       "      <td>3846.649902</td>\n",
       "      <td>3813.219971</td>\n",
       "      <td>3829.250000</td>\n",
       "      <td>3829.250000</td>\n",
       "      <td>3030300000</td>\n",
       "      <td>4014.983015</td>\n",
       "      <td>3877.726001</td>\n",
       "      <td>3902.725993</td>\n",
       "      <td>3890.685415</td>\n",
       "      <td>...</td>\n",
       "      <td>1.266904</td>\n",
       "      <td>-3.883414</td>\n",
       "      <td>-3.891556</td>\n",
       "      <td>-5.004826</td>\n",
       "      <td>-6.357455</td>\n",
       "      <td>-11.975360</td>\n",
       "      <td>-0.946294</td>\n",
       "      <td>27.688049</td>\n",
       "      <td>29.170250</td>\n",
       "      <td>42.551866</td>\n",
       "    </tr>\n",
       "    <tr>\n",
       "      <th>2022-12-28 00:00:00-05:00</th>\n",
       "      <td>3829.560059</td>\n",
       "      <td>3848.320068</td>\n",
       "      <td>3780.780029</td>\n",
       "      <td>3783.219971</td>\n",
       "      <td>3783.219971</td>\n",
       "      <td>3083520000</td>\n",
       "      <td>4013.033566</td>\n",
       "      <td>3854.083008</td>\n",
       "      <td>3892.189990</td>\n",
       "      <td>3892.790815</td>\n",
       "      <td>...</td>\n",
       "      <td>1.510086</td>\n",
       "      <td>-3.781865</td>\n",
       "      <td>-4.054711</td>\n",
       "      <td>-5.086289</td>\n",
       "      <td>-6.310345</td>\n",
       "      <td>-12.049213</td>\n",
       "      <td>-1.060545</td>\n",
       "      <td>27.537998</td>\n",
       "      <td>21.869472</td>\n",
       "      <td>35.861537</td>\n",
       "    </tr>\n",
       "    <tr>\n",
       "      <th>2022-12-29 00:00:00-05:00</th>\n",
       "      <td>3805.449951</td>\n",
       "      <td>3858.189941</td>\n",
       "      <td>3805.449951</td>\n",
       "      <td>3849.280029</td>\n",
       "      <td>3849.280029</td>\n",
       "      <td>3003680000</td>\n",
       "      <td>4010.967715</td>\n",
       "      <td>3839.479004</td>\n",
       "      <td>3886.547331</td>\n",
       "      <td>3895.376816</td>\n",
       "      <td>...</td>\n",
       "      <td>1.727073</td>\n",
       "      <td>-3.605717</td>\n",
       "      <td>-4.067790</td>\n",
       "      <td>-5.128707</td>\n",
       "      <td>-6.257048</td>\n",
       "      <td>-12.126961</td>\n",
       "      <td>-1.179500</td>\n",
       "      <td>27.386517</td>\n",
       "      <td>17.351030</td>\n",
       "      <td>29.302927</td>\n",
       "    </tr>\n",
       "    <tr>\n",
       "      <th>2022-12-30 00:00:00-05:00</th>\n",
       "      <td>3829.060059</td>\n",
       "      <td>3839.850098</td>\n",
       "      <td>3800.340088</td>\n",
       "      <td>3839.500000</td>\n",
       "      <td>3839.500000</td>\n",
       "      <td>2979870000</td>\n",
       "      <td>4008.375916</td>\n",
       "      <td>3833.854004</td>\n",
       "      <td>3878.279997</td>\n",
       "      <td>3898.263618</td>\n",
       "      <td>...</td>\n",
       "      <td>1.999062</td>\n",
       "      <td>-3.491792</td>\n",
       "      <td>-4.067533</td>\n",
       "      <td>-5.143207</td>\n",
       "      <td>-6.194935</td>\n",
       "      <td>-12.210910</td>\n",
       "      <td>-1.297572</td>\n",
       "      <td>27.248929</td>\n",
       "      <td>14.081797</td>\n",
       "      <td>23.615962</td>\n",
       "    </tr>\n",
       "  </tbody>\n",
       "</table>\n",
       "<p>5 rows × 29 columns</p>\n",
       "</div>"
      ],
      "text/plain": [
       "                                  Open         High          Low        Close  \\\n",
       "Date                                                                            \n",
       "2022-12-23 00:00:00-05:00  3815.110107  3845.800049  3797.010010  3844.820068   \n",
       "2022-12-27 00:00:00-05:00  3843.340088  3846.649902  3813.219971  3829.250000   \n",
       "2022-12-28 00:00:00-05:00  3829.560059  3848.320068  3780.780029  3783.219971   \n",
       "2022-12-29 00:00:00-05:00  3805.449951  3858.189941  3805.449951  3849.280029   \n",
       "2022-12-30 00:00:00-05:00  3829.060059  3839.850098  3800.340088  3839.500000   \n",
       "\n",
       "                             Adj Close      Volume        200MA        SMA10  \\\n",
       "Date                                                                           \n",
       "2022-12-23 00:00:00-05:00  3844.820068  2819280000  4016.858315  3893.857007   \n",
       "2022-12-27 00:00:00-05:00  3829.250000  3030300000  4014.983015  3877.726001   \n",
       "2022-12-28 00:00:00-05:00  3783.219971  3083520000  4013.033566  3854.083008   \n",
       "2022-12-29 00:00:00-05:00  3849.280029  3003680000  4010.967715  3839.479004   \n",
       "2022-12-30 00:00:00-05:00  3839.500000  2979870000  4008.375916  3833.854004   \n",
       "\n",
       "                                 SMA15        SMA50  ...     ROC40     ROC65  \\\n",
       "Date                                                 ...                       \n",
       "2022-12-23 00:00:00-05:00  3914.031999  3885.761816  ...  0.937676 -3.960492   \n",
       "2022-12-27 00:00:00-05:00  3902.725993  3890.685415  ...  1.266904 -3.883414   \n",
       "2022-12-28 00:00:00-05:00  3892.189990  3892.790815  ...  1.510086 -3.781865   \n",
       "2022-12-29 00:00:00-05:00  3886.547331  3895.376816  ...  1.727073 -3.605717   \n",
       "2022-12-30 00:00:00-05:00  3878.279997  3898.263618  ...  1.999062 -3.491792   \n",
       "\n",
       "                              ROC75    ROC100    ROC195     ROC265    ROC390  \\\n",
       "Date                                                                           \n",
       "2022-12-23 00:00:00-05:00 -3.782119 -4.938555 -6.400278 -11.912113 -0.849772   \n",
       "2022-12-27 00:00:00-05:00 -3.891556 -5.004826 -6.357455 -11.975360 -0.946294   \n",
       "2022-12-28 00:00:00-05:00 -4.054711 -5.086289 -6.310345 -12.049213 -1.060545   \n",
       "2022-12-29 00:00:00-05:00 -4.067790 -5.128707 -6.257048 -12.126961 -1.179500   \n",
       "2022-12-30 00:00:00-05:00 -4.067533 -5.143207 -6.194935 -12.210910 -1.297572   \n",
       "\n",
       "                              ROC530  Special_K     200MAk  \n",
       "Date                                                        \n",
       "2022-12-23 00:00:00-05:00  27.844243  35.607262  48.894200  \n",
       "2022-12-27 00:00:00-05:00  27.688049  29.170250  42.551866  \n",
       "2022-12-28 00:00:00-05:00  27.537998  21.869472  35.861537  \n",
       "2022-12-29 00:00:00-05:00  27.386517  17.351030  29.302927  \n",
       "2022-12-30 00:00:00-05:00  27.248929  14.081797  23.615962  \n",
       "\n",
       "[5 rows x 29 columns]"
      ]
     },
     "execution_count": 21,
     "metadata": {},
     "output_type": "execute_result"
    }
   ],
   "source": [
    "df.tail()"
   ]
  },
  {
   "cell_type": "code",
   "execution_count": 22,
   "metadata": {
    "collapsed": false,
    "inputHidden": false,
    "jupyter": {
     "outputs_hidden": false
    },
    "outputHidden": false
   },
   "outputs": [],
   "source": [
    "df = df.dropna()"
   ]
  },
  {
   "cell_type": "code",
   "execution_count": 23,
   "metadata": {
    "collapsed": false,
    "inputHidden": false,
    "jupyter": {
     "outputs_hidden": false
    },
    "outputHidden": false
   },
   "outputs": [
    {
     "name": "stderr",
     "output_type": "stream",
     "text": [
      "No artists with labels found to put in legend.  Note that artists whose label start with an underscore are ignored when legend() is called with no argument.\n"
     ]
    },
    {
     "data": {
      "text/plain": [
       "<matplotlib.legend.Legend at 0x7fbe8b4aa7c0>"
      ]
     },
     "execution_count": 23,
     "metadata": {},
     "output_type": "execute_result"
    },
    {
     "data": {
      "image/png": "[encoded data removed]",
      "text/plain": [
       "<Figure size 1008x720 with 3 Axes>"
      ]
     },
     "metadata": {
      "needs_background": "light"
     },
     "output_type": "display_data"
    }
   ],
   "source": [
    "# Line Chart\n",
    "fig = plt.figure(figsize=(14,10))\n",
    "ax1 = plt.subplot(2, 1, 1)\n",
    "ax1.plot(df.index, df['Adj Close'])\n",
    "ax1.plot(df.index, df['200MA'])\n",
    "ax1.axhline(y=df['Adj Close'].mean(),color='r')\n",
    "ax1.grid()\n",
    "#ax1.grid(True, which='both')\n",
    "#ax1.grid(which='minor', linestyle='-', linewidth='0.5', color='black')\n",
    "#ax1.grid(which='major', linestyle='-', linewidth='0.5', color='red')\n",
    "#ax1.minorticks_on()\n",
    "#ax1.legend(loc='best')\n",
    "ax1v = ax1.twinx()\n",
    "ax1v.fill_between(df.index[0:],0, df.Volume[0:], facecolor='#0079a3', alpha=0.4)\n",
    "ax1v.axes.yaxis.set_ticklabels([])\n",
    "ax1v.set_ylim(0, 3*df.Volume.max())\n",
    "ax1.set_title('Stock '+ symbol +' Closing Price')\n",
    "ax1.set_ylabel('Price')\n",
    "ax1.legend(loc='best')\n",
    "\n",
    "ax2 = plt.subplot(2, 1, 2)\n",
    "ax2.plot(df['Special_K'], label='Special K')\n",
    "ax2.plot(df['200MA'])\n",
    "ax2.grid()\n",
    "ax2.set_ylabel('Special K')\n",
    "ax2.set_xlabel('Date')\n",
    "ax2.legend(loc='best')"
   ]
  }
 ],
 "metadata": {
  "kernel_info": {
   "name": "python3"
  },
  "kernelspec": {
   "display_name": "Python 3 (ipykernel)",
   "language": "python",
   "name": "python3"
  },
  "language_info": {
   "codemirror_mode": {
    "name": "ipython",
    "version": 3
   },
   "file_extension": ".py",
   "mimetype": "text/x-python",
   "name": "python",
   "nbconvert_exporter": "python",
   "pygments_lexer": "ipython3",
   "version": "3.9.7"
  },
  "nteract": {
   "version": "0.12.2"
  }
 },
 "nbformat": 4,
 "nbformat_minor": 4
}
