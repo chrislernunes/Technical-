{
 "cells": [
  {
   "cell_type": "markdown",
   "metadata": {},
   "source": [
    "# Correlation Coefficient"
   ]
  },
  {
   "cell_type": "markdown",
   "metadata": {},
   "source": [
    "https://stockcharts.com/school/doku.php?id=chart_school:technical_indicators:correlation_coeffici"
   ]
  },
  {
   "cell_type": "code",
   "execution_count": 1,
   "metadata": {
    "collapsed": false,
    "inputHidden": false,
    "jupyter": {
     "outputs_hidden": false
    },
    "outputHidden": false
   },
   "outputs": [],
   "source": [
    "import numpy as np\n",
    "import pandas as pd\n",
    "import matplotlib.pyplot as plt\n",
    "\n",
    "import warnings\n",
    "warnings.filterwarnings(\"ignore\")\n",
    "\n",
    "# fix_yahoo_finance is used to fetch data \n",
    "import yfinance as yf\n",
    "yf.pdr_override()"
   ]
  },
  {
   "cell_type": "code",
   "execution_count": 2,
   "metadata": {
    "collapsed": false,
    "inputHidden": false,
    "jupyter": {
     "outputs_hidden": false
    },
    "outputHidden": false
   },
   "outputs": [
    {
     "name": "stdout",
     "output_type": "stream",
     "text": [
      "[*********************100%***********************]  1 of 1 completed\n",
      "[*********************100%***********************]  1 of 1 completed\n"
     ]
    },
    {
     "data": {
      "text/html": [
       "<div>\n",
       "<style scoped>\n",
       "    .dataframe tbody tr th:only-of-type {\n",
       "        vertical-align: middle;\n",
       "    }\n",
       "\n",
       "    .dataframe tbody tr th {\n",
       "        vertical-align: top;\n",
       "    }\n",
       "\n",
       "    .dataframe thead th {\n",
       "        text-align: right;\n",
       "    }\n",
       "</style>\n",
       "<table border=\"1\" class=\"dataframe\">\n",
       "  <thead>\n",
       "    <tr style=\"text-align: right;\">\n",
       "      <th></th>\n",
       "      <th>Open</th>\n",
       "      <th>High</th>\n",
       "      <th>Low</th>\n",
       "      <th>Close</th>\n",
       "      <th>Adj Close</th>\n",
       "      <th>Volume</th>\n",
       "    </tr>\n",
       "    <tr>\n",
       "      <th>Date</th>\n",
       "      <th></th>\n",
       "      <th></th>\n",
       "      <th></th>\n",
       "      <th></th>\n",
       "      <th></th>\n",
       "      <th></th>\n",
       "    </tr>\n",
       "  </thead>\n",
       "  <tbody>\n",
       "    <tr>\n",
       "      <th>2020-01-01 00:00:00+05:30</th>\n",
       "      <td>12202.150391</td>\n",
       "      <td>12222.200195</td>\n",
       "      <td>12165.299805</td>\n",
       "      <td>12182.500000</td>\n",
       "      <td>12182.500000</td>\n",
       "      <td>304100</td>\n",
       "    </tr>\n",
       "    <tr>\n",
       "      <th>2020-01-02 00:00:00+05:30</th>\n",
       "      <td>12198.549805</td>\n",
       "      <td>12289.900391</td>\n",
       "      <td>12195.250000</td>\n",
       "      <td>12282.200195</td>\n",
       "      <td>12282.200195</td>\n",
       "      <td>407700</td>\n",
       "    </tr>\n",
       "    <tr>\n",
       "      <th>2020-01-03 00:00:00+05:30</th>\n",
       "      <td>12261.099609</td>\n",
       "      <td>12265.599609</td>\n",
       "      <td>12191.349609</td>\n",
       "      <td>12226.650391</td>\n",
       "      <td>12226.650391</td>\n",
       "      <td>428800</td>\n",
       "    </tr>\n",
       "    <tr>\n",
       "      <th>2020-01-06 00:00:00+05:30</th>\n",
       "      <td>12170.599609</td>\n",
       "      <td>12179.099609</td>\n",
       "      <td>11974.200195</td>\n",
       "      <td>11993.049805</td>\n",
       "      <td>11993.049805</td>\n",
       "      <td>396500</td>\n",
       "    </tr>\n",
       "    <tr>\n",
       "      <th>2020-01-07 00:00:00+05:30</th>\n",
       "      <td>12079.099609</td>\n",
       "      <td>12152.150391</td>\n",
       "      <td>12005.349609</td>\n",
       "      <td>12052.950195</td>\n",
       "      <td>12052.950195</td>\n",
       "      <td>447800</td>\n",
       "    </tr>\n",
       "  </tbody>\n",
       "</table>\n",
       "</div>"
      ],
      "text/plain": [
       "                                   Open          High           Low  \\\n",
       "Date                                                                  \n",
       "2020-01-01 00:00:00+05:30  12202.150391  12222.200195  12165.299805   \n",
       "2020-01-02 00:00:00+05:30  12198.549805  12289.900391  12195.250000   \n",
       "2020-01-03 00:00:00+05:30  12261.099609  12265.599609  12191.349609   \n",
       "2020-01-06 00:00:00+05:30  12170.599609  12179.099609  11974.200195   \n",
       "2020-01-07 00:00:00+05:30  12079.099609  12152.150391  12005.349609   \n",
       "\n",
       "                                  Close     Adj Close  Volume  \n",
       "Date                                                           \n",
       "2020-01-01 00:00:00+05:30  12182.500000  12182.500000  304100  \n",
       "2020-01-02 00:00:00+05:30  12282.200195  12282.200195  407700  \n",
       "2020-01-03 00:00:00+05:30  12226.650391  12226.650391  428800  \n",
       "2020-01-06 00:00:00+05:30  11993.049805  11993.049805  396500  \n",
       "2020-01-07 00:00:00+05:30  12052.950195  12052.950195  447800  "
      ]
     },
     "execution_count": 2,
     "metadata": {},
     "output_type": "execute_result"
    }
   ],
   "source": [
    "# input\n",
    "symbol1 = '^NSEI'\n",
    "symbol2 = 'RELIANCE.NS'\n",
    "start = '2020-01-01'\n",
    "end = '2022-01-01'\n",
    "\n",
    "# Read data \n",
    "df1 = yf.download(symbol1,start,end)\n",
    "df2 = yf.download(symbol2,start,end)\n",
    "\n",
    "# View Columns\n",
    "df1.head()"
   ]
  },
  {
   "cell_type": "code",
   "execution_count": 3,
   "metadata": {
    "collapsed": false,
    "inputHidden": false,
    "jupyter": {
     "outputs_hidden": false
    },
    "outputHidden": false
   },
   "outputs": [
    {
     "data": {
      "text/html": [
       "<div>\n",
       "<style scoped>\n",
       "    .dataframe tbody tr th:only-of-type {\n",
       "        vertical-align: middle;\n",
       "    }\n",
       "\n",
       "    .dataframe tbody tr th {\n",
       "        vertical-align: top;\n",
       "    }\n",
       "\n",
       "    .dataframe thead th {\n",
       "        text-align: right;\n",
       "    }\n",
       "</style>\n",
       "<table border=\"1\" class=\"dataframe\">\n",
       "  <thead>\n",
       "    <tr style=\"text-align: right;\">\n",
       "      <th></th>\n",
       "      <th>Open</th>\n",
       "      <th>High</th>\n",
       "      <th>Low</th>\n",
       "      <th>Close</th>\n",
       "      <th>Adj Close</th>\n",
       "      <th>Volume</th>\n",
       "    </tr>\n",
       "    <tr>\n",
       "      <th>Date</th>\n",
       "      <th></th>\n",
       "      <th></th>\n",
       "      <th></th>\n",
       "      <th></th>\n",
       "      <th></th>\n",
       "      <th></th>\n",
       "    </tr>\n",
       "  </thead>\n",
       "  <tbody>\n",
       "    <tr>\n",
       "      <th>2020-01-01 00:00:00+05:30</th>\n",
       "      <td>1503.745972</td>\n",
       "      <td>1512.760498</td>\n",
       "      <td>1491.363403</td>\n",
       "      <td>1495.424927</td>\n",
       "      <td>1480.595825</td>\n",
       "      <td>6463060</td>\n",
       "    </tr>\n",
       "    <tr>\n",
       "      <th>2020-01-02 00:00:00+05:30</th>\n",
       "      <td>1497.802368</td>\n",
       "      <td>1526.480469</td>\n",
       "      <td>1497.802368</td>\n",
       "      <td>1520.883545</td>\n",
       "      <td>1505.802124</td>\n",
       "      <td>8173308</td>\n",
       "    </tr>\n",
       "    <tr>\n",
       "      <th>2020-01-03 00:00:00+05:30</th>\n",
       "      <td>1518.605103</td>\n",
       "      <td>1527.173950</td>\n",
       "      <td>1508.699097</td>\n",
       "      <td>1522.716187</td>\n",
       "      <td>1507.616455</td>\n",
       "      <td>9684434</td>\n",
       "    </tr>\n",
       "    <tr>\n",
       "      <th>2020-01-06 00:00:00+05:30</th>\n",
       "      <td>1505.727173</td>\n",
       "      <td>1513.552979</td>\n",
       "      <td>1483.933838</td>\n",
       "      <td>1487.400879</td>\n",
       "      <td>1472.651367</td>\n",
       "      <td>11315596</td>\n",
       "    </tr>\n",
       "    <tr>\n",
       "      <th>2020-01-07 00:00:00+05:30</th>\n",
       "      <td>1504.736572</td>\n",
       "      <td>1520.091064</td>\n",
       "      <td>1499.288208</td>\n",
       "      <td>1510.284058</td>\n",
       "      <td>1495.307617</td>\n",
       "      <td>7699489</td>\n",
       "    </tr>\n",
       "  </tbody>\n",
       "</table>\n",
       "</div>"
      ],
      "text/plain": [
       "                                  Open         High          Low        Close  \\\n",
       "Date                                                                            \n",
       "2020-01-01 00:00:00+05:30  1503.745972  1512.760498  1491.363403  1495.424927   \n",
       "2020-01-02 00:00:00+05:30  1497.802368  1526.480469  1497.802368  1520.883545   \n",
       "2020-01-03 00:00:00+05:30  1518.605103  1527.173950  1508.699097  1522.716187   \n",
       "2020-01-06 00:00:00+05:30  1505.727173  1513.552979  1483.933838  1487.400879   \n",
       "2020-01-07 00:00:00+05:30  1504.736572  1520.091064  1499.288208  1510.284058   \n",
       "\n",
       "                             Adj Close    Volume  \n",
       "Date                                              \n",
       "2020-01-01 00:00:00+05:30  1480.595825   6463060  \n",
       "2020-01-02 00:00:00+05:30  1505.802124   8173308  \n",
       "2020-01-03 00:00:00+05:30  1507.616455   9684434  \n",
       "2020-01-06 00:00:00+05:30  1472.651367  11315596  \n",
       "2020-01-07 00:00:00+05:30  1495.307617   7699489  "
      ]
     },
     "execution_count": 3,
     "metadata": {},
     "output_type": "execute_result"
    }
   ],
   "source": [
    "df2.head()"
   ]
  },
  {
   "cell_type": "code",
   "execution_count": 4,
   "metadata": {
    "collapsed": false,
    "inputHidden": false,
    "jupyter": {
     "outputs_hidden": false
    },
    "outputHidden": false
   },
   "outputs": [],
   "source": [
    "cc = df1['Adj Close'].corr(df2['Adj Close'])"
   ]
  },
  {
   "cell_type": "code",
   "execution_count": 5,
   "metadata": {
    "collapsed": false,
    "inputHidden": false,
    "jupyter": {
     "outputs_hidden": false
    },
    "outputHidden": false
   },
   "outputs": [
    {
     "data": {
      "text/plain": [
       "0.7978739380596939"
      ]
     },
     "execution_count": 5,
     "metadata": {},
     "output_type": "execute_result"
    }
   ],
   "source": [
    "cc"
   ]
  },
  {
   "cell_type": "code",
   "execution_count": 6,
   "metadata": {
    "collapsed": false,
    "inputHidden": false,
    "jupyter": {
     "outputs_hidden": false
    },
    "outputHidden": false
   },
   "outputs": [],
   "source": [
    "df = pd.concat([df1['Adj Close'], df2['Adj Close']],axis=1)"
   ]
  },
  {
   "cell_type": "code",
   "execution_count": 7,
   "metadata": {
    "collapsed": false,
    "inputHidden": false,
    "jupyter": {
     "outputs_hidden": false
    },
    "outputHidden": false
   },
   "outputs": [
    {
     "data": {
      "text/html": [
       "<div>\n",
       "<style scoped>\n",
       "    .dataframe tbody tr th:only-of-type {\n",
       "        vertical-align: middle;\n",
       "    }\n",
       "\n",
       "    .dataframe tbody tr th {\n",
       "        vertical-align: top;\n",
       "    }\n",
       "\n",
       "    .dataframe thead th {\n",
       "        text-align: right;\n",
       "    }\n",
       "</style>\n",
       "<table border=\"1\" class=\"dataframe\">\n",
       "  <thead>\n",
       "    <tr style=\"text-align: right;\">\n",
       "      <th></th>\n",
       "      <th>Adj Close</th>\n",
       "      <th>Adj Close</th>\n",
       "    </tr>\n",
       "    <tr>\n",
       "      <th>Date</th>\n",
       "      <th></th>\n",
       "      <th></th>\n",
       "    </tr>\n",
       "  </thead>\n",
       "  <tbody>\n",
       "    <tr>\n",
       "      <th>2020-01-01 00:00:00+05:30</th>\n",
       "      <td>12182.500000</td>\n",
       "      <td>1480.595825</td>\n",
       "    </tr>\n",
       "    <tr>\n",
       "      <th>2020-01-02 00:00:00+05:30</th>\n",
       "      <td>12282.200195</td>\n",
       "      <td>1505.802124</td>\n",
       "    </tr>\n",
       "    <tr>\n",
       "      <th>2020-01-03 00:00:00+05:30</th>\n",
       "      <td>12226.650391</td>\n",
       "      <td>1507.616455</td>\n",
       "    </tr>\n",
       "    <tr>\n",
       "      <th>2020-01-06 00:00:00+05:30</th>\n",
       "      <td>11993.049805</td>\n",
       "      <td>1472.651367</td>\n",
       "    </tr>\n",
       "    <tr>\n",
       "      <th>2020-01-07 00:00:00+05:30</th>\n",
       "      <td>12052.950195</td>\n",
       "      <td>1495.307617</td>\n",
       "    </tr>\n",
       "  </tbody>\n",
       "</table>\n",
       "</div>"
      ],
      "text/plain": [
       "                              Adj Close    Adj Close\n",
       "Date                                                \n",
       "2020-01-01 00:00:00+05:30  12182.500000  1480.595825\n",
       "2020-01-02 00:00:00+05:30  12282.200195  1505.802124\n",
       "2020-01-03 00:00:00+05:30  12226.650391  1507.616455\n",
       "2020-01-06 00:00:00+05:30  11993.049805  1472.651367\n",
       "2020-01-07 00:00:00+05:30  12052.950195  1495.307617"
      ]
     },
     "execution_count": 7,
     "metadata": {},
     "output_type": "execute_result"
    }
   ],
   "source": [
    "df.head()"
   ]
  },
  {
   "cell_type": "code",
   "execution_count": 8,
   "metadata": {
    "collapsed": false,
    "inputHidden": false,
    "jupyter": {
     "outputs_hidden": false
    },
    "outputHidden": false
   },
   "outputs": [],
   "source": [
    "# Rename columns\n",
    "df.columns = [symbol1,symbol2]"
   ]
  },
  {
   "cell_type": "code",
   "execution_count": 9,
   "metadata": {
    "collapsed": false,
    "inputHidden": false,
    "jupyter": {
     "outputs_hidden": false
    },
    "outputHidden": false
   },
   "outputs": [
    {
     "data": {
      "text/html": [
       "<div>\n",
       "<style scoped>\n",
       "    .dataframe tbody tr th:only-of-type {\n",
       "        vertical-align: middle;\n",
       "    }\n",
       "\n",
       "    .dataframe tbody tr th {\n",
       "        vertical-align: top;\n",
       "    }\n",
       "\n",
       "    .dataframe thead th {\n",
       "        text-align: right;\n",
       "    }\n",
       "</style>\n",
       "<table border=\"1\" class=\"dataframe\">\n",
       "  <thead>\n",
       "    <tr style=\"text-align: right;\">\n",
       "      <th></th>\n",
       "      <th>^NSEI</th>\n",
       "      <th>RELIANCE.NS</th>\n",
       "    </tr>\n",
       "    <tr>\n",
       "      <th>Date</th>\n",
       "      <th></th>\n",
       "      <th></th>\n",
       "    </tr>\n",
       "  </thead>\n",
       "  <tbody>\n",
       "    <tr>\n",
       "      <th>2020-01-01 00:00:00+05:30</th>\n",
       "      <td>12182.500000</td>\n",
       "      <td>1480.595825</td>\n",
       "    </tr>\n",
       "    <tr>\n",
       "      <th>2020-01-02 00:00:00+05:30</th>\n",
       "      <td>12282.200195</td>\n",
       "      <td>1505.802124</td>\n",
       "    </tr>\n",
       "    <tr>\n",
       "      <th>2020-01-03 00:00:00+05:30</th>\n",
       "      <td>12226.650391</td>\n",
       "      <td>1507.616455</td>\n",
       "    </tr>\n",
       "    <tr>\n",
       "      <th>2020-01-06 00:00:00+05:30</th>\n",
       "      <td>11993.049805</td>\n",
       "      <td>1472.651367</td>\n",
       "    </tr>\n",
       "    <tr>\n",
       "      <th>2020-01-07 00:00:00+05:30</th>\n",
       "      <td>12052.950195</td>\n",
       "      <td>1495.307617</td>\n",
       "    </tr>\n",
       "  </tbody>\n",
       "</table>\n",
       "</div>"
      ],
      "text/plain": [
       "                                  ^NSEI  RELIANCE.NS\n",
       "Date                                                \n",
       "2020-01-01 00:00:00+05:30  12182.500000  1480.595825\n",
       "2020-01-02 00:00:00+05:30  12282.200195  1505.802124\n",
       "2020-01-03 00:00:00+05:30  12226.650391  1507.616455\n",
       "2020-01-06 00:00:00+05:30  11993.049805  1472.651367\n",
       "2020-01-07 00:00:00+05:30  12052.950195  1495.307617"
      ]
     },
     "execution_count": 9,
     "metadata": {},
     "output_type": "execute_result"
    }
   ],
   "source": [
    "df.head()"
   ]
  },
  {
   "cell_type": "code",
   "execution_count": 12,
   "metadata": {
    "collapsed": false,
    "inputHidden": false,
    "jupyter": {
     "outputs_hidden": false
    },
    "outputHidden": false
   },
   "outputs": [],
   "source": [
    "n = 20\n",
    "df['Corr'] = df['^NSEI'].rolling(n).corr(df['RELIANCE.NS'])"
   ]
  },
  {
   "cell_type": "code",
   "execution_count": 13,
   "metadata": {
    "collapsed": false,
    "inputHidden": false,
    "jupyter": {
     "outputs_hidden": false
    },
    "outputHidden": false
   },
   "outputs": [
    {
     "data": {
      "text/html": [
       "<div>\n",
       "<style scoped>\n",
       "    .dataframe tbody tr th:only-of-type {\n",
       "        vertical-align: middle;\n",
       "    }\n",
       "\n",
       "    .dataframe tbody tr th {\n",
       "        vertical-align: top;\n",
       "    }\n",
       "\n",
       "    .dataframe thead th {\n",
       "        text-align: right;\n",
       "    }\n",
       "</style>\n",
       "<table border=\"1\" class=\"dataframe\">\n",
       "  <thead>\n",
       "    <tr style=\"text-align: right;\">\n",
       "      <th></th>\n",
       "      <th>^NSEI</th>\n",
       "      <th>RELIANCE.NS</th>\n",
       "      <th>Corr</th>\n",
       "    </tr>\n",
       "    <tr>\n",
       "      <th>Date</th>\n",
       "      <th></th>\n",
       "      <th></th>\n",
       "      <th></th>\n",
       "    </tr>\n",
       "  </thead>\n",
       "  <tbody>\n",
       "    <tr>\n",
       "      <th>2020-01-01 00:00:00+05:30</th>\n",
       "      <td>12182.500000</td>\n",
       "      <td>1480.595825</td>\n",
       "      <td>NaN</td>\n",
       "    </tr>\n",
       "    <tr>\n",
       "      <th>2020-01-02 00:00:00+05:30</th>\n",
       "      <td>12282.200195</td>\n",
       "      <td>1505.802124</td>\n",
       "      <td>NaN</td>\n",
       "    </tr>\n",
       "    <tr>\n",
       "      <th>2020-01-03 00:00:00+05:30</th>\n",
       "      <td>12226.650391</td>\n",
       "      <td>1507.616455</td>\n",
       "      <td>NaN</td>\n",
       "    </tr>\n",
       "    <tr>\n",
       "      <th>2020-01-06 00:00:00+05:30</th>\n",
       "      <td>11993.049805</td>\n",
       "      <td>1472.651367</td>\n",
       "      <td>NaN</td>\n",
       "    </tr>\n",
       "    <tr>\n",
       "      <th>2020-01-07 00:00:00+05:30</th>\n",
       "      <td>12052.950195</td>\n",
       "      <td>1495.307617</td>\n",
       "      <td>NaN</td>\n",
       "    </tr>\n",
       "    <tr>\n",
       "      <th>2020-01-08 00:00:00+05:30</th>\n",
       "      <td>12025.349609</td>\n",
       "      <td>1484.077637</td>\n",
       "      <td>NaN</td>\n",
       "    </tr>\n",
       "    <tr>\n",
       "      <th>2020-01-09 00:00:00+05:30</th>\n",
       "      <td>12215.900391</td>\n",
       "      <td>1518.257935</td>\n",
       "      <td>NaN</td>\n",
       "    </tr>\n",
       "    <tr>\n",
       "      <th>2020-01-10 00:00:00+05:30</th>\n",
       "      <td>12256.799805</td>\n",
       "      <td>1517.914673</td>\n",
       "      <td>NaN</td>\n",
       "    </tr>\n",
       "    <tr>\n",
       "      <th>2020-01-13 00:00:00+05:30</th>\n",
       "      <td>12329.549805</td>\n",
       "      <td>1514.040771</td>\n",
       "      <td>NaN</td>\n",
       "    </tr>\n",
       "    <tr>\n",
       "      <th>2020-01-14 00:00:00+05:30</th>\n",
       "      <td>12362.299805</td>\n",
       "      <td>1500.015381</td>\n",
       "      <td>NaN</td>\n",
       "    </tr>\n",
       "    <tr>\n",
       "      <th>2020-01-15 00:00:00+05:30</th>\n",
       "      <td>12343.299805</td>\n",
       "      <td>1494.572021</td>\n",
       "      <td>NaN</td>\n",
       "    </tr>\n",
       "    <tr>\n",
       "      <th>2020-01-16 00:00:00+05:30</th>\n",
       "      <td>12355.500000</td>\n",
       "      <td>1508.352051</td>\n",
       "      <td>NaN</td>\n",
       "    </tr>\n",
       "    <tr>\n",
       "      <th>2020-01-17 00:00:00+05:30</th>\n",
       "      <td>12352.349609</td>\n",
       "      <td>1550.624023</td>\n",
       "      <td>NaN</td>\n",
       "    </tr>\n",
       "    <tr>\n",
       "      <th>2020-01-20 00:00:00+05:30</th>\n",
       "      <td>12224.549805</td>\n",
       "      <td>1502.908691</td>\n",
       "      <td>NaN</td>\n",
       "    </tr>\n",
       "    <tr>\n",
       "      <th>2020-01-21 00:00:00+05:30</th>\n",
       "      <td>12169.849609</td>\n",
       "      <td>1504.428955</td>\n",
       "      <td>NaN</td>\n",
       "    </tr>\n",
       "    <tr>\n",
       "      <th>2020-01-22 00:00:00+05:30</th>\n",
       "      <td>12106.900391</td>\n",
       "      <td>1503.889526</td>\n",
       "      <td>NaN</td>\n",
       "    </tr>\n",
       "    <tr>\n",
       "      <th>2020-01-23 00:00:00+05:30</th>\n",
       "      <td>12180.349609</td>\n",
       "      <td>1497.514282</td>\n",
       "      <td>NaN</td>\n",
       "    </tr>\n",
       "    <tr>\n",
       "      <th>2020-01-24 00:00:00+05:30</th>\n",
       "      <td>12248.250000</td>\n",
       "      <td>1492.316284</td>\n",
       "      <td>NaN</td>\n",
       "    </tr>\n",
       "    <tr>\n",
       "      <th>2020-01-27 00:00:00+05:30</th>\n",
       "      <td>12119.000000</td>\n",
       "      <td>1477.604614</td>\n",
       "      <td>NaN</td>\n",
       "    </tr>\n",
       "    <tr>\n",
       "      <th>2020-01-28 00:00:00+05:30</th>\n",
       "      <td>12055.799805</td>\n",
       "      <td>1443.473022</td>\n",
       "      <td>0.649540</td>\n",
       "    </tr>\n",
       "    <tr>\n",
       "      <th>2020-01-29 00:00:00+05:30</th>\n",
       "      <td>12129.500000</td>\n",
       "      <td>1451.417480</td>\n",
       "      <td>0.642269</td>\n",
       "    </tr>\n",
       "    <tr>\n",
       "      <th>2020-01-30 00:00:00+05:30</th>\n",
       "      <td>12035.799805</td>\n",
       "      <td>1416.011108</td>\n",
       "      <td>0.665277</td>\n",
       "    </tr>\n",
       "    <tr>\n",
       "      <th>2020-01-31 00:00:00+05:30</th>\n",
       "      <td>11962.099609</td>\n",
       "      <td>1384.527710</td>\n",
       "      <td>0.717162</td>\n",
       "    </tr>\n",
       "    <tr>\n",
       "      <th>2020-02-03 00:00:00+05:30</th>\n",
       "      <td>11707.900391</td>\n",
       "      <td>1358.880249</td>\n",
       "      <td>0.836350</td>\n",
       "    </tr>\n",
       "    <tr>\n",
       "      <th>2020-02-04 00:00:00+05:30</th>\n",
       "      <td>11979.650391</td>\n",
       "      <td>1398.994263</td>\n",
       "      <td>0.867643</td>\n",
       "    </tr>\n",
       "    <tr>\n",
       "      <th>2020-02-05 00:00:00+05:30</th>\n",
       "      <td>12089.150391</td>\n",
       "      <td>1420.669678</td>\n",
       "      <td>0.885616</td>\n",
       "    </tr>\n",
       "    <tr>\n",
       "      <th>2020-02-06 00:00:00+05:30</th>\n",
       "      <td>12137.950195</td>\n",
       "      <td>1429.791138</td>\n",
       "      <td>0.881938</td>\n",
       "    </tr>\n",
       "    <tr>\n",
       "      <th>2020-02-07 00:00:00+05:30</th>\n",
       "      <td>12098.349609</td>\n",
       "      <td>1406.105103</td>\n",
       "      <td>0.868505</td>\n",
       "    </tr>\n",
       "    <tr>\n",
       "      <th>2020-02-10 00:00:00+05:30</th>\n",
       "      <td>12031.500000</td>\n",
       "      <td>1408.017700</td>\n",
       "      <td>0.863008</td>\n",
       "    </tr>\n",
       "    <tr>\n",
       "      <th>2020-02-11 00:00:00+05:30</th>\n",
       "      <td>12107.900391</td>\n",
       "      <td>1424.838135</td>\n",
       "      <td>0.859075</td>\n",
       "    </tr>\n",
       "  </tbody>\n",
       "</table>\n",
       "</div>"
      ],
      "text/plain": [
       "                                  ^NSEI  RELIANCE.NS      Corr\n",
       "Date                                                          \n",
       "2020-01-01 00:00:00+05:30  12182.500000  1480.595825       NaN\n",
       "2020-01-02 00:00:00+05:30  12282.200195  1505.802124       NaN\n",
       "2020-01-03 00:00:00+05:30  12226.650391  1507.616455       NaN\n",
       "2020-01-06 00:00:00+05:30  11993.049805  1472.651367       NaN\n",
       "2020-01-07 00:00:00+05:30  12052.950195  1495.307617       NaN\n",
       "2020-01-08 00:00:00+05:30  12025.349609  1484.077637       NaN\n",
       "2020-01-09 00:00:00+05:30  12215.900391  1518.257935       NaN\n",
       "2020-01-10 00:00:00+05:30  12256.799805  1517.914673       NaN\n",
       "2020-01-13 00:00:00+05:30  12329.549805  1514.040771       NaN\n",
       "2020-01-14 00:00:00+05:30  12362.299805  1500.015381       NaN\n",
       "2020-01-15 00:00:00+05:30  12343.299805  1494.572021       NaN\n",
       "2020-01-16 00:00:00+05:30  12355.500000  1508.352051       NaN\n",
       "2020-01-17 00:00:00+05:30  12352.349609  1550.624023       NaN\n",
       "2020-01-20 00:00:00+05:30  12224.549805  1502.908691       NaN\n",
       "2020-01-21 00:00:00+05:30  12169.849609  1504.428955       NaN\n",
       "2020-01-22 00:00:00+05:30  12106.900391  1503.889526       NaN\n",
       "2020-01-23 00:00:00+05:30  12180.349609  1497.514282       NaN\n",
       "2020-01-24 00:00:00+05:30  12248.250000  1492.316284       NaN\n",
       "2020-01-27 00:00:00+05:30  12119.000000  1477.604614       NaN\n",
       "2020-01-28 00:00:00+05:30  12055.799805  1443.473022  0.649540\n",
       "2020-01-29 00:00:00+05:30  12129.500000  1451.417480  0.642269\n",
       "2020-01-30 00:00:00+05:30  12035.799805  1416.011108  0.665277\n",
       "2020-01-31 00:00:00+05:30  11962.099609  1384.527710  0.717162\n",
       "2020-02-03 00:00:00+05:30  11707.900391  1358.880249  0.836350\n",
       "2020-02-04 00:00:00+05:30  11979.650391  1398.994263  0.867643\n",
       "2020-02-05 00:00:00+05:30  12089.150391  1420.669678  0.885616\n",
       "2020-02-06 00:00:00+05:30  12137.950195  1429.791138  0.881938\n",
       "2020-02-07 00:00:00+05:30  12098.349609  1406.105103  0.868505\n",
       "2020-02-10 00:00:00+05:30  12031.500000  1408.017700  0.863008\n",
       "2020-02-11 00:00:00+05:30  12107.900391  1424.838135  0.859075"
      ]
     },
     "execution_count": 13,
     "metadata": {},
     "output_type": "execute_result"
    }
   ],
   "source": [
    "df.head(30)"
   ]
  },
  {
   "cell_type": "code",
   "execution_count": 15,
   "metadata": {
    "collapsed": false,
    "inputHidden": false,
    "jupyter": {
     "outputs_hidden": false
    },
    "outputHidden": false
   },
   "outputs": [
    {
     "name": "stderr",
     "output_type": "stream",
     "text": [
      "No artists with labels found to put in legend.  Note that artists whose label start with an underscore are ignored when legend() is called with no argument.\n"
     ]
    },
    {
     "data": {
      "text/plain": [
       "Text(0.5, 0, 'Date')"
      ]
     },
     "execution_count": 15,
     "metadata": {},
     "output_type": "execute_result"
    },
    {
     "data": {
      "image/png": "[encoded data removed]",
      "text/plain": [
       "<Figure size 1008x720 with 2 Axes>"
      ]
     },
     "metadata": {
      "needs_background": "light"
     },
     "output_type": "display_data"
    }
   ],
   "source": [
    "fig = plt.figure(figsize=(14,10))\n",
    "ax1 = plt.subplot(2, 1, 1)\n",
    "ax1.plot(df1['Adj Close'])\n",
    "ax1.set_title('Stock '+ symbol1 +' Closing Price')\n",
    "ax1.set_ylabel('Price')\n",
    "ax1.legend(loc='best')\n",
    "\n",
    "ax2 = plt.subplot(2, 1, 2)\n",
    "ax2.plot(df['Corr'], label='Correlation Coefficient', color='black')\n",
    "ax2.grid()\n",
    "ax2.legend(loc='best')\n",
    "ax2.set_ylabel('Correlation Coefficient')\n",
    "ax2.set_xlabel('Date')"
   ]
  },
  {
   "cell_type": "markdown",
   "metadata": {},
   "source": [
    "## Candlestick with Correlation Coefficient"
   ]
  },
  {
   "cell_type": "code",
   "execution_count": 17,
   "metadata": {
    "collapsed": false,
    "inputHidden": false,
    "jupyter": {
     "outputs_hidden": false
    },
    "outputHidden": false
   },
   "outputs": [
    {
     "data": {
      "text/html": [
       "<div>\n",
       "<style scoped>\n",
       "    .dataframe tbody tr th:only-of-type {\n",
       "        vertical-align: middle;\n",
       "    }\n",
       "\n",
       "    .dataframe tbody tr th {\n",
       "        vertical-align: top;\n",
       "    }\n",
       "\n",
       "    .dataframe thead th {\n",
       "        text-align: right;\n",
       "    }\n",
       "</style>\n",
       "<table border=\"1\" class=\"dataframe\">\n",
       "  <thead>\n",
       "    <tr style=\"text-align: right;\">\n",
       "      <th></th>\n",
       "      <th>Date</th>\n",
       "      <th>Open</th>\n",
       "      <th>High</th>\n",
       "      <th>Low</th>\n",
       "      <th>Close</th>\n",
       "      <th>Adj Close</th>\n",
       "      <th>Volume</th>\n",
       "      <th>VolumePositive</th>\n",
       "    </tr>\n",
       "  </thead>\n",
       "  <tbody>\n",
       "    <tr>\n",
       "      <th>0</th>\n",
       "      <td>18261.770833</td>\n",
       "      <td>12202.150391</td>\n",
       "      <td>12222.200195</td>\n",
       "      <td>12165.299805</td>\n",
       "      <td>12182.500000</td>\n",
       "      <td>12182.500000</td>\n",
       "      <td>304100</td>\n",
       "      <td>False</td>\n",
       "    </tr>\n",
       "    <tr>\n",
       "      <th>1</th>\n",
       "      <td>18262.770833</td>\n",
       "      <td>12198.549805</td>\n",
       "      <td>12289.900391</td>\n",
       "      <td>12195.250000</td>\n",
       "      <td>12282.200195</td>\n",
       "      <td>12282.200195</td>\n",
       "      <td>407700</td>\n",
       "      <td>True</td>\n",
       "    </tr>\n",
       "    <tr>\n",
       "      <th>2</th>\n",
       "      <td>18263.770833</td>\n",
       "      <td>12261.099609</td>\n",
       "      <td>12265.599609</td>\n",
       "      <td>12191.349609</td>\n",
       "      <td>12226.650391</td>\n",
       "      <td>12226.650391</td>\n",
       "      <td>428800</td>\n",
       "      <td>False</td>\n",
       "    </tr>\n",
       "    <tr>\n",
       "      <th>3</th>\n",
       "      <td>18266.770833</td>\n",
       "      <td>12170.599609</td>\n",
       "      <td>12179.099609</td>\n",
       "      <td>11974.200195</td>\n",
       "      <td>11993.049805</td>\n",
       "      <td>11993.049805</td>\n",
       "      <td>396500</td>\n",
       "      <td>False</td>\n",
       "    </tr>\n",
       "    <tr>\n",
       "      <th>4</th>\n",
       "      <td>18267.770833</td>\n",
       "      <td>12079.099609</td>\n",
       "      <td>12152.150391</td>\n",
       "      <td>12005.349609</td>\n",
       "      <td>12052.950195</td>\n",
       "      <td>12052.950195</td>\n",
       "      <td>447800</td>\n",
       "      <td>False</td>\n",
       "    </tr>\n",
       "  </tbody>\n",
       "</table>\n",
       "</div>"
      ],
      "text/plain": [
       "           Date          Open          High           Low         Close  \\\n",
       "0  18261.770833  12202.150391  12222.200195  12165.299805  12182.500000   \n",
       "1  18262.770833  12198.549805  12289.900391  12195.250000  12282.200195   \n",
       "2  18263.770833  12261.099609  12265.599609  12191.349609  12226.650391   \n",
       "3  18266.770833  12170.599609  12179.099609  11974.200195  11993.049805   \n",
       "4  18267.770833  12079.099609  12152.150391  12005.349609  12052.950195   \n",
       "\n",
       "      Adj Close  Volume  VolumePositive  \n",
       "0  12182.500000  304100           False  \n",
       "1  12282.200195  407700            True  \n",
       "2  12226.650391  428800           False  \n",
       "3  11993.049805  396500           False  \n",
       "4  12052.950195  447800           False  "
      ]
     },
     "execution_count": 17,
     "metadata": {},
     "output_type": "execute_result"
    }
   ],
   "source": [
    "from matplotlib import dates as mdates\n",
    "import datetime as dt\n",
    "\n",
    "dfc = df1.copy()\n",
    "dfc['VolumePositive'] = dfc['Open'] < dfc['Adj Close']\n",
    "#dfc = dfc.dropna()\n",
    "dfc = dfc.reset_index()\n",
    "dfc['Date'] = pd.to_datetime(dfc['Date'])\n",
    "dfc['Date'] = dfc['Date'].apply(mdates.date2num)\n",
    "dfc.head()"
   ]
  },
  {
   "cell_type": "code",
   "execution_count": 19,
   "metadata": {
    "collapsed": false,
    "inputHidden": false,
    "jupyter": {
     "outputs_hidden": false
    },
    "outputHidden": false
   },
   "outputs": [
    {
     "data": {
      "text/plain": [
       "Text(0.5, 0, 'Date')"
      ]
     },
     "execution_count": 19,
     "metadata": {},
     "output_type": "execute_result"
    },
    {
     "data": {
      "image/png": "[encoded data removed]",
      "text/plain": [
       "<Figure size 1008x720 with 3 Axes>"
      ]
     },
     "metadata": {
      "needs_background": "light"
     },
     "output_type": "display_data"
    }
   ],
   "source": [
    "from mpl_finance import candlestick_ohlc\n",
    "\n",
    "fig = plt.figure(figsize=(14,10))\n",
    "ax1 = plt.subplot(2, 1, 1)\n",
    "candlestick_ohlc(ax1,dfc.values, width=0.5, colorup='g', colordown='r', alpha=1.0)\n",
    "ax1.xaxis_date()\n",
    "ax1.xaxis.set_major_formatter(mdates.DateFormatter('%d-%m-%Y'))\n",
    "ax1.grid(True, which='both')\n",
    "ax1.minorticks_on()\n",
    "ax1v = ax1.twinx()\n",
    "colors = dfc.VolumePositive.map({True: 'g', False: 'r'})\n",
    "ax1v.bar(dfc.Date, dfc['Volume'], color=colors, alpha=0.4)\n",
    "ax1v.axes.yaxis.set_ticklabels([])\n",
    "ax1v.set_ylim(0, 3*df1.Volume.max())\n",
    "ax1.set_title('Stock '+ symbol1 +' Closing Price')\n",
    "ax1.set_ylabel('Price')\n",
    "\n",
    "ax2 = plt.subplot(2, 1, 2)\n",
    "ax2.plot(df['Corr'], label='Correlation Coefficient', color='black')\n",
    "ax2.grid()\n",
    "ax2.legend(loc='best')\n",
    "ax2.set_ylabel('Correlation Coefficient')\n",
    "ax2.set_xlabel('Date')"
   ]
  }
 ],
 "metadata": {
  "kernel_info": {
   "name": "python3"
  },
  "kernelspec": {
   "display_name": "Python 3 (ipykernel)",
   "language": "python",
   "name": "python3"
  },
  "language_info": {
   "codemirror_mode": {
    "name": "ipython",
    "version": 3
   },
   "file_extension": ".py",
   "mimetype": "text/x-python",
   "name": "python",
   "nbconvert_exporter": "python",
   "pygments_lexer": "ipython3",
   "version": "3.9.7"
  },
  "nteract": {
   "version": "0.14.2"
  }
 },
 "nbformat": 4,
 "nbformat_minor": 4
}
