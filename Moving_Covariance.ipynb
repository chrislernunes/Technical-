{
 "cells": [
  {
   "cell_type": "markdown",
   "metadata": {},
   "source": [
    "# Moving Covariance"
   ]
  },
  {
   "cell_type": "markdown",
   "metadata": {},
   "source": [
    "https://www.fmlabs.com/reference/default.htm"
   ]
  },
  {
   "cell_type": "code",
   "execution_count": 1,
   "metadata": {
    "collapsed": false,
    "inputHidden": false,
    "jupyter": {
     "outputs_hidden": false
    },
    "outputHidden": false
   },
   "outputs": [],
   "source": [
    "import numpy as np\n",
    "import pandas as pd\n",
    "import matplotlib.pyplot as plt\n",
    "\n",
    "import warnings\n",
    "warnings.filterwarnings(\"ignore\")\n",
    "\n",
    "# fix_yahoo_finance is used to fetch data \n",
    "import yfinance as yf\n",
    "yf.pdr_override()"
   ]
  },
  {
   "cell_type": "code",
   "execution_count": 2,
   "metadata": {
    "collapsed": false,
    "inputHidden": false,
    "jupyter": {
     "outputs_hidden": false
    },
    "outputHidden": false
   },
   "outputs": [
    {
     "name": "stdout",
     "output_type": "stream",
     "text": [
      "[*********************100%***********************]  1 of 1 completed\n",
      "[*********************100%***********************]  1 of 1 completed\n"
     ]
    },
    {
     "data": {
      "text/html": [
       "<div>\n",
       "<style scoped>\n",
       "    .dataframe tbody tr th:only-of-type {\n",
       "        vertical-align: middle;\n",
       "    }\n",
       "\n",
       "    .dataframe tbody tr th {\n",
       "        vertical-align: top;\n",
       "    }\n",
       "\n",
       "    .dataframe thead th {\n",
       "        text-align: right;\n",
       "    }\n",
       "</style>\n",
       "<table border=\"1\" class=\"dataframe\">\n",
       "  <thead>\n",
       "    <tr style=\"text-align: right;\">\n",
       "      <th></th>\n",
       "      <th>Open</th>\n",
       "      <th>High</th>\n",
       "      <th>Low</th>\n",
       "      <th>Close</th>\n",
       "      <th>Adj Close</th>\n",
       "      <th>Volume</th>\n",
       "    </tr>\n",
       "    <tr>\n",
       "      <th>Date</th>\n",
       "      <th></th>\n",
       "      <th></th>\n",
       "      <th></th>\n",
       "      <th></th>\n",
       "      <th></th>\n",
       "      <th></th>\n",
       "    </tr>\n",
       "  </thead>\n",
       "  <tbody>\n",
       "    <tr>\n",
       "      <th>2017-01-02 00:00:00+05:30</th>\n",
       "      <td>8210.099609</td>\n",
       "      <td>8212.000000</td>\n",
       "      <td>8133.799805</td>\n",
       "      <td>8179.500000</td>\n",
       "      <td>8179.500000</td>\n",
       "      <td>118300</td>\n",
       "    </tr>\n",
       "    <tr>\n",
       "      <th>2017-01-03 00:00:00+05:30</th>\n",
       "      <td>8196.049805</td>\n",
       "      <td>8219.099609</td>\n",
       "      <td>8148.600098</td>\n",
       "      <td>8192.250000</td>\n",
       "      <td>8192.250000</td>\n",
       "      <td>127300</td>\n",
       "    </tr>\n",
       "    <tr>\n",
       "      <th>2017-01-04 00:00:00+05:30</th>\n",
       "      <td>8202.650391</td>\n",
       "      <td>8218.500000</td>\n",
       "      <td>8180.899902</td>\n",
       "      <td>8190.500000</td>\n",
       "      <td>8190.500000</td>\n",
       "      <td>132400</td>\n",
       "    </tr>\n",
       "    <tr>\n",
       "      <th>2017-01-05 00:00:00+05:30</th>\n",
       "      <td>8226.650391</td>\n",
       "      <td>8282.650391</td>\n",
       "      <td>8223.700195</td>\n",
       "      <td>8273.799805</td>\n",
       "      <td>8273.799805</td>\n",
       "      <td>159100</td>\n",
       "    </tr>\n",
       "    <tr>\n",
       "      <th>2017-01-06 00:00:00+05:30</th>\n",
       "      <td>8281.849609</td>\n",
       "      <td>8306.849609</td>\n",
       "      <td>8233.250000</td>\n",
       "      <td>8243.799805</td>\n",
       "      <td>8243.799805</td>\n",
       "      <td>139400</td>\n",
       "    </tr>\n",
       "  </tbody>\n",
       "</table>\n",
       "</div>"
      ],
      "text/plain": [
       "                                  Open         High          Low        Close  \\\n",
       "Date                                                                            \n",
       "2017-01-02 00:00:00+05:30  8210.099609  8212.000000  8133.799805  8179.500000   \n",
       "2017-01-03 00:00:00+05:30  8196.049805  8219.099609  8148.600098  8192.250000   \n",
       "2017-01-04 00:00:00+05:30  8202.650391  8218.500000  8180.899902  8190.500000   \n",
       "2017-01-05 00:00:00+05:30  8226.650391  8282.650391  8223.700195  8273.799805   \n",
       "2017-01-06 00:00:00+05:30  8281.849609  8306.849609  8233.250000  8243.799805   \n",
       "\n",
       "                             Adj Close  Volume  \n",
       "Date                                            \n",
       "2017-01-02 00:00:00+05:30  8179.500000  118300  \n",
       "2017-01-03 00:00:00+05:30  8192.250000  127300  \n",
       "2017-01-04 00:00:00+05:30  8190.500000  132400  \n",
       "2017-01-05 00:00:00+05:30  8273.799805  159100  \n",
       "2017-01-06 00:00:00+05:30  8243.799805  139400  "
      ]
     },
     "execution_count": 2,
     "metadata": {},
     "output_type": "execute_result"
    }
   ],
   "source": [
    "# input\n",
    "symbol1 = '^nsei'\n",
    "symbol2 = 'reliance.ns'\n",
    "start = '2017-01-01'\n",
    "end = '2019-01-01'\n",
    "\n",
    "# Read data \n",
    "df1 = yf.download(symbol1,start,end)\n",
    "df2 = yf.download(symbol2,start,end)\n",
    "\n",
    "# View Columns\n",
    "df1.head()"
   ]
  },
  {
   "cell_type": "code",
   "execution_count": 3,
   "metadata": {
    "collapsed": false,
    "inputHidden": false,
    "jupyter": {
     "outputs_hidden": false
    },
    "outputHidden": false
   },
   "outputs": [
    {
     "data": {
      "text/html": [
       "<div>\n",
       "<style scoped>\n",
       "    .dataframe tbody tr th:only-of-type {\n",
       "        vertical-align: middle;\n",
       "    }\n",
       "\n",
       "    .dataframe tbody tr th {\n",
       "        vertical-align: top;\n",
       "    }\n",
       "\n",
       "    .dataframe thead th {\n",
       "        text-align: right;\n",
       "    }\n",
       "</style>\n",
       "<table border=\"1\" class=\"dataframe\">\n",
       "  <thead>\n",
       "    <tr style=\"text-align: right;\">\n",
       "      <th></th>\n",
       "      <th>Open</th>\n",
       "      <th>High</th>\n",
       "      <th>Low</th>\n",
       "      <th>Close</th>\n",
       "      <th>Adj Close</th>\n",
       "      <th>Volume</th>\n",
       "    </tr>\n",
       "    <tr>\n",
       "      <th>Date</th>\n",
       "      <th></th>\n",
       "      <th></th>\n",
       "      <th></th>\n",
       "      <th></th>\n",
       "      <th></th>\n",
       "      <th></th>\n",
       "    </tr>\n",
       "  </thead>\n",
       "  <tbody>\n",
       "    <tr>\n",
       "      <th>2017-01-02 00:00:00+05:30</th>\n",
       "      <td>536.910645</td>\n",
       "      <td>539.882446</td>\n",
       "      <td>531.140320</td>\n",
       "      <td>537.455444</td>\n",
       "      <td>522.123291</td>\n",
       "      <td>3275674</td>\n",
       "    </tr>\n",
       "    <tr>\n",
       "      <th>2017-01-03 00:00:00+05:30</th>\n",
       "      <td>539.808167</td>\n",
       "      <td>543.349609</td>\n",
       "      <td>535.474243</td>\n",
       "      <td>539.585266</td>\n",
       "      <td>524.192261</td>\n",
       "      <td>2969384</td>\n",
       "    </tr>\n",
       "    <tr>\n",
       "      <th>2017-01-04 00:00:00+05:30</th>\n",
       "      <td>541.318848</td>\n",
       "      <td>541.368347</td>\n",
       "      <td>527.153137</td>\n",
       "      <td>528.564758</td>\n",
       "      <td>513.486145</td>\n",
       "      <td>4796129</td>\n",
       "    </tr>\n",
       "    <tr>\n",
       "      <th>2017-01-05 00:00:00+05:30</th>\n",
       "      <td>530.471680</td>\n",
       "      <td>534.879883</td>\n",
       "      <td>529.357239</td>\n",
       "      <td>533.641602</td>\n",
       "      <td>518.418213</td>\n",
       "      <td>4030815</td>\n",
       "    </tr>\n",
       "    <tr>\n",
       "      <th>2017-01-06 00:00:00+05:30</th>\n",
       "      <td>532.056641</td>\n",
       "      <td>537.405945</td>\n",
       "      <td>531.511780</td>\n",
       "      <td>532.428101</td>\n",
       "      <td>517.239258</td>\n",
       "      <td>3620853</td>\n",
       "    </tr>\n",
       "  </tbody>\n",
       "</table>\n",
       "</div>"
      ],
      "text/plain": [
       "                                 Open        High         Low       Close  \\\n",
       "Date                                                                        \n",
       "2017-01-02 00:00:00+05:30  536.910645  539.882446  531.140320  537.455444   \n",
       "2017-01-03 00:00:00+05:30  539.808167  543.349609  535.474243  539.585266   \n",
       "2017-01-04 00:00:00+05:30  541.318848  541.368347  527.153137  528.564758   \n",
       "2017-01-05 00:00:00+05:30  530.471680  534.879883  529.357239  533.641602   \n",
       "2017-01-06 00:00:00+05:30  532.056641  537.405945  531.511780  532.428101   \n",
       "\n",
       "                            Adj Close   Volume  \n",
       "Date                                            \n",
       "2017-01-02 00:00:00+05:30  522.123291  3275674  \n",
       "2017-01-03 00:00:00+05:30  524.192261  2969384  \n",
       "2017-01-04 00:00:00+05:30  513.486145  4796129  \n",
       "2017-01-05 00:00:00+05:30  518.418213  4030815  \n",
       "2017-01-06 00:00:00+05:30  517.239258  3620853  "
      ]
     },
     "execution_count": 3,
     "metadata": {},
     "output_type": "execute_result"
    }
   ],
   "source": [
    "df2.head()"
   ]
  },
  {
   "cell_type": "code",
   "execution_count": 4,
   "metadata": {
    "collapsed": false,
    "inputHidden": false,
    "jupyter": {
     "outputs_hidden": false
    },
    "outputHidden": false
   },
   "outputs": [],
   "source": [
    "c = df1['Adj Close'].cov(df2['Adj Close'])"
   ]
  },
  {
   "cell_type": "code",
   "execution_count": 5,
   "metadata": {
    "collapsed": false,
    "inputHidden": false,
    "jupyter": {
     "outputs_hidden": false
    },
    "outputHidden": false
   },
   "outputs": [
    {
     "data": {
      "text/plain": [
       "140083.1159649628"
      ]
     },
     "execution_count": 5,
     "metadata": {},
     "output_type": "execute_result"
    }
   ],
   "source": [
    "c"
   ]
  },
  {
   "cell_type": "code",
   "execution_count": 6,
   "metadata": {
    "collapsed": false,
    "inputHidden": false,
    "jupyter": {
     "outputs_hidden": false
    },
    "outputHidden": false
   },
   "outputs": [],
   "source": [
    "df = pd.concat([df1['Adj Close'], df2['Adj Close']],axis=1)"
   ]
  },
  {
   "cell_type": "code",
   "execution_count": 7,
   "metadata": {
    "collapsed": false,
    "inputHidden": false,
    "jupyter": {
     "outputs_hidden": false
    },
    "outputHidden": false
   },
   "outputs": [
    {
     "data": {
      "text/html": [
       "<div>\n",
       "<style scoped>\n",
       "    .dataframe tbody tr th:only-of-type {\n",
       "        vertical-align: middle;\n",
       "    }\n",
       "\n",
       "    .dataframe tbody tr th {\n",
       "        vertical-align: top;\n",
       "    }\n",
       "\n",
       "    .dataframe thead th {\n",
       "        text-align: right;\n",
       "    }\n",
       "</style>\n",
       "<table border=\"1\" class=\"dataframe\">\n",
       "  <thead>\n",
       "    <tr style=\"text-align: right;\">\n",
       "      <th></th>\n",
       "      <th>Adj Close</th>\n",
       "      <th>Adj Close</th>\n",
       "    </tr>\n",
       "    <tr>\n",
       "      <th>Date</th>\n",
       "      <th></th>\n",
       "      <th></th>\n",
       "    </tr>\n",
       "  </thead>\n",
       "  <tbody>\n",
       "    <tr>\n",
       "      <th>2017-01-02 00:00:00+05:30</th>\n",
       "      <td>8179.500000</td>\n",
       "      <td>522.123291</td>\n",
       "    </tr>\n",
       "    <tr>\n",
       "      <th>2017-01-03 00:00:00+05:30</th>\n",
       "      <td>8192.250000</td>\n",
       "      <td>524.192261</td>\n",
       "    </tr>\n",
       "    <tr>\n",
       "      <th>2017-01-04 00:00:00+05:30</th>\n",
       "      <td>8190.500000</td>\n",
       "      <td>513.486145</td>\n",
       "    </tr>\n",
       "    <tr>\n",
       "      <th>2017-01-05 00:00:00+05:30</th>\n",
       "      <td>8273.799805</td>\n",
       "      <td>518.418213</td>\n",
       "    </tr>\n",
       "    <tr>\n",
       "      <th>2017-01-06 00:00:00+05:30</th>\n",
       "      <td>8243.799805</td>\n",
       "      <td>517.239258</td>\n",
       "    </tr>\n",
       "  </tbody>\n",
       "</table>\n",
       "</div>"
      ],
      "text/plain": [
       "                             Adj Close   Adj Close\n",
       "Date                                              \n",
       "2017-01-02 00:00:00+05:30  8179.500000  522.123291\n",
       "2017-01-03 00:00:00+05:30  8192.250000  524.192261\n",
       "2017-01-04 00:00:00+05:30  8190.500000  513.486145\n",
       "2017-01-05 00:00:00+05:30  8273.799805  518.418213\n",
       "2017-01-06 00:00:00+05:30  8243.799805  517.239258"
      ]
     },
     "execution_count": 7,
     "metadata": {},
     "output_type": "execute_result"
    }
   ],
   "source": [
    "df.head()"
   ]
  },
  {
   "cell_type": "code",
   "execution_count": 8,
   "metadata": {
    "collapsed": false,
    "inputHidden": false,
    "jupyter": {
     "outputs_hidden": false
    },
    "outputHidden": false
   },
   "outputs": [],
   "source": [
    "# Rename columns\n",
    "df.columns = [symbol1,symbol2]"
   ]
  },
  {
   "cell_type": "code",
   "execution_count": 9,
   "metadata": {
    "collapsed": false,
    "inputHidden": false,
    "jupyter": {
     "outputs_hidden": false
    },
    "outputHidden": false
   },
   "outputs": [
    {
     "data": {
      "text/html": [
       "<div>\n",
       "<style scoped>\n",
       "    .dataframe tbody tr th:only-of-type {\n",
       "        vertical-align: middle;\n",
       "    }\n",
       "\n",
       "    .dataframe tbody tr th {\n",
       "        vertical-align: top;\n",
       "    }\n",
       "\n",
       "    .dataframe thead th {\n",
       "        text-align: right;\n",
       "    }\n",
       "</style>\n",
       "<table border=\"1\" class=\"dataframe\">\n",
       "  <thead>\n",
       "    <tr style=\"text-align: right;\">\n",
       "      <th></th>\n",
       "      <th>^nsei</th>\n",
       "      <th>reliance.ns</th>\n",
       "    </tr>\n",
       "    <tr>\n",
       "      <th>Date</th>\n",
       "      <th></th>\n",
       "      <th></th>\n",
       "    </tr>\n",
       "  </thead>\n",
       "  <tbody>\n",
       "    <tr>\n",
       "      <th>2017-01-02 00:00:00+05:30</th>\n",
       "      <td>8179.500000</td>\n",
       "      <td>522.123291</td>\n",
       "    </tr>\n",
       "    <tr>\n",
       "      <th>2017-01-03 00:00:00+05:30</th>\n",
       "      <td>8192.250000</td>\n",
       "      <td>524.192261</td>\n",
       "    </tr>\n",
       "    <tr>\n",
       "      <th>2017-01-04 00:00:00+05:30</th>\n",
       "      <td>8190.500000</td>\n",
       "      <td>513.486145</td>\n",
       "    </tr>\n",
       "    <tr>\n",
       "      <th>2017-01-05 00:00:00+05:30</th>\n",
       "      <td>8273.799805</td>\n",
       "      <td>518.418213</td>\n",
       "    </tr>\n",
       "    <tr>\n",
       "      <th>2017-01-06 00:00:00+05:30</th>\n",
       "      <td>8243.799805</td>\n",
       "      <td>517.239258</td>\n",
       "    </tr>\n",
       "  </tbody>\n",
       "</table>\n",
       "</div>"
      ],
      "text/plain": [
       "                                 ^nsei  reliance.ns\n",
       "Date                                               \n",
       "2017-01-02 00:00:00+05:30  8179.500000   522.123291\n",
       "2017-01-03 00:00:00+05:30  8192.250000   524.192261\n",
       "2017-01-04 00:00:00+05:30  8190.500000   513.486145\n",
       "2017-01-05 00:00:00+05:30  8273.799805   518.418213\n",
       "2017-01-06 00:00:00+05:30  8243.799805   517.239258"
      ]
     },
     "execution_count": 9,
     "metadata": {},
     "output_type": "execute_result"
    }
   ],
   "source": [
    "df.head()"
   ]
  },
  {
   "cell_type": "code",
   "execution_count": 11,
   "metadata": {
    "collapsed": false,
    "inputHidden": false,
    "jupyter": {
     "outputs_hidden": false
    },
    "outputHidden": false
   },
   "outputs": [],
   "source": [
    "n = 14\n",
    "df['M_Cov'] = df['^nsei'].rolling(n).cov(df['reliance.ns']).rolling(n).mean()"
   ]
  },
  {
   "cell_type": "code",
   "execution_count": 12,
   "metadata": {
    "collapsed": false,
    "inputHidden": false,
    "jupyter": {
     "outputs_hidden": false
    },
    "outputHidden": false
   },
   "outputs": [
    {
     "data": {
      "text/html": [
       "<div>\n",
       "<style scoped>\n",
       "    .dataframe tbody tr th:only-of-type {\n",
       "        vertical-align: middle;\n",
       "    }\n",
       "\n",
       "    .dataframe tbody tr th {\n",
       "        vertical-align: top;\n",
       "    }\n",
       "\n",
       "    .dataframe thead th {\n",
       "        text-align: right;\n",
       "    }\n",
       "</style>\n",
       "<table border=\"1\" class=\"dataframe\">\n",
       "  <thead>\n",
       "    <tr style=\"text-align: right;\">\n",
       "      <th></th>\n",
       "      <th>^nsei</th>\n",
       "      <th>reliance.ns</th>\n",
       "      <th>M_Cov</th>\n",
       "    </tr>\n",
       "    <tr>\n",
       "      <th>Date</th>\n",
       "      <th></th>\n",
       "      <th></th>\n",
       "      <th></th>\n",
       "    </tr>\n",
       "  </thead>\n",
       "  <tbody>\n",
       "    <tr>\n",
       "      <th>2017-01-02 00:00:00+05:30</th>\n",
       "      <td>8179.500000</td>\n",
       "      <td>522.123291</td>\n",
       "      <td>NaN</td>\n",
       "    </tr>\n",
       "    <tr>\n",
       "      <th>2017-01-03 00:00:00+05:30</th>\n",
       "      <td>8192.250000</td>\n",
       "      <td>524.192261</td>\n",
       "      <td>NaN</td>\n",
       "    </tr>\n",
       "    <tr>\n",
       "      <th>2017-01-04 00:00:00+05:30</th>\n",
       "      <td>8190.500000</td>\n",
       "      <td>513.486145</td>\n",
       "      <td>NaN</td>\n",
       "    </tr>\n",
       "    <tr>\n",
       "      <th>2017-01-05 00:00:00+05:30</th>\n",
       "      <td>8273.799805</td>\n",
       "      <td>518.418213</td>\n",
       "      <td>NaN</td>\n",
       "    </tr>\n",
       "    <tr>\n",
       "      <th>2017-01-06 00:00:00+05:30</th>\n",
       "      <td>8243.799805</td>\n",
       "      <td>517.239258</td>\n",
       "      <td>NaN</td>\n",
       "    </tr>\n",
       "    <tr>\n",
       "      <th>2017-01-09 00:00:00+05:30</th>\n",
       "      <td>8236.049805</td>\n",
       "      <td>518.562561</td>\n",
       "      <td>NaN</td>\n",
       "    </tr>\n",
       "    <tr>\n",
       "      <th>2017-01-10 00:00:00+05:30</th>\n",
       "      <td>8288.599609</td>\n",
       "      <td>524.408752</td>\n",
       "      <td>NaN</td>\n",
       "    </tr>\n",
       "    <tr>\n",
       "      <th>2017-01-11 00:00:00+05:30</th>\n",
       "      <td>8380.650391</td>\n",
       "      <td>522.580383</td>\n",
       "      <td>NaN</td>\n",
       "    </tr>\n",
       "    <tr>\n",
       "      <th>2017-01-12 00:00:00+05:30</th>\n",
       "      <td>8407.200195</td>\n",
       "      <td>521.257141</td>\n",
       "      <td>NaN</td>\n",
       "    </tr>\n",
       "    <tr>\n",
       "      <th>2017-01-13 00:00:00+05:30</th>\n",
       "      <td>8400.349609</td>\n",
       "      <td>524.673462</td>\n",
       "      <td>NaN</td>\n",
       "    </tr>\n",
       "    <tr>\n",
       "      <th>2017-01-16 00:00:00+05:30</th>\n",
       "      <td>8412.799805</td>\n",
       "      <td>517.864746</td>\n",
       "      <td>NaN</td>\n",
       "    </tr>\n",
       "    <tr>\n",
       "      <th>2017-01-17 00:00:00+05:30</th>\n",
       "      <td>8398.000000</td>\n",
       "      <td>501.023682</td>\n",
       "      <td>NaN</td>\n",
       "    </tr>\n",
       "    <tr>\n",
       "      <th>2017-01-18 00:00:00+05:30</th>\n",
       "      <td>8417.000000</td>\n",
       "      <td>496.837433</td>\n",
       "      <td>NaN</td>\n",
       "    </tr>\n",
       "    <tr>\n",
       "      <th>2017-01-19 00:00:00+05:30</th>\n",
       "      <td>8435.099609</td>\n",
       "      <td>497.390839</td>\n",
       "      <td>NaN</td>\n",
       "    </tr>\n",
       "    <tr>\n",
       "      <th>2017-01-20 00:00:00+05:30</th>\n",
       "      <td>8349.349609</td>\n",
       "      <td>493.589569</td>\n",
       "      <td>NaN</td>\n",
       "    </tr>\n",
       "    <tr>\n",
       "      <th>2017-01-23 00:00:00+05:30</th>\n",
       "      <td>8391.500000</td>\n",
       "      <td>488.825928</td>\n",
       "      <td>NaN</td>\n",
       "    </tr>\n",
       "    <tr>\n",
       "      <th>2017-01-24 00:00:00+05:30</th>\n",
       "      <td>8475.799805</td>\n",
       "      <td>494.311340</td>\n",
       "      <td>NaN</td>\n",
       "    </tr>\n",
       "    <tr>\n",
       "      <th>2017-01-25 00:00:00+05:30</th>\n",
       "      <td>8602.750000</td>\n",
       "      <td>489.499542</td>\n",
       "      <td>NaN</td>\n",
       "    </tr>\n",
       "    <tr>\n",
       "      <th>2017-01-27 00:00:00+05:30</th>\n",
       "      <td>8641.250000</td>\n",
       "      <td>493.252716</td>\n",
       "      <td>NaN</td>\n",
       "    </tr>\n",
       "    <tr>\n",
       "      <th>2017-01-30 00:00:00+05:30</th>\n",
       "      <td>8632.750000</td>\n",
       "      <td>502.731903</td>\n",
       "      <td>NaN</td>\n",
       "    </tr>\n",
       "  </tbody>\n",
       "</table>\n",
       "</div>"
      ],
      "text/plain": [
       "                                 ^nsei  reliance.ns  M_Cov\n",
       "Date                                                      \n",
       "2017-01-02 00:00:00+05:30  8179.500000   522.123291    NaN\n",
       "2017-01-03 00:00:00+05:30  8192.250000   524.192261    NaN\n",
       "2017-01-04 00:00:00+05:30  8190.500000   513.486145    NaN\n",
       "2017-01-05 00:00:00+05:30  8273.799805   518.418213    NaN\n",
       "2017-01-06 00:00:00+05:30  8243.799805   517.239258    NaN\n",
       "2017-01-09 00:00:00+05:30  8236.049805   518.562561    NaN\n",
       "2017-01-10 00:00:00+05:30  8288.599609   524.408752    NaN\n",
       "2017-01-11 00:00:00+05:30  8380.650391   522.580383    NaN\n",
       "2017-01-12 00:00:00+05:30  8407.200195   521.257141    NaN\n",
       "2017-01-13 00:00:00+05:30  8400.349609   524.673462    NaN\n",
       "2017-01-16 00:00:00+05:30  8412.799805   517.864746    NaN\n",
       "2017-01-17 00:00:00+05:30  8398.000000   501.023682    NaN\n",
       "2017-01-18 00:00:00+05:30  8417.000000   496.837433    NaN\n",
       "2017-01-19 00:00:00+05:30  8435.099609   497.390839    NaN\n",
       "2017-01-20 00:00:00+05:30  8349.349609   493.589569    NaN\n",
       "2017-01-23 00:00:00+05:30  8391.500000   488.825928    NaN\n",
       "2017-01-24 00:00:00+05:30  8475.799805   494.311340    NaN\n",
       "2017-01-25 00:00:00+05:30  8602.750000   489.499542    NaN\n",
       "2017-01-27 00:00:00+05:30  8641.250000   493.252716    NaN\n",
       "2017-01-30 00:00:00+05:30  8632.750000   502.731903    NaN"
      ]
     },
     "execution_count": 12,
     "metadata": {},
     "output_type": "execute_result"
    }
   ],
   "source": [
    "df.head(20)"
   ]
  },
  {
   "cell_type": "code",
   "execution_count": 13,
   "metadata": {
    "collapsed": false,
    "inputHidden": false,
    "jupyter": {
     "outputs_hidden": false
    },
    "outputHidden": false
   },
   "outputs": [
    {
     "name": "stderr",
     "output_type": "stream",
     "text": [
      "No artists with labels found to put in legend.  Note that artists whose label start with an underscore are ignored when legend() is called with no argument.\n"
     ]
    },
    {
     "data": {
      "text/plain": [
       "Text(0.5, 0, 'Date')"
      ]
     },
     "execution_count": 13,
     "metadata": {},
     "output_type": "execute_result"
    },
    {
     "data": {
      "image/png": "[encoded data removed]",
      "text/plain": [
       "<Figure size 1008x720 with 2 Axes>"
      ]
     },
     "metadata": {
      "needs_background": "light"
     },
     "output_type": "display_data"
    }
   ],
   "source": [
    "fig = plt.figure(figsize=(14,10))\n",
    "ax1 = plt.subplot(2, 1, 1)\n",
    "ax1.plot(df1['Adj Close'])\n",
    "ax1.set_title('Stock '+ symbol1 +' Closing Price')\n",
    "ax1.set_ylabel('Price')\n",
    "ax1.legend(loc='best')\n",
    "\n",
    "ax2 = plt.subplot(2, 1, 2)\n",
    "ax2.plot(df['M_Cov'], label='Moving Covariance', color='black')\n",
    "ax2.grid()\n",
    "ax2.legend(loc='best')\n",
    "ax2.set_ylabel('Moving Covariance')\n",
    "ax2.set_xlabel('Date')"
   ]
  },
  {
   "cell_type": "markdown",
   "metadata": {},
   "source": [
    "## Candlestick with Covariance"
   ]
  },
  {
   "cell_type": "code",
   "execution_count": 14,
   "metadata": {
    "collapsed": false,
    "inputHidden": false,
    "jupyter": {
     "outputs_hidden": false
    },
    "outputHidden": false
   },
   "outputs": [
    {
     "data": {
      "text/html": [
       "<div>\n",
       "<style scoped>\n",
       "    .dataframe tbody tr th:only-of-type {\n",
       "        vertical-align: middle;\n",
       "    }\n",
       "\n",
       "    .dataframe tbody tr th {\n",
       "        vertical-align: top;\n",
       "    }\n",
       "\n",
       "    .dataframe thead th {\n",
       "        text-align: right;\n",
       "    }\n",
       "</style>\n",
       "<table border=\"1\" class=\"dataframe\">\n",
       "  <thead>\n",
       "    <tr style=\"text-align: right;\">\n",
       "      <th></th>\n",
       "      <th>Date</th>\n",
       "      <th>Open</th>\n",
       "      <th>High</th>\n",
       "      <th>Low</th>\n",
       "      <th>Close</th>\n",
       "      <th>Adj Close</th>\n",
       "      <th>Volume</th>\n",
       "      <th>VolumePositive</th>\n",
       "    </tr>\n",
       "  </thead>\n",
       "  <tbody>\n",
       "    <tr>\n",
       "      <th>0</th>\n",
       "      <td>17167.770833</td>\n",
       "      <td>8210.099609</td>\n",
       "      <td>8212.000000</td>\n",
       "      <td>8133.799805</td>\n",
       "      <td>8179.500000</td>\n",
       "      <td>8179.500000</td>\n",
       "      <td>118300</td>\n",
       "      <td>False</td>\n",
       "    </tr>\n",
       "    <tr>\n",
       "      <th>1</th>\n",
       "      <td>17168.770833</td>\n",
       "      <td>8196.049805</td>\n",
       "      <td>8219.099609</td>\n",
       "      <td>8148.600098</td>\n",
       "      <td>8192.250000</td>\n",
       "      <td>8192.250000</td>\n",
       "      <td>127300</td>\n",
       "      <td>False</td>\n",
       "    </tr>\n",
       "    <tr>\n",
       "      <th>2</th>\n",
       "      <td>17169.770833</td>\n",
       "      <td>8202.650391</td>\n",
       "      <td>8218.500000</td>\n",
       "      <td>8180.899902</td>\n",
       "      <td>8190.500000</td>\n",
       "      <td>8190.500000</td>\n",
       "      <td>132400</td>\n",
       "      <td>False</td>\n",
       "    </tr>\n",
       "    <tr>\n",
       "      <th>3</th>\n",
       "      <td>17170.770833</td>\n",
       "      <td>8226.650391</td>\n",
       "      <td>8282.650391</td>\n",
       "      <td>8223.700195</td>\n",
       "      <td>8273.799805</td>\n",
       "      <td>8273.799805</td>\n",
       "      <td>159100</td>\n",
       "      <td>True</td>\n",
       "    </tr>\n",
       "    <tr>\n",
       "      <th>4</th>\n",
       "      <td>17171.770833</td>\n",
       "      <td>8281.849609</td>\n",
       "      <td>8306.849609</td>\n",
       "      <td>8233.250000</td>\n",
       "      <td>8243.799805</td>\n",
       "      <td>8243.799805</td>\n",
       "      <td>139400</td>\n",
       "      <td>False</td>\n",
       "    </tr>\n",
       "  </tbody>\n",
       "</table>\n",
       "</div>"
      ],
      "text/plain": [
       "           Date         Open         High          Low        Close  \\\n",
       "0  17167.770833  8210.099609  8212.000000  8133.799805  8179.500000   \n",
       "1  17168.770833  8196.049805  8219.099609  8148.600098  8192.250000   \n",
       "2  17169.770833  8202.650391  8218.500000  8180.899902  8190.500000   \n",
       "3  17170.770833  8226.650391  8282.650391  8223.700195  8273.799805   \n",
       "4  17171.770833  8281.849609  8306.849609  8233.250000  8243.799805   \n",
       "\n",
       "     Adj Close  Volume  VolumePositive  \n",
       "0  8179.500000  118300           False  \n",
       "1  8192.250000  127300           False  \n",
       "2  8190.500000  132400           False  \n",
       "3  8273.799805  159100            True  \n",
       "4  8243.799805  139400           False  "
      ]
     },
     "execution_count": 14,
     "metadata": {},
     "output_type": "execute_result"
    }
   ],
   "source": [
    "from matplotlib import dates as mdates\n",
    "import datetime as dt\n",
    "\n",
    "dfc = df1.copy()\n",
    "dfc['VolumePositive'] = dfc['Open'] < dfc['Adj Close']\n",
    "#dfc = dfc.dropna()\n",
    "dfc = dfc.reset_index()\n",
    "dfc['Date'] = pd.to_datetime(dfc['Date'])\n",
    "dfc['Date'] = dfc['Date'].apply(mdates.date2num)\n",
    "dfc.head()"
   ]
  },
  {
   "cell_type": "code",
   "execution_count": 16,
   "metadata": {
    "collapsed": false,
    "inputHidden": false,
    "jupyter": {
     "outputs_hidden": false
    },
    "outputHidden": false
   },
   "outputs": [
    {
     "data": {
      "text/plain": [
       "Text(0.5, 0, 'Date')"
      ]
     },
     "execution_count": 16,
     "metadata": {},
     "output_type": "execute_result"
    },
    {
     "data": {
      "image/png": "[encoded data removed]",
      "text/plain": [
       "<Figure size 1008x720 with 3 Axes>"
      ]
     },
     "metadata": {
      "needs_background": "light"
     },
     "output_type": "display_data"
    }
   ],
   "source": [
    "from mpl_finance import candlestick_ohlc\n",
    "\n",
    "fig = plt.figure(figsize=(14,10))\n",
    "ax1 = plt.subplot(2, 1, 1)\n",
    "candlestick_ohlc(ax1,dfc.values, width=0.5, colorup='g', colordown='r', alpha=1.0)\n",
    "ax1.xaxis_date()\n",
    "ax1.xaxis.set_major_formatter(mdates.DateFormatter('%d-%m-%Y'))\n",
    "ax1.grid(True, which='both')\n",
    "ax1.minorticks_on()\n",
    "ax1v = ax1.twinx()\n",
    "colors = dfc.VolumePositive.map({True: 'g', False: 'r'})\n",
    "ax1v.bar(dfc.Date, dfc['Volume'], color=colors, alpha=0.4)\n",
    "ax1v.axes.yaxis.set_ticklabels([])\n",
    "ax1v.set_ylim(0, 3*df1.Volume.max())\n",
    "ax1.set_title('Stock '+ symbol1 +' Closing Price')\n",
    "ax1.set_ylabel('Price')\n",
    "\n",
    "ax2 = plt.subplot(2, 1, 2)\n",
    "ax2.plot(df['M_Cov'], label='Moving Covariance', color='black')\n",
    "ax2.grid()\n",
    "ax2.legend(loc='best')\n",
    "ax2.set_ylabel('Moving Covariance')\n",
    "ax2.set_xlabel('Date')"
   ]
  },
  {
   "cell_type": "code",
   "execution_count": null,
   "metadata": {},
   "outputs": [],
   "source": []
  }
 ],
 "metadata": {
  "kernel_info": {
   "name": "python3"
  },
  "kernelspec": {
   "display_name": "Python 3 (ipykernel)",
   "language": "python",
   "name": "python3"
  },
  "language_info": {
   "codemirror_mode": {
    "name": "ipython",
    "version": 3
   },
   "file_extension": ".py",
   "mimetype": "text/x-python",
   "name": "python",
   "nbconvert_exporter": "python",
   "pygments_lexer": "ipython3",
   "version": "3.9.7"
  },
  "nteract": {
   "version": "0.14.2"
  }
 },
 "nbformat": 4,
 "nbformat_minor": 4
}
