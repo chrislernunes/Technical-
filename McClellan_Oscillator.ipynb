{
 "cells": [
  {
   "cell_type": "markdown",
   "metadata": {},
   "source": [
    "# McClellan Oscillator"
   ]
  },
  {
   "cell_type": "markdown",
   "metadata": {},
   "source": [
    "https://stockcharts.com/school/doku.php?id=chart_school:market_indicators:mcclellan_oscillator\n",
    "\n",
    "Market Indicator"
   ]
  },
  {
   "cell_type": "code",
   "execution_count": 1,
   "metadata": {
    "collapsed": false,
    "inputHidden": false,
    "jupyter": {
     "outputs_hidden": false
    },
    "outputHidden": false
   },
   "outputs": [],
   "source": [
    "import numpy as np\n",
    "import pandas as pd\n",
    "import matplotlib.pyplot as plt\n",
    "\n",
    "import warnings\n",
    "warnings.filterwarnings(\"ignore\")\n",
    "\n",
    "# fix_yahoo_finance is used to fetch data \n",
    "import yfinance as yf\n",
    "yf.pdr_override()"
   ]
  },
  {
   "cell_type": "code",
   "execution_count": 2,
   "metadata": {
    "collapsed": false,
    "inputHidden": false,
    "jupyter": {
     "outputs_hidden": false
    },
    "outputHidden": false
   },
   "outputs": [
    {
     "name": "stdout",
     "output_type": "stream",
     "text": [
      "[*********************100%***********************]  1 of 1 completed\n"
     ]
    },
    {
     "data": {
      "text/html": [
       "<div>\n",
       "<style scoped>\n",
       "    .dataframe tbody tr th:only-of-type {\n",
       "        vertical-align: middle;\n",
       "    }\n",
       "\n",
       "    .dataframe tbody tr th {\n",
       "        vertical-align: top;\n",
       "    }\n",
       "\n",
       "    .dataframe thead th {\n",
       "        text-align: right;\n",
       "    }\n",
       "</style>\n",
       "<table border=\"1\" class=\"dataframe\">\n",
       "  <thead>\n",
       "    <tr style=\"text-align: right;\">\n",
       "      <th></th>\n",
       "      <th>Open</th>\n",
       "      <th>High</th>\n",
       "      <th>Low</th>\n",
       "      <th>Close</th>\n",
       "      <th>Adj Close</th>\n",
       "      <th>Volume</th>\n",
       "    </tr>\n",
       "    <tr>\n",
       "      <th>Date</th>\n",
       "      <th></th>\n",
       "      <th></th>\n",
       "      <th></th>\n",
       "      <th></th>\n",
       "      <th></th>\n",
       "      <th></th>\n",
       "    </tr>\n",
       "  </thead>\n",
       "  <tbody>\n",
       "    <tr>\n",
       "      <th>2020-01-02 00:00:00-05:00</th>\n",
       "      <td>28.299999</td>\n",
       "      <td>28.713333</td>\n",
       "      <td>28.114000</td>\n",
       "      <td>28.684000</td>\n",
       "      <td>28.684000</td>\n",
       "      <td>142981500</td>\n",
       "    </tr>\n",
       "    <tr>\n",
       "      <th>2020-01-03 00:00:00-05:00</th>\n",
       "      <td>29.366667</td>\n",
       "      <td>30.266666</td>\n",
       "      <td>29.128000</td>\n",
       "      <td>29.534000</td>\n",
       "      <td>29.534000</td>\n",
       "      <td>266677500</td>\n",
       "    </tr>\n",
       "    <tr>\n",
       "      <th>2020-01-06 00:00:00-05:00</th>\n",
       "      <td>29.364668</td>\n",
       "      <td>30.104000</td>\n",
       "      <td>29.333332</td>\n",
       "      <td>30.102667</td>\n",
       "      <td>30.102667</td>\n",
       "      <td>151995000</td>\n",
       "    </tr>\n",
       "    <tr>\n",
       "      <th>2020-01-07 00:00:00-05:00</th>\n",
       "      <td>30.760000</td>\n",
       "      <td>31.441999</td>\n",
       "      <td>30.224001</td>\n",
       "      <td>31.270666</td>\n",
       "      <td>31.270666</td>\n",
       "      <td>268231500</td>\n",
       "    </tr>\n",
       "    <tr>\n",
       "      <th>2020-01-08 00:00:00-05:00</th>\n",
       "      <td>31.580000</td>\n",
       "      <td>33.232666</td>\n",
       "      <td>31.215334</td>\n",
       "      <td>32.809334</td>\n",
       "      <td>32.809334</td>\n",
       "      <td>467164500</td>\n",
       "    </tr>\n",
       "  </tbody>\n",
       "</table>\n",
       "</div>"
      ],
      "text/plain": [
       "                                Open       High        Low      Close  \\\n",
       "Date                                                                    \n",
       "2020-01-02 00:00:00-05:00  28.299999  28.713333  28.114000  28.684000   \n",
       "2020-01-03 00:00:00-05:00  29.366667  30.266666  29.128000  29.534000   \n",
       "2020-01-06 00:00:00-05:00  29.364668  30.104000  29.333332  30.102667   \n",
       "2020-01-07 00:00:00-05:00  30.760000  31.441999  30.224001  31.270666   \n",
       "2020-01-08 00:00:00-05:00  31.580000  33.232666  31.215334  32.809334   \n",
       "\n",
       "                           Adj Close     Volume  \n",
       "Date                                             \n",
       "2020-01-02 00:00:00-05:00  28.684000  142981500  \n",
       "2020-01-03 00:00:00-05:00  29.534000  266677500  \n",
       "2020-01-06 00:00:00-05:00  30.102667  151995000  \n",
       "2020-01-07 00:00:00-05:00  31.270666  268231500  \n",
       "2020-01-08 00:00:00-05:00  32.809334  467164500  "
      ]
     },
     "execution_count": 2,
     "metadata": {},
     "output_type": "execute_result"
    }
   ],
   "source": [
    "# input\n",
    "symbol = 'tsla'\n",
    "start = '2020-01-01'\n",
    "end = '2023-01-01'\n",
    "\n",
    "# Read data \n",
    "dfs = yf.download(symbol,start,end)\n",
    "\n",
    "# View Columns\n",
    "dfs.head()"
   ]
  },
  {
   "cell_type": "code",
   "execution_count": 3,
   "metadata": {
    "collapsed": false,
    "inputHidden": false,
    "jupyter": {
     "outputs_hidden": false
    },
    "outputHidden": false
   },
   "outputs": [],
   "source": [
    "import talib as ta"
   ]
  },
  {
   "cell_type": "markdown",
   "metadata": {},
   "source": [
    "https://en.wikipedia.org/wiki/Advance%E2%80%93decline_line\n",
    "\n",
    "https://www.investopedia.com/terms/m/mcclellanoscillator.asp"
   ]
  },
  {
   "cell_type": "code",
   "execution_count": 4,
   "metadata": {
    "collapsed": false,
    "inputHidden": false,
    "jupyter": {
     "outputs_hidden": false
    },
    "outputHidden": false
   },
   "outputs": [],
   "source": [
    "change = dfs['Adj Close'].diff()\n",
    "Advances = change[change > 0]  \n",
    "Declines = change[change <= 0]"
   ]
  },
  {
   "cell_type": "code",
   "execution_count": 5,
   "metadata": {
    "collapsed": false,
    "inputHidden": false,
    "jupyter": {
     "outputs_hidden": false
    },
    "outputHidden": false
   },
   "outputs": [],
   "source": [
    "# df[['Advances', 'Declines']] = df[['Advances', 'Declines']].fillna(0)\n",
    "# df['ADL'] = df['Advances'].fillna(df['Declines'])\n",
    "# ADL for stocks\n",
    "dfs['ADL_Stock'] = Advances.combine_first(Declines)"
   ]
  },
  {
   "cell_type": "code",
   "execution_count": 6,
   "metadata": {
    "collapsed": false,
    "inputHidden": false,
    "jupyter": {
     "outputs_hidden": false
    },
    "outputHidden": false
   },
   "outputs": [
    {
     "data": {
      "text/html": [
       "<div>\n",
       "<style scoped>\n",
       "    .dataframe tbody tr th:only-of-type {\n",
       "        vertical-align: middle;\n",
       "    }\n",
       "\n",
       "    .dataframe tbody tr th {\n",
       "        vertical-align: top;\n",
       "    }\n",
       "\n",
       "    .dataframe thead th {\n",
       "        text-align: right;\n",
       "    }\n",
       "</style>\n",
       "<table border=\"1\" class=\"dataframe\">\n",
       "  <thead>\n",
       "    <tr style=\"text-align: right;\">\n",
       "      <th></th>\n",
       "      <th>Open</th>\n",
       "      <th>High</th>\n",
       "      <th>Low</th>\n",
       "      <th>Close</th>\n",
       "      <th>Adj Close</th>\n",
       "      <th>Volume</th>\n",
       "      <th>ADL_Stock</th>\n",
       "    </tr>\n",
       "    <tr>\n",
       "      <th>Date</th>\n",
       "      <th></th>\n",
       "      <th></th>\n",
       "      <th></th>\n",
       "      <th></th>\n",
       "      <th></th>\n",
       "      <th></th>\n",
       "      <th></th>\n",
       "    </tr>\n",
       "  </thead>\n",
       "  <tbody>\n",
       "    <tr>\n",
       "      <th>2020-01-02 00:00:00-05:00</th>\n",
       "      <td>28.299999</td>\n",
       "      <td>28.713333</td>\n",
       "      <td>28.114000</td>\n",
       "      <td>28.684000</td>\n",
       "      <td>28.684000</td>\n",
       "      <td>142981500</td>\n",
       "      <td>NaN</td>\n",
       "    </tr>\n",
       "    <tr>\n",
       "      <th>2020-01-03 00:00:00-05:00</th>\n",
       "      <td>29.366667</td>\n",
       "      <td>30.266666</td>\n",
       "      <td>29.128000</td>\n",
       "      <td>29.534000</td>\n",
       "      <td>29.534000</td>\n",
       "      <td>266677500</td>\n",
       "      <td>0.850000</td>\n",
       "    </tr>\n",
       "    <tr>\n",
       "      <th>2020-01-06 00:00:00-05:00</th>\n",
       "      <td>29.364668</td>\n",
       "      <td>30.104000</td>\n",
       "      <td>29.333332</td>\n",
       "      <td>30.102667</td>\n",
       "      <td>30.102667</td>\n",
       "      <td>151995000</td>\n",
       "      <td>0.568666</td>\n",
       "    </tr>\n",
       "    <tr>\n",
       "      <th>2020-01-07 00:00:00-05:00</th>\n",
       "      <td>30.760000</td>\n",
       "      <td>31.441999</td>\n",
       "      <td>30.224001</td>\n",
       "      <td>31.270666</td>\n",
       "      <td>31.270666</td>\n",
       "      <td>268231500</td>\n",
       "      <td>1.167999</td>\n",
       "    </tr>\n",
       "    <tr>\n",
       "      <th>2020-01-08 00:00:00-05:00</th>\n",
       "      <td>31.580000</td>\n",
       "      <td>33.232666</td>\n",
       "      <td>31.215334</td>\n",
       "      <td>32.809334</td>\n",
       "      <td>32.809334</td>\n",
       "      <td>467164500</td>\n",
       "      <td>1.538668</td>\n",
       "    </tr>\n",
       "  </tbody>\n",
       "</table>\n",
       "</div>"
      ],
      "text/plain": [
       "                                Open       High        Low      Close  \\\n",
       "Date                                                                    \n",
       "2020-01-02 00:00:00-05:00  28.299999  28.713333  28.114000  28.684000   \n",
       "2020-01-03 00:00:00-05:00  29.366667  30.266666  29.128000  29.534000   \n",
       "2020-01-06 00:00:00-05:00  29.364668  30.104000  29.333332  30.102667   \n",
       "2020-01-07 00:00:00-05:00  30.760000  31.441999  30.224001  31.270666   \n",
       "2020-01-08 00:00:00-05:00  31.580000  33.232666  31.215334  32.809334   \n",
       "\n",
       "                           Adj Close     Volume  ADL_Stock  \n",
       "Date                                                        \n",
       "2020-01-02 00:00:00-05:00  28.684000  142981500        NaN  \n",
       "2020-01-03 00:00:00-05:00  29.534000  266677500   0.850000  \n",
       "2020-01-06 00:00:00-05:00  30.102667  151995000   0.568666  \n",
       "2020-01-07 00:00:00-05:00  31.270666  268231500   1.167999  \n",
       "2020-01-08 00:00:00-05:00  32.809334  467164500   1.538668  "
      ]
     },
     "execution_count": 6,
     "metadata": {},
     "output_type": "execute_result"
    }
   ],
   "source": [
    "dfs.head()"
   ]
  },
  {
   "cell_type": "markdown",
   "metadata": {},
   "source": [
    "https://stockcharts.com/school/doku.php?id=chart_school:market_indicators:mcclellan_oscillator"
   ]
  },
  {
   "cell_type": "code",
   "execution_count": 7,
   "metadata": {
    "collapsed": false,
    "inputHidden": false,
    "jupyter": {
     "outputs_hidden": false
    },
    "outputHidden": false
   },
   "outputs": [],
   "source": [
    "import quandl as q\n",
    "\n",
    "Advances = q.get('URC/NYSE_ADV', start_date = \"2020-01-01\")['Numbers of Stocks']\n",
    "Declines = q.get('URC/NYSE_DEC', start_date = \"2020-01-01\")['Numbers of Stocks'] "
   ]
  },
  {
   "cell_type": "code",
   "execution_count": 8,
   "metadata": {
    "collapsed": false,
    "inputHidden": false,
    "jupyter": {
     "outputs_hidden": false
    },
    "outputHidden": false
   },
   "outputs": [
    {
     "data": {
      "text/html": [
       "<div>\n",
       "<style scoped>\n",
       "    .dataframe tbody tr th:only-of-type {\n",
       "        vertical-align: middle;\n",
       "    }\n",
       "\n",
       "    .dataframe tbody tr th {\n",
       "        vertical-align: top;\n",
       "    }\n",
       "\n",
       "    .dataframe thead th {\n",
       "        text-align: right;\n",
       "    }\n",
       "</style>\n",
       "<table border=\"1\" class=\"dataframe\">\n",
       "  <thead>\n",
       "    <tr style=\"text-align: right;\">\n",
       "      <th></th>\n",
       "      <th>Advances</th>\n",
       "      <th>Declines</th>\n",
       "    </tr>\n",
       "    <tr>\n",
       "      <th>Date</th>\n",
       "      <th></th>\n",
       "      <th></th>\n",
       "    </tr>\n",
       "  </thead>\n",
       "  <tbody>\n",
       "    <tr>\n",
       "      <th>2020-01-02</th>\n",
       "      <td>1808.0</td>\n",
       "      <td>1147.0</td>\n",
       "    </tr>\n",
       "    <tr>\n",
       "      <th>2020-01-03</th>\n",
       "      <td>1387.0</td>\n",
       "      <td>1543.0</td>\n",
       "    </tr>\n",
       "    <tr>\n",
       "      <th>2020-01-06</th>\n",
       "      <td>1557.0</td>\n",
       "      <td>1347.0</td>\n",
       "    </tr>\n",
       "    <tr>\n",
       "      <th>2020-01-07</th>\n",
       "      <td>1290.0</td>\n",
       "      <td>1652.0</td>\n",
       "    </tr>\n",
       "    <tr>\n",
       "      <th>2020-01-08</th>\n",
       "      <td>1744.0</td>\n",
       "      <td>1197.0</td>\n",
       "    </tr>\n",
       "  </tbody>\n",
       "</table>\n",
       "</div>"
      ],
      "text/plain": [
       "            Advances  Declines\n",
       "Date                          \n",
       "2020-01-02    1808.0    1147.0\n",
       "2020-01-03    1387.0    1543.0\n",
       "2020-01-06    1557.0    1347.0\n",
       "2020-01-07    1290.0    1652.0\n",
       "2020-01-08    1744.0    1197.0"
      ]
     },
     "execution_count": 8,
     "metadata": {},
     "output_type": "execute_result"
    }
   ],
   "source": [
    "df = pd.DataFrame()\n",
    "df['Advances'] = Advances\n",
    "df['Declines'] = Declines\n",
    "df.head()"
   ]
  },
  {
   "cell_type": "code",
   "execution_count": 9,
   "metadata": {
    "collapsed": false,
    "inputHidden": false,
    "jupyter": {
     "outputs_hidden": false
    },
    "outputHidden": false
   },
   "outputs": [],
   "source": [
    "#Ratio Adjusted Net Advances (RANA): (Advances - Declines)/(Advances + Declines)  \n",
    "#RANA = (advances - declines) / (advances + declines)  \n",
    "# df['Net_Advances'] = df['Advances'] - df['Declines']\n",
    "# df['Ratio_Adjusted'] = (df['Net_Advances']/(df['Advances'] + df['Declines']))*1000\n",
    "df['Net_Advances'] = df['Advances'] - df['Declines'] \n",
    "df['Ratio_Adjusted'] = (df['Net_Advances']/(df['Advances'] + df['Declines'])) * 1000\n",
    "df['19_EMA'] = ta.EMA(df['Ratio_Adjusted'], timeperiod=19)\n",
    "df['39_EMA'] = ta.EMA(df['Ratio_Adjusted'], timeperiod=39)\n",
    "df['RANA'] = (df['Advances'] - df['Declines']) / (df['Advances'] + df['Declines']) * 1000"
   ]
  },
  {
   "cell_type": "code",
   "execution_count": 10,
   "metadata": {
    "collapsed": false,
    "inputHidden": false,
    "jupyter": {
     "outputs_hidden": false
    },
    "outputHidden": false
   },
   "outputs": [
    {
     "data": {
      "text/html": [
       "<div>\n",
       "<style scoped>\n",
       "    .dataframe tbody tr th:only-of-type {\n",
       "        vertical-align: middle;\n",
       "    }\n",
       "\n",
       "    .dataframe tbody tr th {\n",
       "        vertical-align: top;\n",
       "    }\n",
       "\n",
       "    .dataframe thead th {\n",
       "        text-align: right;\n",
       "    }\n",
       "</style>\n",
       "<table border=\"1\" class=\"dataframe\">\n",
       "  <thead>\n",
       "    <tr style=\"text-align: right;\">\n",
       "      <th></th>\n",
       "      <th>Advances</th>\n",
       "      <th>Declines</th>\n",
       "      <th>Net_Advances</th>\n",
       "      <th>Ratio_Adjusted</th>\n",
       "      <th>19_EMA</th>\n",
       "      <th>39_EMA</th>\n",
       "      <th>RANA</th>\n",
       "    </tr>\n",
       "    <tr>\n",
       "      <th>Date</th>\n",
       "      <th></th>\n",
       "      <th></th>\n",
       "      <th></th>\n",
       "      <th></th>\n",
       "      <th></th>\n",
       "      <th></th>\n",
       "      <th></th>\n",
       "    </tr>\n",
       "  </thead>\n",
       "  <tbody>\n",
       "    <tr>\n",
       "      <th>2020-01-20</th>\n",
       "      <td>1480.0</td>\n",
       "      <td>1431.0</td>\n",
       "      <td>49.0</td>\n",
       "      <td>16.832704</td>\n",
       "      <td>NaN</td>\n",
       "      <td>NaN</td>\n",
       "      <td>16.832704</td>\n",
       "    </tr>\n",
       "    <tr>\n",
       "      <th>2020-01-21</th>\n",
       "      <td>1160.0</td>\n",
       "      <td>1788.0</td>\n",
       "      <td>-628.0</td>\n",
       "      <td>-213.025780</td>\n",
       "      <td>NaN</td>\n",
       "      <td>NaN</td>\n",
       "      <td>-213.025780</td>\n",
       "    </tr>\n",
       "    <tr>\n",
       "      <th>2020-01-22</th>\n",
       "      <td>1452.0</td>\n",
       "      <td>1458.0</td>\n",
       "      <td>-6.0</td>\n",
       "      <td>-2.061856</td>\n",
       "      <td>NaN</td>\n",
       "      <td>NaN</td>\n",
       "      <td>-2.061856</td>\n",
       "    </tr>\n",
       "    <tr>\n",
       "      <th>2020-01-23</th>\n",
       "      <td>1459.0</td>\n",
       "      <td>1425.0</td>\n",
       "      <td>34.0</td>\n",
       "      <td>11.789182</td>\n",
       "      <td>NaN</td>\n",
       "      <td>NaN</td>\n",
       "      <td>11.789182</td>\n",
       "    </tr>\n",
       "    <tr>\n",
       "      <th>2020-01-24</th>\n",
       "      <td>848.0</td>\n",
       "      <td>2081.0</td>\n",
       "      <td>-1233.0</td>\n",
       "      <td>-420.962786</td>\n",
       "      <td>NaN</td>\n",
       "      <td>NaN</td>\n",
       "      <td>-420.962786</td>\n",
       "    </tr>\n",
       "    <tr>\n",
       "      <th>2020-01-27</th>\n",
       "      <td>620.0</td>\n",
       "      <td>2331.0</td>\n",
       "      <td>-1711.0</td>\n",
       "      <td>-579.803456</td>\n",
       "      <td>NaN</td>\n",
       "      <td>NaN</td>\n",
       "      <td>-579.803456</td>\n",
       "    </tr>\n",
       "    <tr>\n",
       "      <th>2020-01-28</th>\n",
       "      <td>2018.0</td>\n",
       "      <td>891.0</td>\n",
       "      <td>1127.0</td>\n",
       "      <td>387.418357</td>\n",
       "      <td>34.270516</td>\n",
       "      <td>NaN</td>\n",
       "      <td>387.418357</td>\n",
       "    </tr>\n",
       "    <tr>\n",
       "      <th>2020-01-29</th>\n",
       "      <td>1463.0</td>\n",
       "      <td>1453.0</td>\n",
       "      <td>10.0</td>\n",
       "      <td>3.429355</td>\n",
       "      <td>31.186400</td>\n",
       "      <td>NaN</td>\n",
       "      <td>3.429355</td>\n",
       "    </tr>\n",
       "    <tr>\n",
       "      <th>2020-01-30</th>\n",
       "      <td>1514.0</td>\n",
       "      <td>1385.0</td>\n",
       "      <td>129.0</td>\n",
       "      <td>44.498103</td>\n",
       "      <td>32.517571</td>\n",
       "      <td>NaN</td>\n",
       "      <td>44.498103</td>\n",
       "    </tr>\n",
       "    <tr>\n",
       "      <th>2020-01-31</th>\n",
       "      <td>611.0</td>\n",
       "      <td>2330.0</td>\n",
       "      <td>-1719.0</td>\n",
       "      <td>-584.495070</td>\n",
       "      <td>-29.183693</td>\n",
       "      <td>NaN</td>\n",
       "      <td>-584.495070</td>\n",
       "    </tr>\n",
       "    <tr>\n",
       "      <th>2020-02-03</th>\n",
       "      <td>1906.0</td>\n",
       "      <td>1025.0</td>\n",
       "      <td>881.0</td>\n",
       "      <td>300.580007</td>\n",
       "      <td>3.792677</td>\n",
       "      <td>NaN</td>\n",
       "      <td>300.580007</td>\n",
       "    </tr>\n",
       "    <tr>\n",
       "      <th>2020-02-04</th>\n",
       "      <td>2105.0</td>\n",
       "      <td>833.0</td>\n",
       "      <td>1272.0</td>\n",
       "      <td>432.947583</td>\n",
       "      <td>46.708167</td>\n",
       "      <td>NaN</td>\n",
       "      <td>432.947583</td>\n",
       "    </tr>\n",
       "    <tr>\n",
       "      <th>2020-02-05</th>\n",
       "      <td>2229.0</td>\n",
       "      <td>695.0</td>\n",
       "      <td>1534.0</td>\n",
       "      <td>524.623803</td>\n",
       "      <td>94.499731</td>\n",
       "      <td>NaN</td>\n",
       "      <td>524.623803</td>\n",
       "    </tr>\n",
       "    <tr>\n",
       "      <th>2020-02-06</th>\n",
       "      <td>1404.0</td>\n",
       "      <td>1508.0</td>\n",
       "      <td>-104.0</td>\n",
       "      <td>-35.714286</td>\n",
       "      <td>81.478329</td>\n",
       "      <td>NaN</td>\n",
       "      <td>-35.714286</td>\n",
       "    </tr>\n",
       "    <tr>\n",
       "      <th>2020-02-07</th>\n",
       "      <td>1053.0</td>\n",
       "      <td>1863.0</td>\n",
       "      <td>-810.0</td>\n",
       "      <td>-277.777778</td>\n",
       "      <td>45.552718</td>\n",
       "      <td>NaN</td>\n",
       "      <td>-277.777778</td>\n",
       "    </tr>\n",
       "    <tr>\n",
       "      <th>2020-02-10</th>\n",
       "      <td>1721.0</td>\n",
       "      <td>1212.0</td>\n",
       "      <td>509.0</td>\n",
       "      <td>173.542448</td>\n",
       "      <td>58.351691</td>\n",
       "      <td>NaN</td>\n",
       "      <td>173.542448</td>\n",
       "    </tr>\n",
       "    <tr>\n",
       "      <th>2020-02-11</th>\n",
       "      <td>0.0</td>\n",
       "      <td>0.0</td>\n",
       "      <td>0.0</td>\n",
       "      <td>NaN</td>\n",
       "      <td>NaN</td>\n",
       "      <td>NaN</td>\n",
       "      <td>NaN</td>\n",
       "    </tr>\n",
       "    <tr>\n",
       "      <th>2020-02-12</th>\n",
       "      <td>0.0</td>\n",
       "      <td>0.0</td>\n",
       "      <td>0.0</td>\n",
       "      <td>NaN</td>\n",
       "      <td>NaN</td>\n",
       "      <td>NaN</td>\n",
       "      <td>NaN</td>\n",
       "    </tr>\n",
       "    <tr>\n",
       "      <th>2020-02-13</th>\n",
       "      <td>0.0</td>\n",
       "      <td>0.0</td>\n",
       "      <td>0.0</td>\n",
       "      <td>NaN</td>\n",
       "      <td>NaN</td>\n",
       "      <td>NaN</td>\n",
       "      <td>NaN</td>\n",
       "    </tr>\n",
       "    <tr>\n",
       "      <th>2020-02-14</th>\n",
       "      <td>0.0</td>\n",
       "      <td>0.0</td>\n",
       "      <td>0.0</td>\n",
       "      <td>NaN</td>\n",
       "      <td>NaN</td>\n",
       "      <td>NaN</td>\n",
       "      <td>NaN</td>\n",
       "    </tr>\n",
       "  </tbody>\n",
       "</table>\n",
       "</div>"
      ],
      "text/plain": [
       "            Advances  Declines  Net_Advances  Ratio_Adjusted     19_EMA  \\\n",
       "Date                                                                      \n",
       "2020-01-20    1480.0    1431.0          49.0       16.832704        NaN   \n",
       "2020-01-21    1160.0    1788.0        -628.0     -213.025780        NaN   \n",
       "2020-01-22    1452.0    1458.0          -6.0       -2.061856        NaN   \n",
       "2020-01-23    1459.0    1425.0          34.0       11.789182        NaN   \n",
       "2020-01-24     848.0    2081.0       -1233.0     -420.962786        NaN   \n",
       "2020-01-27     620.0    2331.0       -1711.0     -579.803456        NaN   \n",
       "2020-01-28    2018.0     891.0        1127.0      387.418357  34.270516   \n",
       "2020-01-29    1463.0    1453.0          10.0        3.429355  31.186400   \n",
       "2020-01-30    1514.0    1385.0         129.0       44.498103  32.517571   \n",
       "2020-01-31     611.0    2330.0       -1719.0     -584.495070 -29.183693   \n",
       "2020-02-03    1906.0    1025.0         881.0      300.580007   3.792677   \n",
       "2020-02-04    2105.0     833.0        1272.0      432.947583  46.708167   \n",
       "2020-02-05    2229.0     695.0        1534.0      524.623803  94.499731   \n",
       "2020-02-06    1404.0    1508.0        -104.0      -35.714286  81.478329   \n",
       "2020-02-07    1053.0    1863.0        -810.0     -277.777778  45.552718   \n",
       "2020-02-10    1721.0    1212.0         509.0      173.542448  58.351691   \n",
       "2020-02-11       0.0       0.0           0.0             NaN        NaN   \n",
       "2020-02-12       0.0       0.0           0.0             NaN        NaN   \n",
       "2020-02-13       0.0       0.0           0.0             NaN        NaN   \n",
       "2020-02-14       0.0       0.0           0.0             NaN        NaN   \n",
       "\n",
       "            39_EMA        RANA  \n",
       "Date                            \n",
       "2020-01-20     NaN   16.832704  \n",
       "2020-01-21     NaN -213.025780  \n",
       "2020-01-22     NaN   -2.061856  \n",
       "2020-01-23     NaN   11.789182  \n",
       "2020-01-24     NaN -420.962786  \n",
       "2020-01-27     NaN -579.803456  \n",
       "2020-01-28     NaN  387.418357  \n",
       "2020-01-29     NaN    3.429355  \n",
       "2020-01-30     NaN   44.498103  \n",
       "2020-01-31     NaN -584.495070  \n",
       "2020-02-03     NaN  300.580007  \n",
       "2020-02-04     NaN  432.947583  \n",
       "2020-02-05     NaN  524.623803  \n",
       "2020-02-06     NaN  -35.714286  \n",
       "2020-02-07     NaN -277.777778  \n",
       "2020-02-10     NaN  173.542448  \n",
       "2020-02-11     NaN         NaN  \n",
       "2020-02-12     NaN         NaN  \n",
       "2020-02-13     NaN         NaN  \n",
       "2020-02-14     NaN         NaN  "
      ]
     },
     "execution_count": 10,
     "metadata": {},
     "output_type": "execute_result"
    }
   ],
   "source": [
    "df.tail(20)"
   ]
  },
  {
   "cell_type": "code",
   "execution_count": 11,
   "metadata": {
    "collapsed": false,
    "inputHidden": false,
    "jupyter": {
     "outputs_hidden": false
    },
    "outputHidden": false
   },
   "outputs": [
    {
     "data": {
      "image/png": "[encoded data removed]",
      "text/plain": [
       "<Figure size 864x432 with 1 Axes>"
      ]
     },
     "metadata": {
      "needs_background": "light"
     },
     "output_type": "display_data"
    }
   ],
   "source": [
    "plt.figure(figsize=(12,6))\n",
    "plt.plot(dfs.index, dfs['Adj Close'])\n",
    "plt.axhline(y=dfs['Adj Close'].mean(),color='r')\n",
    "plt.title('Stock Close Price')\n",
    "plt.grid()\n",
    "plt.ylabel('Price')\n",
    "plt.show()"
   ]
  },
  {
   "cell_type": "markdown",
   "metadata": {},
   "source": [
    "## Comparing Stock and McClellan Oscillator"
   ]
  },
  {
   "cell_type": "code",
   "execution_count": 12,
   "metadata": {
    "collapsed": false,
    "inputHidden": false,
    "jupyter": {
     "outputs_hidden": false
    },
    "outputHidden": false
   },
   "outputs": [
    {
     "data": {
      "text/plain": [
       "Text(0.5, 0, 'Date')"
      ]
     },
     "execution_count": 12,
     "metadata": {},
     "output_type": "execute_result"
    },
    {
     "data": {
      "image/png": "[encoded data removed]",
      "text/plain": [
       "<Figure size 1008x720 with 2 Axes>"
      ]
     },
     "metadata": {
      "needs_background": "light"
     },
     "output_type": "display_data"
    }
   ],
   "source": [
    "# Line Chart\n",
    "# See if the stock correlate with Market Indicator\n",
    "fig = plt.figure(figsize=(14,10))\n",
    "ax1 = plt.subplot(2, 1, 1)\n",
    "ax1.plot(dfs.index, dfs['Adj Close'])\n",
    "ax1.axhline(y=dfs['Adj Close'].mean(),color='r')\n",
    "ax1.grid()\n",
    "ax1.set_ylabel('Price')\n",
    "\n",
    "df['Positive'] = df['RANA'] > 0\n",
    "ax2 = plt.subplot(2, 1, 2)\n",
    "ax2.bar(df.index, df['RANA'], color=df.Positive.map({True: 'g', False: 'r'}))\n",
    "ax2.grid()\n",
    "ax2.set_ylabel('Ratio Adjusted Net Advances')\n",
    "ax2.set_xlabel('Date')"
   ]
  },
  {
   "cell_type": "markdown",
   "metadata": {},
   "source": [
    "## NYSE Advance and Declines"
   ]
  },
  {
   "cell_type": "code",
   "execution_count": 13,
   "metadata": {
    "collapsed": false,
    "inputHidden": false,
    "jupyter": {
     "outputs_hidden": false
    },
    "outputHidden": false
   },
   "outputs": [
    {
     "data": {
      "text/plain": [
       "Text(0.5, 0, 'Date')"
      ]
     },
     "execution_count": 13,
     "metadata": {},
     "output_type": "execute_result"
    },
    {
     "data": {
      "image/png": "[encoded data removed]",
      "text/plain": [
       "<Figure size 1008x720 with 2 Axes>"
      ]
     },
     "metadata": {
      "needs_background": "light"
     },
     "output_type": "display_data"
    }
   ],
   "source": [
    "fig = plt.figure(figsize=(14,10))\n",
    "df['Positive'] = df['RANA'] > 0\n",
    "ax = plt.subplot(2, 1, 1)\n",
    "ax.bar(df.index, df['RANA'], color=df.Positive.map({True: 'g', False: 'r'}))\n",
    "ax.grid()\n",
    "ax.set_ylabel('Ratio Adjusted Net Advances')\n",
    "ax.set_xlabel('Date')\n",
    "\n",
    "ax2 = plt.subplot(2, 1, 2)\n",
    "ax2.plot(df.index, df['19_EMA'], color='b', label='19-day EMA')\n",
    "ax2.plot(df.index, df['39_EMA'], color='r', label='39-day EMA')\n",
    "ax2.grid()\n",
    "ax2.set_ylabel('Ratio Adjusted Net Advances')\n",
    "ax2.legend(loc='best')\n",
    "ax2.set_xlabel('Date')"
   ]
  }
 ],
 "metadata": {
  "kernel_info": {
   "name": "python3"
  },
  "kernelspec": {
   "display_name": "Python 3 (ipykernel)",
   "language": "python",
   "name": "python3"
  },
  "language_info": {
   "codemirror_mode": {
    "name": "ipython",
    "version": 3
   },
   "file_extension": ".py",
   "mimetype": "text/x-python",
   "name": "python",
   "nbconvert_exporter": "python",
   "pygments_lexer": "ipython3",
   "version": "3.9.7"
  },
  "nteract": {
   "version": "0.12.2"
  }
 },
 "nbformat": 4,
 "nbformat_minor": 4
}
